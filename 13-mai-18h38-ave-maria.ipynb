{
 "cells": [
  {
   "cell_type": "markdown",
   "metadata": {},
   "source": [
    "###### An de grâce 2021\n",
    "\n",
    "Pourquoi faire compliqué quand on peut faire simple ?\n",
    "\n",
    "Einstein a redécouvert la roue ! $c=\\pi f 2$, ni plus ni moins que la circonférence du cercle $c=\\pi r 2$, où on obtient la longueur d'onde fondamentale $\\lambda = 2 \\pi$"
   ]
  },
  {
   "cell_type": "code",
   "execution_count": null,
   "metadata": {},
   "outputs": [],
   "source": []
  }
 ],
 "metadata": {
  "kernelspec": {
   "display_name": "SageMath 9.5.beta7",
   "language": "sage",
   "name": "sagemath"
  },
  "language_info": {
   "codemirror_mode": {
    "name": "ipython",
    "version": 3
   },
   "file_extension": ".py",
   "mimetype": "text/x-python",
   "name": "python",
   "nbconvert_exporter": "python",
   "pygments_lexer": "ipython3",
   "version": "3.8.10"
  }
 },
 "nbformat": 4,
 "nbformat_minor": 4
}
