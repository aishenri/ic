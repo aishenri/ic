{
 "cells": [
  {
   "cell_type": "markdown",
   "metadata": {},
   "source": [
    "### $\\pi$ référentiel universel"
   ]
  },
  {
   "cell_type": "markdown",
   "metadata": {},
   "source": [
    "Régulièrement, les docteurs de la science, remettent à jour les constantes, inutile et extrêment couteux, voir faux !\n",
    "\n",
    "$\\pi$ est dans toutes les formules physiques, même certains qui se croient malins veulent le bannir des formules, comme ils ont fait de l'éther, ce qui est la plus grande erreur scientifique du 20 ième siècle ! "
   ]
  },
  {
   "cell_type": "code",
   "execution_count": 6,
   "metadata": {},
   "outputs": [
    {
     "data": {
      "text/html": [
       "<html><script type=\"math/tex; mode=display\">\\newcommand{\\Bold}[1]{\\mathbf{#1}}Fréquence \\ angulaire = 2\\pi f</script></html>"
      ],
      "text/latex": [
       "\\begin{math}\n",
       "\\newcommand{\\Bold}[1]{\\mathbf{#1}}Fréquence \\ angulaire = 2\\pi f\n",
       "\\end{math}"
      ],
      "text/plain": [
       "Fréquence \\ angulaire = 2\\pi f"
      ]
     },
     "metadata": {},
     "output_type": "display_data"
    },
    {
     "data": {
      "text/html": [
       "<html><script type=\"math/tex; mode=display\">\\newcommand{\\Bold}[1]{\\mathbf{#1}}Fréquence \\ angulaire \\ en \\ Hz = rs=\\frac{1}{\\frac{1}{2\\pi f}}=2\\pi \\ rad/s=6,28=1Hz</script></html>"
      ],
      "text/latex": [
       "\\begin{math}\n",
       "\\newcommand{\\Bold}[1]{\\mathbf{#1}}Fréquence \\ angulaire \\ en \\ Hz = rs=\\frac{1}{\\frac{1}{2\\pi f}}=2\\pi \\ rad/s=6,28=1Hz\n",
       "\\end{math}"
      ],
      "text/plain": [
       "Fréquence \\ angulaire \\ en \\ Hz = rs=\\frac{1}{\\frac{1}{2\\pi f}}=2\\pi \\ rad/s=6,28=1Hz"
      ]
     },
     "metadata": {},
     "output_type": "display_data"
    }
   ],
   "source": [
    "show(LatexExpr(r\"Fréquence \\ angulaire = 2\\pi f\"))\n",
    "show(LatexExpr(r\"Fréquence \\ angulaire \\ en \\ Hz = rs=\\frac{1}{\\frac{1}{2\\pi f}}=2\\pi \\ rad/s=6,28=1Hz\"))"
   ]
  },
  {
   "cell_type": "code",
   "execution_count": 7,
   "metadata": {},
   "outputs": [
    {
     "data": {
      "text/html": [
       "<html><script type=\"math/tex; mode=display\">\\newcommand{\\Bold}[1]{\\mathbf{#1}}6.28318530717959</script></html>"
      ],
      "text/latex": [
       "\\begin{math}\n",
       "\\newcommand{\\Bold}[1]{\\mathbf{#1}}6.28318530717959\n",
       "\\end{math}"
      ],
      "text/plain": [
       "6.28318530717959"
      ]
     },
     "execution_count": 7,
     "metadata": {},
     "output_type": "execute_result"
    }
   ],
   "source": [
    "%display latex\n",
    "n(1/(1/(2*pi)))"
   ]
  },
  {
   "attachments": {
    "image.png": {
     "image/png": "[encoded data removed]"
    }
   },
   "cell_type": "markdown",
   "metadata": {},
   "source": [
    "![image.png](attachment:image.png)\n",
    "Une sphère tournant autour d'un axe. Les points plus éloignés de l'axe se déplacent plus rapidement, satisfaisant ω = v / r . Fréquence angulaire - https://fr.abcdef.wiki/wiki/Angular_frequency\n",
    "\n",
    "Dans un objet en rotation ou en orbite, il existe une relation entre la distance à l'axe, , la vitesse tangentielle , , et la fréquence angulaire de la rotation. Pendant une période, , un corps en mouvement circulaire parcourt une distance . Cette distance est également égale à la circonférence du chemin tracé par le corps, . En mettant ces deux quantités égales, et en rappelant le lien entre période et fréquence angulaire on obtient Fréquence angulaire v/r"
   ]
  },
  {
   "cell_type": "code",
   "execution_count": 8,
   "metadata": {},
   "outputs": [
    {
     "data": {
      "text/html": [
       "<html><script type=\"math/tex; mode=display\">\\newcommand{\\Bold}[1]{\\mathbf{#1}}Fréquence \\ angulaire = 2\\pi f</script></html>"
      ],
      "text/latex": [
       "\\begin{math}\n",
       "\\newcommand{\\Bold}[1]{\\mathbf{#1}}Fréquence \\ angulaire = 2\\pi f\n",
       "\\end{math}"
      ],
      "text/plain": [
       "Fréquence \\ angulaire = 2\\pi f"
      ]
     },
     "metadata": {},
     "output_type": "display_data"
    }
   ],
   "source": [
    "show(LatexExpr(r\"Fréquence \\ angulaire = 2\\pi f\"))"
   ]
  },
  {
   "cell_type": "code",
   "execution_count": 9,
   "metadata": {},
   "outputs": [
    {
     "data": {
      "text/html": [
       "<html><script type=\"math/tex; mode=display\">\\newcommand{\\Bold}[1]{\\mathbf{#1}}\\left(57.29577951308232, 628318530.7179587\\right)</script></html>"
      ],
      "text/latex": [
       "\\begin{math}\n",
       "\\newcommand{\\Bold}[1]{\\mathbf{#1}}\\left(57.29577951308232, 628318530.7179587\\right)\n",
       "\\end{math}"
      ],
      "text/plain": [
       "(57.29577951308232, 628318530.7179587)"
      ]
     },
     "execution_count": 9,
     "metadata": {},
     "output_type": "execute_result"
    }
   ],
   "source": [
    "import math\n",
    "math.degrees(1),math.radians(36000000000)"
   ]
  },
  {
   "cell_type": "markdown",
   "metadata": {},
   "source": [
    "Il est important de considérer les grandeurs 1E-34 = 1/c^4"
   ]
  },
  {
   "cell_type": "code",
   "execution_count": 11,
   "metadata": {},
   "outputs": [
    {
     "data": {
      "text/html": [
       "<html><script type=\"math/tex; mode=display\">\\newcommand{\\Bold}[1]{\\mathbf{#1}}1.11265005605362 \\times 10^{-17}</script></html>"
      ],
      "text/latex": [
       "\\begin{math}\n",
       "\\newcommand{\\Bold}[1]{\\mathbf{#1}}1.11265005605362 \\times 10^{-17}\n",
       "\\end{math}"
      ],
      "text/plain": [
       "1.11265005605362e-17"
      ]
     },
     "execution_count": 11,
     "metadata": {},
     "output_type": "execute_result"
    }
   ],
   "source": [
    "c=299792458;ci=1/c;cci=ci^2;n(cci)"
   ]
  },
  {
   "cell_type": "code",
   "execution_count": 24,
   "metadata": {},
   "outputs": [
    {
     "data": {
      "text/html": [
       "<html><script type=\"math/tex; mode=display\">\\newcommand{\\Bold}[1]{\\mathbf{#1}}6.62696125815495 \\times 10^{-34}</script></html>"
      ],
      "text/latex": [
       "\\begin{math}\n",
       "\\newcommand{\\Bold}[1]{\\mathbf{#1}}6.62696125815495 \\times 10^{-34}\n",
       "\\end{math}"
      ],
      "text/plain": [
       "6.62696125815495e-34"
      ]
     },
     "execution_count": 24,
     "metadata": {},
     "output_type": "execute_result"
    }
   ],
   "source": [
    "n(cci)^2*5.353"
   ]
  },
  {
   "cell_type": "code",
   "execution_count": 25,
   "metadata": {},
   "outputs": [
    {
     "data": {
      "text/html": [
       "<html><script type=\"math/tex; mode=display\">\\newcommand{\\Bold}[1]{\\mathbf{#1}}1.05474474902991 \\times 10^{-34}</script></html>"
      ],
      "text/latex": [
       "\\begin{math}\n",
       "\\newcommand{\\Bold}[1]{\\mathbf{#1}}1.05474474902991 \\times 10^{-34}\n",
       "\\end{math}"
      ],
      "text/plain": [
       "1.05474474902991e-34"
      ]
     },
     "execution_count": 25,
     "metadata": {},
     "output_type": "execute_result"
    }
   ],
   "source": [
    "n(cci)^2*5.353/(2*3.1415)"
   ]
  },
  {
   "cell_type": "markdown",
   "metadata": {},
   "source": [
    "Inverse de c^4 environ 1E-34, donc h est un sous multiple de la célérité, plus vraisemblable une fréquence angulaire minimum ?"
   ]
  },
  {
   "cell_type": "code",
   "execution_count": 30,
   "metadata": {},
   "outputs": [
    {
     "data": {
      "text/html": [
       "<html><script type=\"math/tex; mode=display\">\\newcommand{\\Bold}[1]{\\mathbf{#1}}1.23799014723612 \\times 10^{-34}</script></html>"
      ],
      "text/latex": [
       "\\begin{math}\n",
       "\\newcommand{\\Bold}[1]{\\mathbf{#1}}1.23799014723612 \\times 10^{-34}\n",
       "\\end{math}"
      ],
      "text/plain": [
       "1.23799014723612e-34"
      ]
     },
     "execution_count": 30,
     "metadata": {},
     "output_type": "execute_result"
    }
   ],
   "source": [
    "n(1/c^4)"
   ]
  },
  {
   "cell_type": "code",
   "execution_count": null,
   "metadata": {},
   "outputs": [],
   "source": []
  },
  {
   "cell_type": "code",
   "execution_count": null,
   "metadata": {},
   "outputs": [],
   "source": []
  },
  {
   "cell_type": "code",
   "execution_count": null,
   "metadata": {},
   "outputs": [],
   "source": []
  }
 ],
 "metadata": {
  "kernelspec": {
   "display_name": "SageMath 9.2",
   "language": "sage",
   "name": "sagemath"
  },
  "language_info": {
   "codemirror_mode": {
    "name": "ipython",
    "version": 3
   },
   "file_extension": ".py",
   "mimetype": "text/x-python",
   "name": "python",
   "nbconvert_exporter": "python",
   "pygments_lexer": "ipython3",
   "version": "3.7.7"
  }
 },
 "nbformat": 4,
 "nbformat_minor": 4
}
