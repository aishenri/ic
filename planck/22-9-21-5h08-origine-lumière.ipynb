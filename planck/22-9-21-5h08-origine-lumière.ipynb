{
 "cells": [
  {
   "cell_type": "code",
   "execution_count": 2,
   "metadata": {
    "scrolled": true
   },
   "outputs": [
    {
     "data": {
      "text/html": [
       "<html><script type=\"math/tex; mode=display\">\\newcommand{\\Bold}[1]{\\mathbf{#1}}1 \\ rad \\ /s =  57.2957795130823 \\phantom{\\verb!x!}\\verb|degrés|</script></html>"
      ],
      "text/latex": [
       "\\begin{math}\n",
       "\\newcommand{\\Bold}[1]{\\mathbf{#1}}1 \\ rad \\ /s =  57.2957795130823 \\phantom{\\verb!x!}\\verb|degrés|\n",
       "\\end{math}"
      ],
      "text/plain": [
       "1 \\ rad \\ /s =  57.2957795130823 ' degrés'"
      ]
     },
     "metadata": {},
     "output_type": "display_data"
    },
    {
     "data": {
      "text/html": [
       "<html><script type=\"math/tex; mode=display\">\\newcommand{\\Bold}[1]{\\mathbf{#1}}1 \\ Hz \\ =  360 \\phantom{\\verb!x!}\\verb|degrés|</script></html>"
      ],
      "text/latex": [
       "\\begin{math}\n",
       "\\newcommand{\\Bold}[1]{\\mathbf{#1}}1 \\ Hz \\ =  360 \\phantom{\\verb!x!}\\verb|degrés|\n",
       "\\end{math}"
      ],
      "text/plain": [
       "1 \\ Hz \\ =  360 ' degrés'"
      ]
     },
     "metadata": {},
     "output_type": "display_data"
    },
    {
     "data": {
      "text/html": [
       "<html><script type=\"math/tex; mode=display\">\\newcommand{\\Bold}[1]{\\mathbf{#1}}\\omega=\\frac{d\\theta}{dt}=\\frac{2\\pi}{T}=2\\pi f</script></html>"
      ],
      "text/latex": [
       "\\begin{math}\n",
       "\\newcommand{\\Bold}[1]{\\mathbf{#1}}\\omega=\\frac{d\\theta}{dt}=\\frac{2\\pi}{T}=2\\pi f\n",
       "\\end{math}"
      ],
      "text/plain": [
       "\\omega=\\frac{d\\theta}{dt}=\\frac{2\\pi}{T}=2\\pi f"
      ]
     },
     "metadata": {},
     "output_type": "display_data"
    },
    {
     "data": {
      "text/html": [
       "<html><script type=\"math/tex; mode=display\">\\newcommand{\\Bold}[1]{\\mathbf{#1}}tpm=\\frac{2\\pi}{60}=0.1047</script></html>"
      ],
      "text/latex": [
       "\\begin{math}\n",
       "\\newcommand{\\Bold}[1]{\\mathbf{#1}}tpm=\\frac{2\\pi}{60}=0.1047\n",
       "\\end{math}"
      ],
      "text/plain": [
       "tpm=\\frac{2\\pi}{60}=0.1047"
      ]
     },
     "metadata": {},
     "output_type": "display_data"
    }
   ],
   "source": [
    "hz=2*pi;rad=hz;dg=360;deg(x)=x*180/n(pi);\n",
    "show(LatexExpr(r\"1 \\ rad \\ /s = \"),deg(1),\" degrés\")\n",
    "show(LatexExpr(r\"1 \\ Hz \\ = \"),dg,\" degrés\")\n",
    "show(LatexExpr(r\"\\omega=\\frac{d\\theta}{dt}=\\frac{2\\pi}{T}=2\\pi f\"))\n",
    "show(LatexExpr(r\"tpm=\\frac{2\\pi}{60}=0.1047\"))"
   ]
  },
  {
   "cell_type": "code",
   "execution_count": 16,
   "metadata": {},
   "outputs": [
    {
     "data": {
      "text/plain": [
       "0.159235668789809"
      ]
     },
     "execution_count": 16,
     "metadata": {},
     "output_type": "execute_result"
    }
   ],
   "source": [
    "1/(6.28) #0.1591549 Hz"
   ]
  },
  {
   "cell_type": "code",
   "execution_count": 17,
   "metadata": {},
   "outputs": [
    {
     "data": {
      "text/html": [
       "<html><script type=\"math/tex; mode=display\">\\newcommand{\\Bold}[1]{\\mathbf{#1}}\\lambda \\ de \\ broglie</script></html>"
      ],
      "text/latex": [
       "\\begin{math}\n",
       "\\newcommand{\\Bold}[1]{\\mathbf{#1}}\\lambda \\ de \\ broglie\n",
       "\\end{math}"
      ],
      "text/plain": [
       "\\lambda \\ de \\ broglie"
      ]
     },
     "metadata": {},
     "output_type": "display_data"
    },
    {
     "data": {
      "text/html": [
       "<html><script type=\"math/tex; mode=display\">\\newcommand{\\Bold}[1]{\\mathbf{#1}}\\lambda=\\frac{h}{p}=\\frac{h}{mv}\\sqrt 1-\\frac{v^2}{c^2}</script></html>"
      ],
      "text/latex": [
       "\\begin{math}\n",
       "\\newcommand{\\Bold}[1]{\\mathbf{#1}}\\lambda=\\frac{h}{p}=\\frac{h}{mv}\\sqrt 1-\\frac{v^2}{c^2}\n",
       "\\end{math}"
      ],
      "text/plain": [
       "\\lambda=\\frac{h}{p}=\\frac{h}{mv}\\sqrt 1-\\frac{v^2}{c^2}"
      ]
     },
     "metadata": {},
     "output_type": "display_data"
    }
   ],
   "source": [
    "show(LatexExpr(r\"\\lambda \\ de \\ broglie\"))\n",
    "show(LatexExpr(r\"\\lambda=\\frac{h}{p}=\\frac{h}{mv}\\sqrt 1-\\frac{v^2}{c^2}\"))"
   ]
  },
  {
   "cell_type": "markdown",
   "metadata": {},
   "source": []
  },
  {
   "attachments": {},
   "cell_type": "markdown",
   "metadata": {},
   "source": []
  },
  {
   "cell_type": "code",
   "execution_count": null,
   "metadata": {},
   "outputs": [],
   "source": []
  }
 ],
 "metadata": {
  "kernelspec": {
   "display_name": "SageMath 9.2",
   "language": "sage",
   "name": "sagemath"
  },
  "language_info": {
   "codemirror_mode": {
    "name": "ipython",
    "version": 3
   },
   "file_extension": ".py",
   "mimetype": "text/x-python",
   "name": "python",
   "nbconvert_exporter": "python",
   "pygments_lexer": "ipython3",
   "version": "3.7.7"
  }
 },
 "nbformat": 4,
 "nbformat_minor": 4
}
