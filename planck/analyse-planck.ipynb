{
 "cells": [
  {
   "cell_type": "code",
   "execution_count": 1,
   "metadata": {},
   "outputs": [
    {
     "data": {
      "text/html": [
       "<html><script type=\"math/tex; mode=display\">\\newcommand{\\Bold}[1]{\\mathbf{#1}}\\lambda=2 \\pi= 6.28318530717959</script></html>"
      ],
      "text/latex": [
       "\\begin{math}\n",
       "\\newcommand{\\Bold}[1]{\\mathbf{#1}}\\lambda=2 \\pi= 6.28318530717959\n",
       "\\end{math}"
      ],
      "text/plain": [
       "\\lambda=2 \\pi= 6.28318530717959"
      ]
     },
     "metadata": {},
     "output_type": "display_data"
    }
   ],
   "source": [
    "l=2*n(pi);show(LatexExpr(r\"\\lambda=2 \\pi=\"),l)"
   ]
  },
  {
   "cell_type": "code",
   "execution_count": 2,
   "metadata": {},
   "outputs": [
    {
     "data": {
      "text/html": [
       "<html><script type=\"math/tex; mode=display\">\\newcommand{\\Bold}[1]{\\mathbf{#1}}C. planck= 6.62600000000000 \\times 10^{-34}</script></html>"
      ],
      "text/latex": [
       "\\begin{math}\n",
       "\\newcommand{\\Bold}[1]{\\mathbf{#1}}C. planck= 6.62600000000000 \\times 10^{-34}\n",
       "\\end{math}"
      ],
      "text/plain": [
       "C. planck= 6.62600000000000e-34"
      ]
     },
     "metadata": {},
     "output_type": "display_data"
    }
   ],
   "source": [
    "h=6.626E-34;show(LatexExpr(r\"C. planck=\"),h)"
   ]
  },
  {
   "cell_type": "code",
   "execution_count": 3,
   "metadata": {},
   "outputs": [
    {
     "data": {
      "text/html": [
       "<html><script type=\"math/tex; mode=display\">\\newcommand{\\Bold}[1]{\\mathbf{#1}}\\frac{h}{\\lambda}=\\hbar =  1.05456065292690 \\times 10^{-34}</script></html>"
      ],
      "text/latex": [
       "\\begin{math}\n",
       "\\newcommand{\\Bold}[1]{\\mathbf{#1}}\\frac{h}{\\lambda}=\\hbar =  1.05456065292690 \\times 10^{-34}\n",
       "\\end{math}"
      ],
      "text/plain": [
       "\\frac{h}{\\lambda}=\\hbar =  1.05456065292690e-34"
      ]
     },
     "metadata": {},
     "output_type": "display_data"
    }
   ],
   "source": [
    "hb=h/l;show(LatexExpr(r\"\\frac{h}{\\lambda}=\\hbar = \"),hb)"
   ]
  },
  {
   "cell_type": "code",
   "execution_count": 4,
   "metadata": {},
   "outputs": [
    {
     "data": {
      "text/plain": [
       "5.57143934707310e-34"
      ]
     },
     "execution_count": 4,
     "metadata": {},
     "output_type": "execute_result"
    }
   ],
   "source": [
    "h-hb"
   ]
  },
  {
   "cell_type": "markdown",
   "metadata": {},
   "source": [
    "Le carré et le cercle ont même quadrature"
   ]
  },
  {
   "cell_type": "code",
   "execution_count": 5,
   "metadata": {},
   "outputs": [
    {
     "data": {
      "text/plain": [
       "6.62608760414968e-34"
      ]
     },
     "execution_count": 5,
     "metadata": {},
     "output_type": "execute_result"
    }
   ],
   "source": [
    "jo=1/n(pi)/2E18;ce=jo\n",
    "v=2.28-1.56;f=6.38-4.6506;pe=(v/f)*1E-14;h=pe*ce;h"
   ]
  },
  {
   "cell_type": "code",
   "execution_count": 6,
   "metadata": {},
   "outputs": [
    {
     "data": {
      "text/plain": [
       "1.59154943091895e-19"
      ]
     },
     "execution_count": 6,
     "metadata": {},
     "output_type": "execute_result"
    }
   ],
   "source": [
    "jo=1/n(pi)/2E18;jo # Millikan avait raison 1.60 est faux"
   ]
  },
  {
   "cell_type": "markdown",
   "metadata": {},
   "source": [
    "La formule $jo$ montre bien l'origine, d'un sous multiple de $\\pi$, il y a encore de la marge\n",
    "\n",
    "Q = d / U * 4 * Pi * r³ * densité * g / 3\n",
    "\n",
    " d = 0,005 m, r = 0,75 * 10 ^ -6 m, densité = 1050 kg/m³, g = 9,81 m/s², U = 273V\n",
    " \n",
    "Il en résulte une charge électrique Q = 3,33 * 10 ^ -19 C. Comme vous pouvez le voir, la charge correspond approximativement à la double charge élémentaire e = 1,6 * 10 ^ -19 \n",
    " \n",
    " "
   ]
  },
  {
   "cell_type": "code",
   "execution_count": 7,
   "metadata": {},
   "outputs": [],
   "source": [
    "d =0.005; r = 0.75E-5;de=1;g=n(pi^2);U=273"
   ]
  },
  {
   "cell_type": "code",
   "execution_count": 8,
   "metadata": {},
   "outputs": [
    {
     "data": {
      "text/plain": [
       "1.59716397735061e-19"
      ]
     },
     "execution_count": 8,
     "metadata": {},
     "output_type": "execute_result"
    }
   ],
   "source": [
    "Q=d/U*4*n(pi)*r^3*de*g/3;Q/2"
   ]
  },
  {
   "cell_type": "markdown",
   "metadata": {},
   "source": [
    "###### Constantes obsolèscences programmées\n",
    "\n",
    "Les constantes dépendent de $\\pi$ donc il est préférable de les adapter, ainsi le référentiel sera fixé une fois pour toute !\n",
    "\n",
    "Par exemple $g=\\pi^2$, plutôt que $g=9.81$ qui n'indique pas son origine !\n",
    "\n",
    "$\\sqrt \\frac{8}{8.1}\\times 10=3.14$"
   ]
  },
  {
   "cell_type": "code",
   "execution_count": 9,
   "metadata": {},
   "outputs": [
    {
     "data": {
      "text/plain": [
       "3.14"
      ]
     },
     "execution_count": 9,
     "metadata": {},
     "output_type": "execute_result"
    }
   ],
   "source": [
    "round(sqrt(8/8.1*10),2)"
   ]
  },
  {
   "cell_type": "code",
   "execution_count": 14,
   "metadata": {},
   "outputs": [
    {
     "data": {
      "text/html": [
       "<html><script type=\"math/tex; mode=display\">\\newcommand{\\Bold}[1]{\\mathbf{#1}}\\mu=\\frac{1}{\\pi \\delta^{E-8}}=L</script></html>"
      ],
      "text/latex": [
       "\\begin{math}\n",
       "\\newcommand{\\Bold}[1]{\\mathbf{#1}}\\mu=\\frac{1}{\\pi \\delta^{E-8}}=L\n",
       "\\end{math}"
      ],
      "text/plain": [
       "\\mu=\\frac{1}{\\pi \\delta^{E-8}}=L"
      ]
     },
     "metadata": {},
     "output_type": "display_data"
    },
    {
     "data": {
      "text/html": [
       "<html><script type=\"math/tex; mode=display\">\\newcommand{\\Bold}[1]{\\mathbf{#1}}\\epsilon=\\frac{1}{(\\pi \\rho^{E+8})}=C</script></html>"
      ],
      "text/latex": [
       "\\begin{math}\n",
       "\\newcommand{\\Bold}[1]{\\mathbf{#1}}\\epsilon=\\frac{1}{(\\pi \\rho^{E+8})}=C\n",
       "\\end{math}"
      ],
      "text/plain": [
       "\\epsilon=\\frac{1}{(\\pi \\rho^{E+8})}=C"
      ]
     },
     "metadata": {},
     "output_type": "display_data"
    },
    {
     "data": {
      "text/html": [
       "<html><script type=\"math/tex; mode=display\">\\newcommand{\\Bold}[1]{\\mathbf{#1}}ç=\\frac{1}{\\sqrt\\mu \\epsilon}=314159265.3</script></html>"
      ],
      "text/latex": [
       "\\begin{math}\n",
       "\\newcommand{\\Bold}[1]{\\mathbf{#1}}ç=\\frac{1}{\\sqrt\\mu \\epsilon}=314159265.3\n",
       "\\end{math}"
      ],
      "text/plain": [
       "ç=\\frac{1}{\\sqrt\\mu \\epsilon}=314159265.3"
      ]
     },
     "metadata": {},
     "output_type": "display_data"
    }
   ],
   "source": [
    "show(LatexExpr(r\"\\mu=\\frac{1}{\\pi \\delta^{E-8}}=L\"))\n",
    "show(LatexExpr(r\"\\epsilon=\\frac{1}{(\\pi \\rho^{E+8})}=C\"))\n",
    "show(LatexExpr(r\"ç=\\frac{1}{\\sqrt\\mu \\epsilon}=314159265.3\"))"
   ]
  },
  {
   "cell_type": "code",
   "execution_count": 12,
   "metadata": {},
   "outputs": [
    {
     "data": {
      "text/html": [
       "<html><script type=\"math/tex; mode=display\">\\newcommand{\\Bold}[1]{\\mathbf{#1}}ç=\\frac{1}{\\sqrt\\mu \\epsilon}= 3.14159265358979 \\times 10^{8}</script></html>"
      ],
      "text/latex": [
       "\\begin{math}\n",
       "\\newcommand{\\Bold}[1]{\\mathbf{#1}}ç=\\frac{1}{\\sqrt\\mu \\epsilon}= 3.14159265358979 \\times 10^{8}\n",
       "\\end{math}"
      ],
      "text/plain": [
       "ç=\\frac{1}{\\sqrt\\mu \\epsilon}= 3.14159265358979e8"
      ]
     },
     "metadata": {},
     "output_type": "display_data"
    }
   ],
   "source": [
    "rho=360;delta=360;s=1/(n(pi)*delta*1E+8);u=1/n(pi)*rho*1E-8\n",
    "ç=1/sqrt(u*s)\n",
    "show(LatexExpr(r\"ç=\\frac{1}{\\sqrt\\mu \\epsilon}=\"),ç)       "
   ]
  },
  {
   "cell_type": "code",
   "execution_count": 13,
   "metadata": {},
   "outputs": [
    {
     "data": {
      "text/html": [
       "<html><script type=\"math/tex; mode=display\">\\newcommand{\\Bold}[1]{\\mathbf{#1}}ç=\\frac{1}{\\sqrt L C}= 3.14159265358979 \\times 10^{8}</script></html>"
      ],
      "text/latex": [
       "\\begin{math}\n",
       "\\newcommand{\\Bold}[1]{\\mathbf{#1}}ç=\\frac{1}{\\sqrt L C}= 3.14159265358979 \\times 10^{8}\n",
       "\\end{math}"
      ],
      "text/plain": [
       "ç=\\frac{1}{\\sqrt L C}= 3.14159265358979e8"
      ]
     },
     "metadata": {},
     "output_type": "display_data"
    }
   ],
   "source": [
    "show(LatexExpr(r\"ç=\\frac{1}{\\sqrt L C}=\"),ç)"
   ]
  },
  {
   "cell_type": "markdown",
   "metadata": {},
   "source": [
    "La célérité n'est pas une vitesse mais une fréquence angulaire (fréquence propre). C'est pourquoi elle n'a pas de limite !"
   ]
  },
  {
   "cell_type": "code",
   "execution_count": 15,
   "metadata": {},
   "outputs": [
    {
     "data": {
      "text/plain": [
       "1.99861638666667e8"
      ]
     },
     "execution_count": 15,
     "metadata": {},
     "output_type": "execute_result"
    }
   ],
   "source": [
    "c=299792458;id=1.5;l=6.38E\n",
    "v=c/id;v"
   ]
  },
  {
   "cell_type": "code",
   "execution_count": null,
   "metadata": {},
   "outputs": [],
   "source": []
  }
 ],
 "metadata": {
  "kernelspec": {
   "display_name": "SageMath 9.2",
   "language": "sage",
   "name": "sagemath"
  },
  "language_info": {
   "codemirror_mode": {
    "name": "ipython",
    "version": 3
   },
   "file_extension": ".py",
   "mimetype": "text/x-python",
   "name": "python",
   "nbconvert_exporter": "python",
   "pygments_lexer": "ipython3",
   "version": "3.7.7"
  }
 },
 "nbformat": 4,
 "nbformat_minor": 4
}
