{
 "cells": [
  {
   "cell_type": "markdown",
   "metadata": {},
   "source": [
    "An de grâce 2021  ++++++++++++++++++++++     Samedi 30 octobre, 10h14\n",
    "\n",
    "##### Le bon Dieu a bien fait les choses... "
   ]
  },
  {
   "cell_type": "markdown",
   "metadata": {},
   "source": [
    "Certains (athés, sans nul doute ?) lui reproche d'avoir simplifié $\\pi=3$, je pense que leur orgueil et stupidité leur voile la vérité ?\n",
    "\n",
    "Et il fit la mer de fonte, de dix coudées d'un bord à l'autre: elle était entièrement ronde, et sa hauteur \n",
    "était de cinq coudées. Et un cordon de trente coudées l'entourait tout autour (1 Rois 07:23)"
   ]
  },
  {
   "cell_type": "code",
   "execution_count": 2,
   "metadata": {},
   "outputs": [
    {
     "data": {
      "text/plain": [
       "15.7079632679490"
      ]
     },
     "execution_count": 2,
     "metadata": {},
     "output_type": "execute_result"
    }
   ],
   "source": [
    "coud=n(pi)/6;cir30=coud*30;cir30"
   ]
  },
  {
   "cell_type": "code",
   "execution_count": 4,
   "metadata": {},
   "outputs": [
    {
     "data": {
      "text/plain": [
       "10.0000000000000"
      ]
     },
     "execution_count": 4,
     "metadata": {},
     "output_type": "execute_result"
    }
   ],
   "source": [
    "cir30/n(pi)*2"
   ]
  },
  {
   "cell_type": "code",
   "execution_count": 5,
   "metadata": {},
   "outputs": [
    {
     "data": {
      "text/plain": [
       "3.14159265358979"
      ]
     },
     "execution_count": 5,
     "metadata": {},
     "output_type": "execute_result"
    }
   ],
   "source": [
    "cir30/5 #  vrai valeur de pi"
   ]
  },
  {
   "cell_type": "markdown",
   "metadata": {},
   "source": [
    "Quand on interprète mal un problème, on trouve une solution fausse !\n",
    "\n",
    "C'est souvent le cas avec internet (malheureusement), il faut vérifier ce genre de critique pour que les enfants apprennent la vérité (elle sort de leur bouche souvent plus facilement que les adultes !)\n",
    "\n",
    "Ici, il faut convertir la mesure en coudée, puisqu'il s'agit de 30 coudées de circonférence, la Génèse est la vérité et on n'a pas vraiment besoin de cet exemple pour le comprendre ? "
   ]
  },
  {
   "cell_type": "markdown",
   "metadata": {},
   "source": [
    "Rappel sur $\\pi$ pour ceux qui ont oublié (normal on ne manipule pas cette constante tous les jours)"
   ]
  },
  {
   "cell_type": "code",
   "execution_count": 6,
   "metadata": {},
   "outputs": [
    {
     "data": {
      "text/plain": [
       "3.14159265358979323846264338327950"
      ]
     },
     "execution_count": 6,
     "metadata": {},
     "output_type": "execute_result"
    }
   ],
   "source": [
    "n(pi,digits=33)"
   ]
  },
  {
   "cell_type": "markdown",
   "metadata": {},
   "source": [
    "Saviez vous qu'il y a un zéro pour la 32 ième décimale ?\n",
    "Je l'ai appris tard (60 ans) en faisant le calcul. Pour moi, c'est illogique que $\\pi$ contiennent des zéros !"
   ]
  },
  {
   "cell_type": "code",
   "execution_count": null,
   "metadata": {},
   "outputs": [],
   "source": []
  }
 ],
 "metadata": {
  "kernelspec": {
   "display_name": "SageMath 9.2",
   "language": "sage",
   "name": "sagemath"
  },
  "language_info": {
   "codemirror_mode": {
    "name": "ipython",
    "version": 3
   },
   "file_extension": ".py",
   "mimetype": "text/x-python",
   "name": "python",
   "nbconvert_exporter": "python",
   "pygments_lexer": "ipython3",
   "version": "3.7.7"
  }
 },
 "nbformat": 4,
 "nbformat_minor": 4
}
