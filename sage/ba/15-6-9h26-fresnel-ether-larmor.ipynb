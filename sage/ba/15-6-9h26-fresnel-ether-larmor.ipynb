{
 "cells": [
  {
   "cell_type": "markdown",
   "metadata": {},
   "source": [
    "#### Ether : Impédance du vide.\n",
    "\n",
    "Fresnel : La réfraction dépend du changement de la densité de l'éther ?\n",
    "\n",
    "Il avait vu juste, simplement qu'à l'époque (et même maintenant, car je viens juste de le découvrir), la densité de l'éther est une impédance, c'est-à-dire une résistance, pour le vide la science l'a attribuée à $120 \\Omega$ environ. La densité est l'inverse de la célérité : Dit autrement, l'indice de réfraction (la densité , l'éther), est l'inverse de la célérité :\n",
    "\n",
    "$n^2=\\mu\\epsilon=\\frac{1}{c^2}$\n",
    "\n",
    "$c^2=\\frac{1}{n^2}$\n",
    "\n",
    "$r=\\frac{1}{1-\\frac{\\omega^2}{f_r^2}}$"
   ]
  },
  {
   "cell_type": "code",
   "execution_count": 3,
   "metadata": {},
   "outputs": [
    {
     "data": {
      "text/html": [
       "<html><script type=\"math/tex; mode=display\">\\newcommand{\\Bold}[1]{\\mathbf{#1}}\\verb|mu=| 1.25663706143592 \\times 10^{-6}</script></html>"
      ],
      "text/latex": [
       "\\begin{math}\n",
       "\\newcommand{\\Bold}[1]{\\mathbf{#1}}\\verb|mu=| 1.25663706143592 \\times 10^{-6}\n",
       "\\end{math}"
      ],
      "text/plain": [
       "'mu=' 1.25663706143592e-6"
      ]
     },
     "metadata": {},
     "output_type": "display_data"
    },
    {
     "data": {
      "text/html": [
       "<html><script type=\"math/tex; mode=display\">\\newcommand{\\Bold}[1]{\\mathbf{#1}}\\verb|epsilon=| 8.85418781762039 \\times 10^{-12}</script></html>"
      ],
      "text/latex": [
       "\\begin{math}\n",
       "\\newcommand{\\Bold}[1]{\\mathbf{#1}}\\verb|epsilon=| 8.85418781762039 \\times 10^{-12}\n",
       "\\end{math}"
      ],
      "text/plain": [
       "'epsilon=' 8.85418781762039e-12"
      ]
     },
     "metadata": {},
     "output_type": "display_data"
    },
    {
     "data": {
      "text/html": [
       "<html><script type=\"math/tex; mode=display\">\\newcommand{\\Bold}[1]{\\mathbf{#1}}\\verb|c^2=| 8.98755178736818 \\times 10^{16}</script></html>"
      ],
      "text/latex": [
       "\\begin{math}\n",
       "\\newcommand{\\Bold}[1]{\\mathbf{#1}}\\verb|c^2=| 8.98755178736818 \\times 10^{16}\n",
       "\\end{math}"
      ],
      "text/plain": [
       "'c^2=' 8.98755178736818e16"
      ]
     },
     "metadata": {},
     "output_type": "display_data"
    },
    {
     "data": {
      "text/html": [
       "<html><script type=\"math/tex; mode=display\">\\newcommand{\\Bold}[1]{\\mathbf{#1}}\\verb|n^2=1/c^2=| 1.11265005605362 \\times 10^{-17}</script></html>"
      ],
      "text/latex": [
       "\\begin{math}\n",
       "\\newcommand{\\Bold}[1]{\\mathbf{#1}}\\verb|n^2=1/c^2=| 1.11265005605362 \\times 10^{-17}\n",
       "\\end{math}"
      ],
      "text/plain": [
       "'n^2=1/c^2=' 1.11265005605362e-17"
      ]
     },
     "metadata": {},
     "output_type": "display_data"
    }
   ],
   "source": [
    "%display latex\n",
    "c=299792458;mu=n(pi)*4E-7;ep=1/(mu*c*c)\n",
    "show(\"mu=\",mu)\n",
    "show(\"epsilon=\",ep)\n",
    "show(\"c^2=\",1/(mu*ep))\n",
    "show(\"n^2=1/c^2=\",(mu*ep))"
   ]
  },
  {
   "cell_type": "markdown",
   "metadata": {},
   "source": [
    "Ceci montre que l'éther ne dépends pas de la vitesse de la terre et qu'à aucun moment on ne peut discerner la vitesse de la lumière avec les expériences qui ont été essayé pour prouver $c$.\n",
    "\n",
    "Les physiciens ont confondu accélération et vitesse : La célérité $c$ dure une seconde, l'accérélation dure aussi une seconde, mais elle est $c$ fois plus rapide, chemin parcouru par $c$ en 1 seconde :\n",
    "c=299792.548 km/s\n",
    "\n",
    "chemin parcouru par $c^2$ en 1 seconde : $c^2=299792.548^2$=89875571836332304 kms\n",
    "\n",
    "On ne peut pas dire que cela est la même vitesse,$c^2$ est supraluminique et indique que si on envoie une particule à cette vitesse elle sera transformée en soupe atomique."
   ]
  },
  {
   "cell_type": "code",
   "execution_count": 4,
   "metadata": {},
   "outputs": [
    {
     "data": {
      "text/html": [
       "<html><script type=\"math/tex; mode=display\">\\newcommand{\\Bold}[1]{\\mathbf{#1}}89875571836332304</script></html>"
      ],
      "text/latex": [
       "\\begin{math}\n",
       "\\newcommand{\\Bold}[1]{\\mathbf{#1}}89875571836332304\n",
       "\\end{math}"
      ],
      "text/plain": [
       "89875571836332304"
      ]
     },
     "execution_count": 4,
     "metadata": {},
     "output_type": "execute_result"
    }
   ],
   "source": [
    "c=299792548;c^2"
   ]
  },
  {
   "cell_type": "code",
   "execution_count": 5,
   "metadata": {},
   "outputs": [
    {
     "data": {
      "text/html": [
       "<html><script type=\"math/tex; mode=display\">\\newcommand{\\Bold}[1]{\\mathbf{#1}}89875571836332304</script></html>"
      ],
      "text/latex": [
       "\\begin{math}\n",
       "\\newcommand{\\Bold}[1]{\\mathbf{#1}}89875571836332304\n",
       "\\end{math}"
      ],
      "text/plain": [
       "89875571836332304"
      ]
     },
     "execution_count": 5,
     "metadata": {},
     "output_type": "execute_result"
    }
   ],
   "source": [
    "m=1;m*c^2"
   ]
  },
  {
   "cell_type": "markdown",
   "metadata": {},
   "source": [
    "C'est curieux l'année lumière correspond à peu près à la célérité au carré ?\n",
    "\n",
    "10 Pm = 10000 milliard de kms \n",
    "\n",
    "Avec ma chiracécité $ç=314159265$ c'est encore plus proche."
   ]
  },
  {
   "cell_type": "code",
   "execution_count": 7,
   "metadata": {},
   "outputs": [
    {
     "data": {
      "text/html": [
       "<html><script type=\"math/tex; mode=display\">\\newcommand{\\Bold}[1]{\\mathbf{#1}}98696043785340225</script></html>"
      ],
      "text/latex": [
       "\\begin{math}\n",
       "\\newcommand{\\Bold}[1]{\\mathbf{#1}}98696043785340225\n",
       "\\end{math}"
      ],
      "text/plain": [
       "98696043785340225"
      ]
     },
     "execution_count": 7,
     "metadata": {},
     "output_type": "execute_result"
    }
   ],
   "source": [
    "ç=314159265;ç^2"
   ]
  },
  {
   "cell_type": "code",
   "execution_count": null,
   "metadata": {},
   "outputs": [],
   "source": []
  }
 ],
 "metadata": {
  "kernelspec": {
   "display_name": "SageMath 9.2",
   "language": "sage",
   "name": "sagemath"
  },
  "language_info": {
   "codemirror_mode": {
    "name": "ipython",
    "version": 3
   },
   "file_extension": ".py",
   "mimetype": "text/x-python",
   "name": "python",
   "nbconvert_exporter": "python",
   "pygments_lexer": "ipython3",
   "version": "3.7.7"
  }
 },
 "nbformat": 4,
 "nbformat_minor": 2
}
