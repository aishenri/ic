{
 "cells": [
  {
   "cell_type": "code",
   "execution_count": 1,
   "metadata": {},
   "outputs": [],
   "source": [
    "%display latex\n",
    "import warnings;warnings.filterwarnings(\n",
    "\"ignore\",category=DeprecationWarning)"
   ]
  },
  {
   "cell_type": "markdown",
   "metadata": {},
   "source": [
    "$\\lambda=\\frac{\\frac{1}{\\sqrt\\mu\\epsilon}}{\\frac{1}{2\\pi\\sqrt\\mu\\epsilon}}$ = $\\frac{c}{\\nu}$=$2\\pi$"
   ]
  },
  {
   "cell_type": "code",
   "execution_count": 2,
   "metadata": {},
   "outputs": [
    {
     "data": {
      "text/html": [
       "<html><script type=\"math/tex; mode=display\">\\newcommand{\\Bold}[1]{\\mathbf{#1}}\\lambda_{0} = 2 \\, \\pi</script></html>"
      ],
      "text/latex": [
       "\\begin{math}\n",
       "\\newcommand{\\Bold}[1]{\\mathbf{#1}}\\lambda_{0} = 2 \\, \\pi\n",
       "\\end{math}"
      ],
      "text/plain": [
       "lambda_0 == 2*pi"
      ]
     },
     "execution_count": 2,
     "metadata": {},
     "output_type": "execute_result"
    }
   ],
   "source": [
    "var(\"lambda_0 mu epsilon c nu omega\") \n",
    "lo=lambda_0==(1/sqrt(mu*epsilon)/ \\\n",
    "(1/(2*pi*sqrt(mu*epsilon))));lo"
   ]
  },
  {
   "cell_type": "code",
   "execution_count": 3,
   "metadata": {},
   "outputs": [
    {
     "data": {
      "text/html": [
       "<html><script type=\"math/tex; mode=display\">\\newcommand{\\Bold}[1]{\\mathbf{#1}}f_{a} = \\frac{1}{\\sqrt{\\epsilon \\mu}}</script></html>"
      ],
      "text/latex": [
       "\\begin{math}\n",
       "\\newcommand{\\Bold}[1]{\\mathbf{#1}}f_{a} = \\frac{1}{\\sqrt{\\epsilon \\mu}}\n",
       "\\end{math}"
      ],
      "text/plain": [
       "f_a == 1/sqrt(epsilon*mu)"
      ]
     },
     "execution_count": 3,
     "metadata": {},
     "output_type": "execute_result"
    }
   ],
   "source": [
    "var(\"lambda_0 mu epsilon f_a c nu w f_r omega\") \n",
    "c0=f_a==1/sqrt(mu*epsilon);c0 # fréquence angulaire"
   ]
  },
  {
   "cell_type": "code",
   "execution_count": 4,
   "metadata": {},
   "outputs": [
    {
     "data": {
      "text/html": [
       "<html><script type=\"math/tex; mode=display\">\\newcommand{\\Bold}[1]{\\mathbf{#1}}f_{r} = \\frac{1}{2 \\, \\pi \\sqrt{\\epsilon \\mu}}</script></html>"
      ],
      "text/latex": [
       "\\begin{math}\n",
       "\\newcommand{\\Bold}[1]{\\mathbf{#1}}f_{r} = \\frac{1}{2 \\, \\pi \\sqrt{\\epsilon \\mu}}\n",
       "\\end{math}"
      ],
      "text/plain": [
       "f_r == 1/2/(pi*sqrt(epsilon*mu))"
      ]
     },
     "execution_count": 4,
     "metadata": {},
     "output_type": "execute_result"
    }
   ],
   "source": [
    "n0=f_r==1/(2*pi*sqrt(mu*epsilon));n0"
   ]
  },
  {
   "cell_type": "code",
   "execution_count": 5,
   "metadata": {},
   "outputs": [
    {
     "data": {
      "text/html": [
       "<html><script type=\"math/tex; mode=display\">\\newcommand{\\Bold}[1]{\\mathbf{#1}}\\frac{f_{a}}{f_{r}} = 2 \\, \\pi</script></html>"
      ],
      "text/latex": [
       "\\begin{math}\n",
       "\\newcommand{\\Bold}[1]{\\mathbf{#1}}\\frac{f_{a}}{f_{r}} = 2 \\, \\pi\n",
       "\\end{math}"
      ],
      "text/plain": [
       "f_a/f_r == 2*pi"
      ]
     },
     "execution_count": 5,
     "metadata": {},
     "output_type": "execute_result"
    }
   ],
   "source": [
    "c0/n0 # définition du radian (720°)"
   ]
  },
  {
   "cell_type": "code",
   "execution_count": 6,
   "metadata": {},
   "outputs": [
    {
     "data": {
      "image/png": "[encoded data removed]",
      "text/plain": [
       "Graphics object consisting of 1 graphics primitive"
      ]
     },
     "metadata": {},
     "output_type": "display_data"
    }
   ],
   "source": [
    "p=plot(sqrt(1-x^2),x,-1,1);\n",
    "show(p,aspect_ratio=1,figsize=2,fontsize=5);"
   ]
  },
  {
   "cell_type": "code",
   "execution_count": 7,
   "metadata": {},
   "outputs": [
    {
     "data": {
      "image/png": "[encoded data removed]",
      "text/plain": [
       "Graphics object consisting of 1 graphics primitive"
      ]
     },
     "metadata": {},
     "output_type": "display_data"
    }
   ],
   "source": [
    "q=plot(-sqrt(1-x^2),x,-1,1,color=\"red\");\n",
    "show(q,aspect_ratio=1,figsize=2,fontsize=5);"
   ]
  },
  {
   "cell_type": "code",
   "execution_count": 8,
   "metadata": {},
   "outputs": [
    {
     "data": {
      "image/png": "[encoded data removed]",
      "text/plain": [
       "Graphics object consisting of 2 graphics primitives"
      ]
     },
     "metadata": {},
     "output_type": "display_data"
    }
   ],
   "source": [
    "show(p+q,aspect_ratio=1,figsize=3,fontsize=5)"
   ]
  },
  {
   "cell_type": "markdown",
   "metadata": {},
   "source": [
    "##### Facteur de Lorenz"
   ]
  },
  {
   "cell_type": "code",
   "execution_count": 9,
   "metadata": {},
   "outputs": [],
   "source": [
    "# Relation masse énergie\n",
    "c=1;beta(v)=1/sqrt(1-(v^2/c^2))\n",
    "E(v,m)=beta(v)*m*c**2"
   ]
  },
  {
   "cell_type": "code",
   "execution_count": 10,
   "metadata": {},
   "outputs": [],
   "source": [
    "p=plot(E(v,30),xmin=-0.8,xmax=0.8);"
   ]
  },
  {
   "cell_type": "code",
   "execution_count": 11,
   "metadata": {},
   "outputs": [
    {
     "data": {
      "image/png": "[encoded data removed]",
      "text/plain": [
       "Graphics object consisting of 1 graphics primitive"
      ]
     },
     "metadata": {},
     "output_type": "display_data"
    }
   ],
   "source": [
    "show(p,figsize=(3,2),fontsize=6,frame=True,\n",
    "axes_labels=('$c$','$E$'));"
   ]
  },
  {
   "cell_type": "code",
   "execution_count": 12,
   "metadata": {},
   "outputs": [
    {
     "data": {
      "image/png": "[encoded data removed]",
      "text/plain": [
       "Graphics object consisting of 2 graphics primitives"
      ]
     },
     "metadata": {},
     "output_type": "display_data"
    }
   ],
   "source": [
    "# Contraction des longueurs\n",
    "c=1;gamma(v)=1/sqrt(1-(v^2/c^2))\n",
    "Long(L,v)=L/gamma(v);q=plot(Long(1,v),fill=True,\n",
    "fillcolor=\"lightsalmon\")\n",
    "show(q,figsize=(3,2),fontsize=6,frame=True,\n",
    "     axes_labels=('$c$','$L$'),aspect_ratio=1);                          "
   ]
  },
  {
   "cell_type": "code",
   "execution_count": 13,
   "metadata": {},
   "outputs": [
    {
     "data": {
      "text/html": [
       "<html><script type=\"math/tex; mode=display\">\\newcommand{\\Bold}[1]{\\mathbf{#1}}\\left( m, v \\right) \\ {\\mapsto} \\ \\frac{1}{2} \\, m v^{2}</script></html>"
      ],
      "text/latex": [
       "\\begin{math}\n",
       "\\newcommand{\\Bold}[1]{\\mathbf{#1}}\\left( m, v \\right) \\ {\\mapsto} \\ \\frac{1}{2} \\, m v^{2}\n",
       "\\end{math}"
      ],
      "text/plain": [
       "(m, v) |--> 1/2*m*v^2"
      ]
     },
     "execution_count": 13,
     "metadata": {},
     "output_type": "execute_result"
    }
   ],
   "source": [
    "kinetic(m,v)=(1/2)*m*v^2;kinetic"
   ]
  },
  {
   "cell_type": "code",
   "execution_count": 14,
   "metadata": {},
   "outputs": [
    {
     "data": {
      "text/html": [
       "<html><script type=\"math/tex; mode=display\">\\newcommand{\\Bold}[1]{\\mathbf{#1}}\\left( m, v \\right) \\ {\\mapsto} \\ -m + \\frac{m}{\\sqrt{-v^{2} + 1}}</script></html>"
      ],
      "text/latex": [
       "\\begin{math}\n",
       "\\newcommand{\\Bold}[1]{\\mathbf{#1}}\\left( m, v \\right) \\ {\\mapsto} \\ -m + \\frac{m}{\\sqrt{-v^{2} + 1}}\n",
       "\\end{math}"
      ],
      "text/plain": [
       "(m, v) |--> -m + m/sqrt(-v^2 + 1)"
      ]
     },
     "execution_count": 14,
     "metadata": {},
     "output_type": "execute_result"
    }
   ],
   "source": [
    "kinetic2(m,v)=gamma(v) * m * c^2- m*c^2;kinetic2 "
   ]
  },
  {
   "cell_type": "code",
   "execution_count": 15,
   "metadata": {},
   "outputs": [],
   "source": [
    "k2=plot(kinetic2(20,v),color=\"red\")\n",
    "k1=plot(kinetic(20,v),color=\"green\")"
   ]
  },
  {
   "cell_type": "code",
   "execution_count": 16,
   "metadata": {},
   "outputs": [
    {
     "data": {
      "image/png": "[encoded data removed]",
      "text/plain": [
       "Graphics object consisting of 2 graphics primitives"
      ]
     },
     "metadata": {},
     "output_type": "display_data"
    }
   ],
   "source": [
    "show(k1+k2,figsize=(3,3),xmin=-1,ymax=10,fontsize=6,\n",
    "frame=True,axes=False,axes_labels=('$v$','$Ec$'))"
   ]
  },
  {
   "cell_type": "code",
   "execution_count": 17,
   "metadata": {},
   "outputs": [
    {
     "data": {
      "text/html": [
       "<html><script type=\"math/tex; mode=display\">\\newcommand{\\Bold}[1]{\\mathbf{#1}}1.12837916709551</script></html>"
      ],
      "text/latex": [
       "\\begin{math}\n",
       "\\newcommand{\\Bold}[1]{\\mathbf{#1}}1.12837916709551\n",
       "\\end{math}"
      ],
      "text/plain": [
       "1.12837916709551"
      ]
     },
     "execution_count": 17,
     "metadata": {},
     "output_type": "execute_result"
    }
   ],
   "source": [
    "r=2/sqrt(n(pi));\n",
    "f(x)=sqrt(r^2-x^2);r"
   ]
  },
  {
   "cell_type": "code",
   "execution_count": 18,
   "metadata": {},
   "outputs": [
    {
     "data": {
      "text/html": [
       "<html><script type=\"math/tex; mode=display\">\\newcommand{\\Bold}[1]{\\mathbf{#1}}1023.55547608840</script></html>"
      ],
      "text/latex": [
       "\\begin{math}\n",
       "\\newcommand{\\Bold}[1]{\\mathbf{#1}}1023.55547608840\n",
       "\\end{math}"
      ],
      "text/plain": [
       "1023.55547608840"
      ]
     },
     "execution_count": 18,
     "metadata": {},
     "output_type": "execute_result"
    }
   ],
   "source": [
    "# coudée royale \n",
    "c=n(pi)/6;r=sqrt(2.0)\n",
    "cp=c*r*n(pi)*439.995154;cp"
   ]
  },
  {
   "cell_type": "code",
   "execution_count": 19,
   "metadata": {},
   "outputs": [
    {
     "data": {
      "text/html": [
       "<html><script type=\"math/tex; mode=display\">\\newcommand{\\Bold}[1]{\\mathbf{#1}}723.770989413219</script></html>"
      ],
      "text/latex": [
       "\\begin{math}\n",
       "\\newcommand{\\Bold}[1]{\\mathbf{#1}}723.770989413219\n",
       "\\end{math}"
      ],
      "text/plain": [
       "723.770989413219"
      ]
     },
     "execution_count": 19,
     "metadata": {},
     "output_type": "execute_result"
    }
   ],
   "source": [
    "cr=n(pi)/6;cr\n",
    "rp=c*n(pi)*440;rp"
   ]
  },
  {
   "cell_type": "code",
   "execution_count": 20,
   "metadata": {},
   "outputs": [],
   "source": [
    "cc=439.995154\n",
    "ll=cr*cc*r*n(pi)"
   ]
  },
  {
   "cell_type": "code",
   "execution_count": 21,
   "metadata": {},
   "outputs": [
    {
     "data": {
      "text/html": [
       "<html><script type=\"math/tex; mode=display\">\\newcommand{\\Bold}[1]{\\mathbf{#1}}299.792458025667</script></html>"
      ],
      "text/latex": [
       "\\begin{math}\n",
       "\\newcommand{\\Bold}[1]{\\mathbf{#1}}299.792458025667\n",
       "\\end{math}"
      ],
      "text/plain": [
       "299.792458025667"
      ]
     },
     "execution_count": 21,
     "metadata": {},
     "output_type": "execute_result"
    }
   ],
   "source": [
    "lc=cr*cc*n(pi)\n",
    "ll-lc"
   ]
  },
  {
   "cell_type": "code",
   "execution_count": 22,
   "metadata": {},
   "outputs": [
    {
     "data": {
      "image/png": "[encoded data removed]",
      "text/plain": [
       "Graphics object consisting of 4 graphics primitives"
      ]
     },
     "metadata": {},
     "output_type": "display_data"
    }
   ],
   "source": [
    "r=2/sqrt(n(pi));c=circle((0,0),2);\n",
    "def f(x):\n",
    "    if x<0:return sqrt(-x^2-2*x)\n",
    "    else:return -sqrt(-x^2+2*x)\n",
    "a=plot(f,(x,-2,2),color='white',fill=sqrt(4-x^2),\n",
    "fillcolor=\"grey\",alpha=0.9,linestyle=\"--\")\n",
    "b=plot(f,(x,-2,2),color='white',fill=-sqrt(4-x^2),\n",
    "fillcolor=\"lightgray\",alpha=0.9)\n",
    "a1= arc((0,0), 2, angle=pi/2, sector=(1.6,1.5*pi),\n",
    "color=\"red\",thickness=1,linestyle=\"--\")\n",
    "show(a+b,figsize=3,axes=False,fontsize=6,\n",
    "aspect_ratio=1)"
   ]
  },
  {
   "cell_type": "code",
   "execution_count": 23,
   "metadata": {},
   "outputs": [
    {
     "data": {
      "image/png": "[encoded data removed]",
      "text/plain": [
       "Graphics object consisting of 4 graphics primitives"
      ]
     },
     "metadata": {},
     "output_type": "display_data"
    }
   ],
   "source": [
    "\n",
    "show(a+b,figsize=3,axes=False,fontsize=6,\n",
    "aspect_ratio=1)"
   ]
  },
  {
   "cell_type": "markdown",
   "metadata": {},
   "source": [
    "https://echo-bat.fr/2018/08/06/acoustique-et-nombre-dor/\n",
    "\n",
    "F = C / Co = 340 / [3/2 (Ψ – 1)] = 340 / 0,4872 = 697 Hz (soit Fa4)\n",
    "\n",
    "F = C / P = 340 / (Ψ – 1) = 340 / 0,3248 = 1047 Hz (soit Do5)"
   ]
  },
  {
   "cell_type": "code",
   "execution_count": 24,
   "metadata": {},
   "outputs": [
    {
     "data": {
      "text/html": [
       "<html><script type=\"math/tex; mode=display\">\\newcommand{\\Bold}[1]{\\mathbf{#1}}1.50000000000000</script></html>"
      ],
      "text/latex": [
       "\\begin{math}\n",
       "\\newcommand{\\Bold}[1]{\\mathbf{#1}}1.50000000000000\n",
       "\\end{math}"
      ],
      "text/plain": [
       "1.50000000000000"
      ]
     },
     "execution_count": 24,
     "metadata": {},
     "output_type": "execute_result"
    }
   ],
   "source": [
    "3.0/2"
   ]
  },
  {
   "cell_type": "code",
   "execution_count": 28,
   "metadata": {},
   "outputs": [
    {
     "data": {
      "text/html": [
       "<html><script type=\"math/tex; mode=display\">\\newcommand{\\Bold}[1]{\\mathbf{#1}}0.198798775598299</script></html>"
      ],
      "text/latex": [
       "\\begin{math}\n",
       "\\newcommand{\\Bold}[1]{\\mathbf{#1}}0.198798775598299\n",
       "\\end{math}"
      ],
      "text/plain": [
       "0.198798775598299"
      ]
     },
     "execution_count": 28,
     "metadata": {},
     "output_type": "execute_result"
    }
   ],
   "source": [
    "n(pi)/6-0.3248"
   ]
  },
  {
   "cell_type": "code",
   "execution_count": 29,
   "metadata": {},
   "outputs": [
    {
     "data": {
      "text/html": [
       "<html><script type=\"math/tex; mode=display\">\\newcommand{\\Bold}[1]{\\mathbf{#1}}0.161206519580757</script></html>"
      ],
      "text/latex": [
       "\\begin{math}\n",
       "\\newcommand{\\Bold}[1]{\\mathbf{#1}}0.161206519580757\n",
       "\\end{math}"
      ],
      "text/plain": [
       "0.161206519580757"
      ]
     },
     "execution_count": 29,
     "metadata": {},
     "output_type": "execute_result"
    }
   ],
   "source": [
    "(n(pi)/60)/"
   ]
  },
  {
   "cell_type": "code",
   "execution_count": 33,
   "metadata": {},
   "outputs": [
    {
     "data": {
      "text/html": [
       "<html><script type=\"math/tex; mode=display\">\\newcommand{\\Bold}[1]{\\mathbf{#1}}1.09050773266526</script></html>"
      ],
      "text/latex": [
       "\\begin{math}\n",
       "\\newcommand{\\Bold}[1]{\\mathbf{#1}}1.09050773266526\n",
       "\\end{math}"
      ],
      "text/plain": [
       "1.09050773266526"
      ]
     },
     "execution_count": 33,
     "metadata": {},
     "output_type": "execute_result"
    }
   ],
   "source": [
    "2^(1/8.0)"
   ]
  },
  {
   "cell_type": "code",
   "execution_count": null,
   "metadata": {},
   "outputs": [],
   "source": []
  }
 ],
 "metadata": {
  "kernelspec": {
   "display_name": "SageMath 9.5.beta7",
   "language": "sage",
   "name": "sagemath"
  },
  "language_info": {
   "codemirror_mode": {
    "name": "ipython",
    "version": 3
   },
   "file_extension": ".py",
   "mimetype": "text/x-python",
   "name": "python",
   "nbconvert_exporter": "python",
   "pygments_lexer": "ipython3",
   "version": "3.8.10"
  }
 },
 "nbformat": 4,
 "nbformat_minor": 4
}
