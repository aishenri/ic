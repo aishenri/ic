{
 "cells": [
  {
   "cell_type": "markdown",
   "metadata": {},
   "source": [
    "###### Genesis of my thaughts\n",
    "\n",
    "I am born in 1945, in 1955, Einstein died, but this was a singular moment in french education. I read his book \"The Relativity\" and feel an intuition about something unlogical... You will see how my result can be analog as your from a different approach ?\n",
    "\n",
    "In relativity, Einstein said : No particle"
   ]
  }
 ],
 "metadata": {
  "kernelspec": {
   "display_name": "SageMath 9.2",
   "language": "sage",
   "name": "sagemath"
  },
  "language_info": {
   "codemirror_mode": {
    "name": "ipython",
    "version": 3
   },
   "file_extension": ".py",
   "mimetype": "text/x-python",
   "name": "python",
   "nbconvert_exporter": "python",
   "pygments_lexer": "ipython3",
   "version": "3.7.7"
  }
 },
 "nbformat": 4,
 "nbformat_minor": 4
}
