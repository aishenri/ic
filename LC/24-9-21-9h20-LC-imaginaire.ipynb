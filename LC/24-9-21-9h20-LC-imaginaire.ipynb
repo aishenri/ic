{
 "cells": [
  {
   "cell_type": "markdown",
   "metadata": {},
   "source": [
    "##### Analyse de l'éther et de la lumière\n",
    "\n",
    "Les scientifiques du 20 ième siècle se sont fourvoyés en banissant l'éther : N'ayant pas réussi à expliquer ce que c'était, ils ont créé le terme champ... C'est une erreur qui coûte chère à l'intelligence humaine, plus d'un siècle de perdue et surtout l'apparition de la bombe atomique qui peut faire disparaitre l'humanité !\n",
    "\n",
    "Ma définition de l'éther est simple : C'est l'impédance du vide, avec une valeur de 360 $\\Omega$ = degrés ° et une nouvelle constante ç=çhiracécité de ç=314159265.3"
   ]
  },
  {
   "cell_type": "code",
   "execution_count": 1,
   "metadata": {},
   "outputs": [],
   "source": [
    "L=1/n(pi)*360E-8;C=1/(n(pi)*360E+8);"
   ]
  },
  {
   "cell_type": "code",
   "execution_count": 2,
   "metadata": {},
   "outputs": [
    {
     "data": {
      "image/png": "[encoded data removed]",
      "text/plain": [
       "Graphics object consisting of 4 graphics primitives"
      ]
     },
     "metadata": {},
     "output_type": "display_data"
    }
   ],
   "source": [
    "def f(x):\n",
    "    if x<0:\n",
    "        return sqrt(-x^2-2*x)\n",
    "    else:\n",
    "        return -sqrt(-x^2+2*x)\n",
    "a=plot(f,(x,-2,2),color='white',fill=sqrt(4-x^2),\n",
    "fillcolor=\"lightgray\",alpha=0.1)\n",
    "p=plot(f,(x,-2,2),color='white',fill=-sqrt(4-x^2),\n",
    "fillcolor=\"lightsalmon\",alpha=0.1)\n",
    "b = circle((0,0),2,color=\"salmon\",alpha=0.1)\n",
    "show(a+p,figsize=2,axes=False,aspect_ratio=1)"
   ]
  },
  {
   "cell_type": "code",
   "execution_count": 3,
   "metadata": {},
   "outputs": [
    {
     "data": {
      "image/png": "[encoded data removed]",
      "text/plain": [
       "Graphics object consisting of 1 graphics primitive"
      ]
     },
     "metadata": {},
     "output_type": "display_data"
    }
   ],
   "source": [
    "p=plot(sqrt(1-x^2),x,-1,1);\n",
    "show(p,aspect_ratio=1,figsize=2,fontsize=5)"
   ]
  },
  {
   "cell_type": "code",
   "execution_count": 4,
   "metadata": {},
   "outputs": [
    {
     "data": {
      "image/png": "[encoded data removed]",
      "text/plain": [
       "Graphics object consisting of 1 graphics primitive"
      ]
     },
     "metadata": {},
     "output_type": "display_data"
    }
   ],
   "source": [
    "q=plot((-sqrt(1-x^2)),x,-1,1,color=\"red\");\n",
    "show(q,aspect_ratio=1,figsize=2,fontsize=5)"
   ]
  },
  {
   "cell_type": "code",
   "execution_count": 5,
   "metadata": {},
   "outputs": [
    {
     "data": {
      "image/png": "[encoded data removed]",
      "text/plain": [
       "Graphics object consisting of 2 graphics primitives"
      ]
     },
     "metadata": {},
     "output_type": "display_data"
    }
   ],
   "source": [
    "p4 = arc((1,0),1,angle=pi/2, sector=(6*pi/4,pi/2),\n",
    "thickness=1,color=\"lightsalmon\");\n",
    "p5 = arc((-1,0),1,angle=pi/-2, sector=(6*pi/4,pi/2),\n",
    "thickness=1,color=\"cyan\")\n",
    "show(p4+p5,figsize=3,fontsize=4)"
   ]
  },
  {
   "cell_type": "markdown",
   "metadata": {},
   "source": [
    "Un condensateur est comme un aimant, la différence est que le plus et le moins sont séparés par un isolant. Dans l'aimant c'est la distance qui isole le plus du moins donc crée un moment magnétique ou d'inertie, au milieu des 2 polarités qui sont égales."
   ]
  },
  {
   "cell_type": "code",
   "execution_count": 6,
   "metadata": {},
   "outputs": [
    {
     "data": {
      "text/plain": [
       "(3553.83784342737, 394.584037290878)"
      ]
     },
     "execution_count": 6,
     "metadata": {},
     "output_type": "execute_result"
    }
   ],
   "source": [
    "R=5;L=1.256;C=0.0884;F=50;w=2*n(pi)*F\n",
    "Xl=L*w;Xl\n",
    "Xc=1/C*w;Xc,Xl"
   ]
  },
  {
   "cell_type": "code",
   "execution_count": 7,
   "metadata": {},
   "outputs": [],
   "source": [
    "Z=sqrt(R^2)"
   ]
  },
  {
   "cell_type": "markdown",
   "metadata": {},
   "source": [
    "L'éther est l'impédance du vide et la lumière  en est la conductance !"
   ]
  },
  {
   "cell_type": "code",
   "execution_count": 8,
   "metadata": {},
   "outputs": [
    {
     "data": {
      "text/plain": [
       "0.0129097223118731"
      ]
     },
     "execution_count": 8,
     "metadata": {},
     "output_type": "execute_result"
    }
   ],
   "source": [
    "1/77.461"
   ]
  },
  {
   "cell_type": "code",
   "execution_count": 9,
   "metadata": {},
   "outputs": [
    {
     "data": {
      "text/plain": [
       "77.1604938271605"
      ]
     },
     "execution_count": 9,
     "metadata": {},
     "output_type": "execute_result"
    }
   ],
   "source": [
    "1/0.0129600"
   ]
  },
  {
   "cell_type": "code",
   "execution_count": 10,
   "metadata": {},
   "outputs": [
    {
     "data": {
      "text/plain": [
       "0.301000000000002"
      ]
     },
     "execution_count": 10,
     "metadata": {},
     "output_type": "execute_result"
    }
   ],
   "source": [
    "77.461-77.160"
   ]
  },
  {
   "cell_type": "code",
   "execution_count": 11,
   "metadata": {},
   "outputs": [],
   "source": [
    "G=2*1.602176620E-19^2/6.626E-34"
   ]
  },
  {
   "cell_type": "code",
   "execution_count": 12,
   "metadata": {},
   "outputs": [
    {
     "data": {
      "text/plain": [
       "7.71604938271605e-6"
      ]
     },
     "execution_count": 12,
     "metadata": {},
     "output_type": "execute_result"
    }
   ],
   "source": [
    "1/129600.0"
   ]
  },
  {
   "cell_type": "code",
   "execution_count": 13,
   "metadata": {},
   "outputs": [
    {
     "data": {
      "text/plain": [
       "0.159154943091895"
      ]
     },
     "execution_count": 13,
     "metadata": {},
     "output_type": "execute_result"
    }
   ],
   "source": [
    "1/(2*n(pi))"
   ]
  },
  {
   "cell_type": "code",
   "execution_count": 14,
   "metadata": {},
   "outputs": [
    {
     "data": {
      "text/plain": [
       "0.333212244672971"
      ]
     },
     "execution_count": 14,
     "metadata": {},
     "output_type": "execute_result"
    }
   ],
   "source": [
    "sqrt(L*C)"
   ]
  },
  {
   "cell_type": "code",
   "execution_count": 15,
   "metadata": {},
   "outputs": [
    {
     "data": {
      "text/plain": [
       "16.4630454025370"
      ]
     },
     "execution_count": 15,
     "metadata": {},
     "output_type": "execute_result"
    }
   ],
   "source": [
    "deg(x)=x*180/n(pi);360-deg(2.99792548*2)"
   ]
  },
  {
   "cell_type": "code",
   "execution_count": 16,
   "metadata": {},
   "outputs": [
    {
     "data": {
      "text/plain": [
       "1.04792219618481"
      ]
     },
     "execution_count": 16,
     "metadata": {},
     "output_type": "execute_result"
    }
   ],
   "source": [
    "314159265.3/299792548"
   ]
  },
  {
   "cell_type": "markdown",
   "metadata": {},
   "source": [
    "Ether impédance du vide nulle à la résonance\n",
    "\n",
    "$Xl-Xc=0=c^5$"
   ]
  },
  {
   "cell_type": "code",
   "execution_count": 17,
   "metadata": {},
   "outputs": [
    {
     "data": {
      "text/plain": [
       "6.28318530717959"
      ]
     },
     "execution_count": 17,
     "metadata": {},
     "output_type": "execute_result"
    }
   ],
   "source": [
    "hz=2*n(pi);1*hz # 2 pi"
   ]
  },
  {
   "cell_type": "code",
   "execution_count": 18,
   "metadata": {},
   "outputs": [
    {
     "data": {
      "text/plain": [
       "720"
      ]
     },
     "execution_count": 18,
     "metadata": {},
     "output_type": "execute_result"
    }
   ],
   "source": [
    "hd=360*2;720 # 2 tours"
   ]
  },
  {
   "cell_type": "code",
   "execution_count": 19,
   "metadata": {},
   "outputs": [
    {
     "data": {
      "text/plain": [
       "1440"
      ]
     },
     "execution_count": 19,
     "metadata": {},
     "output_type": "execute_result"
    }
   ],
   "source": [
    "hd*2 # 4 tours "
   ]
  },
  {
   "cell_type": "code",
   "execution_count": null,
   "metadata": {},
   "outputs": [],
   "source": []
  }
 ],
 "metadata": {
  "kernelspec": {
   "display_name": "SageMath 9.5.beta7",
   "language": "sage",
   "name": "sagemath"
  },
  "language_info": {
   "codemirror_mode": {
    "name": "ipython",
    "version": 3
   },
   "file_extension": ".py",
   "mimetype": "text/x-python",
   "name": "python",
   "nbconvert_exporter": "python",
   "pygments_lexer": "ipython3",
   "version": "3.8.10"
  }
 },
 "nbformat": 4,
 "nbformat_minor": 4
}
