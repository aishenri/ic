{
 "cells": [
  {
   "cell_type": "code",
   "execution_count": 21,
   "metadata": {},
   "outputs": [
    {
     "data": {
      "text/html": [
       "<html><script type=\"math/tex; mode=display\">\\newcommand{\\Bold}[1]{\\mathbf{#1}}\\left(\\frac{1}{2} \\, \\sqrt{\\pi}, \\frac{2}{\\sqrt{\\pi}}, -\\frac{1}{2}, \\frac{6}{\\pi^{2}}\\right)</script></html>"
      ],
      "text/latex": [
       "\\begin{math}\n",
       "\\newcommand{\\Bold}[1]{\\mathbf{#1}}\\left(\\frac{1}{2} \\, \\sqrt{\\pi}, \\frac{2}{\\sqrt{\\pi}}, -\\frac{1}{2}, \\frac{6}{\\pi^{2}}\\right)\n",
       "\\end{math}"
      ],
      "text/plain": [
       "(1/2*sqrt(pi), 2/sqrt(pi), -1/2, 6/pi^2)"
      ]
     },
     "execution_count": 21,
     "metadata": {},
     "output_type": "execute_result"
    }
   ],
   "source": [
    "%display latex\n",
    "gamma(3/2),1/factorial(1/2),zeta(0),1/zeta(2)"
   ]
  },
  {
   "cell_type": "code",
   "execution_count": 24,
   "metadata": {},
   "outputs": [
    {
     "data": {
      "text/html": [
       "<html><script type=\"math/tex; mode=display\">\\newcommand{\\Bold}[1]{\\mathbf{#1}}\\Gamma\\left(\\frac{2}{3}\\right)</script></html>"
      ],
      "text/latex": [
       "\\begin{math}\n",
       "\\newcommand{\\Bold}[1]{\\mathbf{#1}}\\Gamma\\left(\\frac{2}{3}\\right)\n",
       "\\end{math}"
      ],
      "text/plain": [
       "gamma(2/3)"
      ]
     },
     "execution_count": 24,
     "metadata": {},
     "output_type": "execute_result"
    }
   ],
   "source": [
    "factorial(-1/3)"
   ]
  },
  {
   "cell_type": "code",
   "execution_count": 55,
   "metadata": {},
   "outputs": [
    {
     "data": {
      "text/html": [
       "<html><script type=\"math/tex; mode=display\">\\newcommand{\\Bold}[1]{\\mathbf{#1}}\\left[x = i, x = \\left(-1\\right), x = \\left(-i\\right), x = 1\\right]</script></html>"
      ],
      "text/latex": [
       "\\begin{math}\n",
       "\\newcommand{\\Bold}[1]{\\mathbf{#1}}\\left[x = i, x = \\left(-1\\right), x = \\left(-i\\right), x = 1\\right]\n",
       "\\end{math}"
      ],
      "text/plain": [
       "[x == I, x == -1, x == -I, x == 1]"
      ]
     },
     "execution_count": 55,
     "metadata": {},
     "output_type": "execute_result"
    }
   ],
   "source": [
    "p=x^4-1;solve(p==0,x)"
   ]
  },
  {
   "cell_type": "code",
   "execution_count": 58,
   "metadata": {},
   "outputs": [
    {
     "data": {
      "text/html": [
       "<html><script type=\"math/tex; mode=display\">\\newcommand{\\Bold}[1]{\\mathbf{#1}}\\left[x = i, x = \\left(-1\\right), x = \\left(-i\\right), x = 1\\right]</script></html>"
      ],
      "text/latex": [
       "\\begin{math}\n",
       "\\newcommand{\\Bold}[1]{\\mathbf{#1}}\\left[x = i, x = \\left(-1\\right), x = \\left(-i\\right), x = 1\\right]\n",
       "\\end{math}"
      ],
      "text/plain": [
       "[x == I, x == -1, x == -I, x == 1]"
      ]
     },
     "execution_count": 58,
     "metadata": {},
     "output_type": "execute_result"
    }
   ],
   "source": [
    "p=x^4+1;solve(p==2,x)"
   ]
  },
  {
   "cell_type": "code",
   "execution_count": 60,
   "metadata": {},
   "outputs": [
    {
     "data": {
      "image/png": "[encoded data removed]",
      "text/plain": [
       "Graphics object consisting of 3 graphics primitives"
      ]
     },
     "metadata": {},
     "output_type": "display_data"
    }
   ],
   "source": [
    "p=polygon([(-0.5,0.5),(-0.5,-0.5),(-0.5,-0.5),\n",
    "(0.5,-0.5),(0.5,0.5),(0.5,0.5)],\n",
    " color=\"black\",fill=False)\n",
    "ri=circle((0,0),sqrt(2.0)/2,color=\"red\")\n",
    "rc=circle((0,0),1/2,color=\"blue\")\n",
    "show(rc+ri+p,gridlines=\"minor\",figsize=3,fontsize=4,\n",
    "gridlinesstyle=dict(color=\"lightgreen\",alpha=0.3,\n",
    "linestyle=\"-\"),frame=True,axes=True)"
   ]
  },
  {
   "cell_type": "markdown",
   "metadata": {},
   "source": [
    "file:///C:/Users/henri/Documents/pdf/Essai_sur_une_mani%C3%A8re_de_[...]Argand_Robert_bpt6k110283x.pdf  page 26\n",
    "\n",
    "https://gallica.bnf.fr/ark:/12148/bpt6k110283x.texteImage page 94\n",
    "\n",
    "En géométrie de position, les arcs de cercle sont les logarithmes des rayons correspondants.\n",
    "\n",
    "Les arcs de cercle imaginaires sont de logarithmes page 95:70\n",
    "\n",
    "$\\frac{\\pi}{2}\\sqrt -1=log(\\sqrt -1)$"
   ]
  },
  {
   "cell_type": "code",
   "execution_count": 62,
   "metadata": {},
   "outputs": [
    {
     "data": {
      "text/html": [
       "<html><script type=\"math/tex; mode=display\">\\newcommand{\\Bold}[1]{\\mathbf{#1}}\\frac{1}{2} i \\, \\pi = \\frac{1}{2} i \\, \\pi</script></html>"
      ],
      "text/latex": [
       "\\begin{math}\n",
       "\\newcommand{\\Bold}[1]{\\mathbf{#1}}\\frac{1}{2} i \\, \\pi = \\frac{1}{2} i \\, \\pi\n",
       "\\end{math}"
      ],
      "text/plain": [
       "1/2*I*pi == 1/2*I*pi"
      ]
     },
     "execution_count": 62,
     "metadata": {},
     "output_type": "execute_result"
    }
   ],
   "source": [
    "pi/2*sqrt(-1)==log(sqrt(-1))"
   ]
  },
  {
   "cell_type": "code",
   "execution_count": 63,
   "metadata": {},
   "outputs": [
    {
     "data": {
      "text/html": [
       "<html><script type=\"math/tex; mode=display\">\\newcommand{\\Bold}[1]{\\mathbf{#1}}-\\frac{1}{4} \\, \\pi^{2}</script></html>"
      ],
      "text/latex": [
       "\\begin{math}\n",
       "\\newcommand{\\Bold}[1]{\\mathbf{#1}}-\\frac{1}{4} \\, \\pi^{2}\n",
       "\\end{math}"
      ],
      "text/plain": [
       "-1/4*pi^2"
      ]
     },
     "execution_count": 63,
     "metadata": {},
     "output_type": "execute_result"
    }
   ],
   "source": [
    "pi/2*sqrt(-1)*log(sqrt(-1))"
   ]
  },
  {
   "cell_type": "code",
   "execution_count": 112,
   "metadata": {},
   "outputs": [
    {
     "data": {
      "text/html": [
       "<html><script type=\"math/tex; mode=display\">\\newcommand{\\Bold}[1]{\\mathbf{#1}}\\left(-\\frac{1}{64} \\, \\pi^{6}, \\frac{1}{6} \\, \\pi^{2}\\right)</script></html>"
      ],
      "text/latex": [
       "\\begin{math}\n",
       "\\newcommand{\\Bold}[1]{\\mathbf{#1}}\\left(-\\frac{1}{64} \\, \\pi^{6}, \\frac{1}{6} \\, \\pi^{2}\\right)\n",
       "\\end{math}"
      ],
      "text/plain": [
       "(-1/64*pi^6, 1/6*pi^2)"
      ]
     },
     "execution_count": 112,
     "metadata": {},
     "output_type": "execute_result"
    }
   ],
   "source": [
    "a3=(pi/2*sqrt(-1)*log(sqrt(-1)))^3;a3,zeta(2)"
   ]
  },
  {
   "cell_type": "markdown",
   "metadata": {},
   "source": [
    "on peut faire le rapprochement entre les arcs de cercle, les logarithmes naturels et les racines de l'unité et rattacher ses 3 branches et une seule et unique théorie. page 105"
   ]
  },
  {
   "cell_type": "code",
   "execution_count": 77,
   "metadata": {},
   "outputs": [
    {
     "data": {
      "text/html": [
       "<html><script type=\"math/tex; mode=display\">\\newcommand{\\Bold}[1]{\\mathbf{#1}}\\left(1.57079632679490i, 1.57079632679490i\\right)</script></html>"
      ],
      "text/latex": [
       "\\begin{math}\n",
       "\\newcommand{\\Bold}[1]{\\mathbf{#1}}\\left(1.57079632679490i, 1.57079632679490i\\right)\n",
       "\\end{math}"
      ],
      "text/plain": [
       "(1.57079632679490*I, 1.57079632679490*I)"
      ]
     },
     "execution_count": 77,
     "metadata": {},
     "output_type": "execute_result"
    }
   ],
   "source": [
    "n(pi/2*sqrt(-1)),n(log(sqrt(-1)))"
   ]
  },
  {
   "cell_type": "code",
   "execution_count": 81,
   "metadata": {},
   "outputs": [
    {
     "data": {
      "text/html": [
       "<html><script type=\"math/tex; mode=display\">\\newcommand{\\Bold}[1]{\\mathbf{#1}}2.46740110027234</script></html>"
      ],
      "text/latex": [
       "\\begin{math}\n",
       "\\newcommand{\\Bold}[1]{\\mathbf{#1}}2.46740110027234\n",
       "\\end{math}"
      ],
      "text/plain": [
       "2.46740110027234"
      ]
     },
     "execution_count": 81,
     "metadata": {},
     "output_type": "execute_result"
    }
   ],
   "source": [
    "n(pi/2*sqrt(-1)*log(sqrt(-1))*-1)"
   ]
  },
  {
   "cell_type": "code",
   "execution_count": 95,
   "metadata": {},
   "outputs": [
    {
     "data": {
      "text/html": [
       "<html><script type=\"math/tex; mode=display\">\\newcommand{\\Bold}[1]{\\mathbf{#1}}i^{i}</script></html>"
      ],
      "text/latex": [
       "\\begin{math}\n",
       "\\newcommand{\\Bold}[1]{\\mathbf{#1}}i^{i}\n",
       "\\end{math}"
      ],
      "text/plain": [
       "I^I"
      ]
     },
     "execution_count": 95,
     "metadata": {},
     "output_type": "execute_result"
    }
   ],
   "source": [
    "(sqrt(-1))^sqrt(-1)"
   ]
  },
  {
   "cell_type": "code",
   "execution_count": 94,
   "metadata": {},
   "outputs": [
    {
     "data": {
      "text/html": [
       "<html><script type=\"math/tex; mode=display\">\\newcommand{\\Bold}[1]{\\mathbf{#1}}e^{\\left(-\\frac{1}{2} \\, \\pi\\right)}</script></html>"
      ],
      "text/latex": [
       "\\begin{math}\n",
       "\\newcommand{\\Bold}[1]{\\mathbf{#1}}e^{\\left(-\\frac{1}{2} \\, \\pi\\right)}\n",
       "\\end{math}"
      ],
      "text/plain": [
       "e^(-1/2*pi)"
      ]
     },
     "execution_count": 94,
     "metadata": {},
     "output_type": "execute_result"
    }
   ],
   "source": [
    "e^-(1/2*pi)"
   ]
  },
  {
   "cell_type": "code",
   "execution_count": 100,
   "metadata": {},
   "outputs": [
    {
     "data": {
      "text/html": [
       "<html><script type=\"math/tex; mode=display\">\\newcommand{\\Bold}[1]{\\mathbf{#1}}e^{\\left(-\\frac{1}{2} \\, \\pi\\right)} = i^{i}</script></html>"
      ],
      "text/latex": [
       "\\begin{math}\n",
       "\\newcommand{\\Bold}[1]{\\mathbf{#1}}e^{\\left(-\\frac{1}{2} \\, \\pi\\right)} = i^{i}\n",
       "\\end{math}"
      ],
      "text/plain": [
       "e^(-1/2*pi) == I^I"
      ]
     },
     "execution_count": 100,
     "metadata": {},
     "output_type": "execute_result"
    }
   ],
   "source": [
    "e^-(1/2*pi)==(sqrt(-1))^sqrt(-1)"
   ]
  },
  {
   "cell_type": "code",
   "execution_count": 103,
   "metadata": {},
   "outputs": [
    {
     "data": {
      "text/html": [
       "<html><script type=\"math/tex; mode=display\">\\newcommand{\\Bold}[1]{\\mathbf{#1}}\\cosh\\left(\\pi\\right) - \\sinh\\left(\\pi\\right)</script></html>"
      ],
      "text/latex": [
       "\\begin{math}\n",
       "\\newcommand{\\Bold}[1]{\\mathbf{#1}}\\cosh\\left(\\pi\\right) - \\sinh\\left(\\pi\\right)\n",
       "\\end{math}"
      ],
      "text/plain": [
       "cosh(pi) - sinh(pi)"
      ]
     },
     "execution_count": 103,
     "metadata": {},
     "output_type": "execute_result"
    }
   ],
   "source": [
    "e^(i^2*pi)"
   ]
  },
  {
   "cell_type": "code",
   "execution_count": 102,
   "metadata": {},
   "outputs": [
    {
     "data": {
      "text/html": [
       "<html><script type=\"math/tex; mode=display\">\\newcommand{\\Bold}[1]{\\mathbf{#1}}-1</script></html>"
      ],
      "text/latex": [
       "\\begin{math}\n",
       "\\newcommand{\\Bold}[1]{\\mathbf{#1}}-1\n",
       "\\end{math}"
      ],
      "text/plain": [
       "-1"
      ]
     },
     "execution_count": 102,
     "metadata": {},
     "output_type": "execute_result"
    }
   ],
   "source": [
    "e^(i*pi)"
   ]
  },
  {
   "cell_type": "code",
   "execution_count": 105,
   "metadata": {},
   "outputs": [
    {
     "data": {
      "text/html": [
       "<html><script type=\"math/tex; mode=display\">\\newcommand{\\Bold}[1]{\\mathbf{#1}}e^{\\left(-1\\right)}</script></html>"
      ],
      "text/latex": [
       "\\begin{math}\n",
       "\\newcommand{\\Bold}[1]{\\mathbf{#1}}e^{\\left(-1\\right)}\n",
       "\\end{math}"
      ],
      "text/plain": [
       "e^(-1)"
      ]
     },
     "execution_count": 105,
     "metadata": {},
     "output_type": "execute_result"
    }
   ],
   "source": [
    "e^(i^2)"
   ]
  },
  {
   "cell_type": "code",
   "execution_count": null,
   "metadata": {},
   "outputs": [],
   "source": []
  },
  {
   "cell_type": "code",
   "execution_count": null,
   "metadata": {},
   "outputs": [],
   "source": []
  }
 ],
 "metadata": {
  "kernelspec": {
   "display_name": "SageMath 9.2",
   "language": "sage",
   "name": "sagemath"
  },
  "language_info": {
   "codemirror_mode": {
    "name": "ipython",
    "version": 3
   },
   "file_extension": ".py",
   "mimetype": "text/x-python",
   "name": "python",
   "nbconvert_exporter": "python",
   "pygments_lexer": "ipython3",
   "version": "3.7.7"
  }
 },
 "nbformat": 4,
 "nbformat_minor": 4
}
