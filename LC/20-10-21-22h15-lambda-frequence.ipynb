{
 "cells": [
  {
   "cell_type": "code",
   "execution_count": 1,
   "metadata": {},
   "outputs": [
    {
     "data": {
      "text/plain": [
       "100000000"
      ]
     },
     "execution_count": 1,
     "metadata": {},
     "output_type": "execute_result"
    }
   ],
   "source": [
    "fç=50000000*2\n",
    "c=2*n(pi)*50000000;(fç)"
   ]
  },
  {
   "cell_type": "code",
   "execution_count": 2,
   "metadata": {},
   "outputs": [
    {
     "data": {
      "text/plain": [
       "1.04792251097584"
      ]
     },
     "execution_count": 2,
     "metadata": {},
     "output_type": "execute_result"
    }
   ],
   "source": [
    "c/299792458"
   ]
  },
  {
   "cell_type": "code",
   "execution_count": 3,
   "metadata": {},
   "outputs": [
    {
     "data": {
      "text/plain": [
       "47713452"
      ]
     },
     "execution_count": 3,
     "metadata": {},
     "output_type": "execute_result"
    }
   ],
   "source": [
    "fr=(299792458.0)/(2*n(pi));round(fr)"
   ]
  },
  {
   "cell_type": "code",
   "execution_count": 4,
   "metadata": {},
   "outputs": [
    {
     "data": {
      "text/plain": [
       "2.99792460561218e8"
      ]
     },
     "execution_count": 4,
     "metadata": {},
     "output_type": "execute_result"
    }
   ],
   "source": [
    "fc=2*n(pi)*47713452;(fc)"
   ]
  },
  {
   "cell_type": "code",
   "execution_count": 5,
   "metadata": {},
   "outputs": [
    {
     "data": {
      "text/plain": [
       "9768.66946849666"
      ]
     },
     "execution_count": 5,
     "metadata": {},
     "output_type": "execute_result"
    }
   ],
   "source": [
    "sqrt(fr*2)"
   ]
  },
  {
   "cell_type": "code",
   "execution_count": 6,
   "metadata": {},
   "outputs": [
    {
     "data": {
      "text/plain": [
       "89875517873681764"
      ]
     },
     "execution_count": 6,
     "metadata": {},
     "output_type": "execute_result"
    }
   ],
   "source": [
    "sqrt((fç))\n",
    "c=299792458;cc=c^2;cc"
   ]
  },
  {
   "cell_type": "markdown",
   "metadata": {},
   "source": [
    "Pour qu'il y ait couplage de particule il faut que la racine carrée soit paire, c'est la différence entre le coefficient de coulomb et la célérité au carrée. Donc une énergie doit être au carrée (paire) pour pouvoir sauter d'un orbitre à l'autre."
   ]
  },
  {
   "cell_type": "code",
   "execution_count": 7,
   "metadata": {},
   "outputs": [
    {
     "data": {
      "text/html": [
       "<html><script type=\"math/tex; mode=display\">\\newcommand{\\Bold}[1]{\\mathbf{#1}}Constante \\ de  \\ coulomb : k_C=\\frac{1}{4\\pi\\epsilon} 8.98755178736818 \\times 10^{9}</script></html>"
      ],
      "text/latex": [
       "\\begin{math}\n",
       "\\newcommand{\\Bold}[1]{\\mathbf{#1}}Constante \\ de  \\ coulomb : k_C=\\frac{1}{4\\pi\\epsilon} 8.98755178736818 \\times 10^{9}\n",
       "\\end{math}"
      ],
      "text/plain": [
       "Constante \\ de  \\ coulomb : k_C=\\frac{1}{4\\pi\\epsilon} 8.98755178736818e9"
      ]
     },
     "metadata": {},
     "output_type": "display_data"
    }
   ],
   "source": [
    "show(LatexExpr(r\"Constante \\ de  \\ coulomb : k_C=\\frac{1}{4\\pi\\epsilon}\"),cc/1E7)"
   ]
  },
  {
   "cell_type": "code",
   "execution_count": 8,
   "metadata": {},
   "outputs": [
    {
     "data": {
      "text/html": [
       "<html><script type=\"math/tex; mode=display\">\\newcommand{\\Bold}[1]{\\mathbf{#1}}Célérité \\ au \\ carré : c^2=\\frac{1}{\\mu\\epsilon} = 89875517873681764</script></html>"
      ],
      "text/latex": [
       "\\begin{math}\n",
       "\\newcommand{\\Bold}[1]{\\mathbf{#1}}Célérité \\ au \\ carré : c^2=\\frac{1}{\\mu\\epsilon} = 89875517873681764\n",
       "\\end{math}"
      ],
      "text/plain": [
       "Célérité \\ au \\ carré : c^2=\\frac{1}{\\mu\\epsilon} = 89875517873681764"
      ]
     },
     "metadata": {},
     "output_type": "display_data"
    }
   ],
   "source": [
    "show(LatexExpr(r\"Célérité \\ au \\ carré : c^2=\\frac{1}{\\mu\\epsilon} =\"),cc)"
   ]
  },
  {
   "cell_type": "markdown",
   "metadata": {},
   "source": [
    "Si Coulomb avait su qu'il était prêt de calculer le poids de $c^2$ ? ... l'histoire en n'était pas encore arrivé là, il faudra attendre 300 ans !\n",
    "\n",
    "Et surtout l'horreur de la civilisation atomique !"
   ]
  },
  {
   "cell_type": "code",
   "execution_count": 9,
   "metadata": {},
   "outputs": [
    {
     "data": {
      "text/html": [
       "<html><script type=\"math/tex; mode=display\">\\newcommand{\\Bold}[1]{\\mathbf{#1}}Poids \\ de \\ c^2=\\frac{1}{\\mu\\epsilon} =  89875517873681764</script></html>"
      ],
      "text/latex": [
       "\\begin{math}\n",
       "\\newcommand{\\Bold}[1]{\\mathbf{#1}}Poids \\ de \\ c^2=\\frac{1}{\\mu\\epsilon} =  89875517873681764\n",
       "\\end{math}"
      ],
      "text/plain": [
       "Poids \\ de \\ c^2=\\frac{1}{\\mu\\epsilon} =  89875517873681764"
      ]
     },
     "metadata": {},
     "output_type": "display_data"
    },
    {
     "data": {
      "text/html": [
       "<html><script type=\"math/tex; mode=display\">\\newcommand{\\Bold}[1]{\\mathbf{#1}}Poids \\ de \\ c^2 \\ en \\  Newton =  89875517873681764</script></html>"
      ],
      "text/latex": [
       "\\begin{math}\n",
       "\\newcommand{\\Bold}[1]{\\mathbf{#1}}Poids \\ de \\ c^2 \\ en \\  Newton =  89875517873681764\n",
       "\\end{math}"
      ],
      "text/plain": [
       "Poids \\ de \\ c^2 \\ en \\  Newton =  89875517873681764"
      ]
     },
     "metadata": {},
     "output_type": "display_data"
    }
   ],
   "source": [
    "show(LatexExpr(r\"Poids \\ de \\ c^2=\\frac{1}{\\mu\\epsilon} = \"),cc)\n",
    "show(LatexExpr(r\"Poids \\ de \\ c^2 \\ en \\  Newton = \"),cc)"
   ]
  },
  {
   "cell_type": "code",
   "execution_count": 10,
   "metadata": {},
   "outputs": [
    {
     "data": {
      "text/html": [
       "<html><script type=\"math/tex; mode=display\">\\newcommand{\\Bold}[1]{\\mathbf{#1}}Poids \\ de \\ c^2 \\ en \\  Kg =  8987551787368176.0</script></html>"
      ],
      "text/latex": [
       "\\begin{math}\n",
       "\\newcommand{\\Bold}[1]{\\mathbf{#1}}Poids \\ de \\ c^2 \\ en \\  Kg =  8987551787368176.0\n",
       "\\end{math}"
      ],
      "text/plain": [
       "Poids \\ de \\ c^2 \\ en \\  Kg =  8987551787368176.0"
      ]
     },
     "metadata": {},
     "output_type": "display_data"
    },
    {
     "data": {
      "text/html": [
       "<html><script type=\"math/tex; mode=display\">\\newcommand{\\Bold}[1]{\\mathbf{#1}}Poids \\ de \\ c^2 \\ en \\ Peta Tonnes =  8987551787368.176</script></html>"
      ],
      "text/latex": [
       "\\begin{math}\n",
       "\\newcommand{\\Bold}[1]{\\mathbf{#1}}Poids \\ de \\ c^2 \\ en \\ Peta Tonnes =  8987551787368.176\n",
       "\\end{math}"
      ],
      "text/plain": [
       "Poids \\ de \\ c^2 \\ en \\ Peta Tonnes =  8987551787368.176"
      ]
     },
     "metadata": {},
     "output_type": "display_data"
    }
   ],
   "source": [
    "show(LatexExpr(r\"Poids \\ de \\ c^2 \\ en \\  Kg = \"),round(cc,1)/10)\n",
    "show(LatexExpr(r\"Poids \\ de \\ c^2 \\ en \\ Peta Tonnes = \"),round(cc,1)/10000)"
   ]
  },
  {
   "cell_type": "code",
   "execution_count": 11,
   "metadata": {},
   "outputs": [
    {
     "data": {
      "text/html": [
       "<html><script type=\"math/tex; mode=display\">\\newcommand{\\Bold}[1]{\\mathbf{#1}}Poids \\ de \\ c^2 \\ en \\ Tera \\ Tonnes : TT =  89.8755178736818</script></html>"
      ],
      "text/latex": [
       "\\begin{math}\n",
       "\\newcommand{\\Bold}[1]{\\mathbf{#1}}Poids \\ de \\ c^2 \\ en \\ Tera \\ Tonnes : TT =  89.8755178736818\n",
       "\\end{math}"
      ],
      "text/plain": [
       "Poids \\ de \\ c^2 \\ en \\ Tera \\ Tonnes : TT =  89.8755178736818"
      ]
     },
     "metadata": {},
     "output_type": "display_data"
    }
   ],
   "source": [
    "show(LatexExpr(r\"Poids \\ de \\ c^2 \\ en \\ Tera \\ Tonnes : TT = \"),cc*1E-15)"
   ]
  },
  {
   "cell_type": "code",
   "execution_count": null,
   "metadata": {},
   "outputs": [],
   "source": []
  },
  {
   "cell_type": "code",
   "execution_count": null,
   "metadata": {},
   "outputs": [],
   "source": []
  }
 ],
 "metadata": {
  "kernelspec": {
   "display_name": "SageMath 9.2",
   "language": "sage",
   "name": "sagemath"
  },
  "language_info": {
   "codemirror_mode": {
    "name": "ipython",
    "version": 3
   },
   "file_extension": ".py",
   "mimetype": "text/x-python",
   "name": "python",
   "nbconvert_exporter": "python",
   "pygments_lexer": "ipython3",
   "version": "3.7.7"
  }
 },
 "nbformat": 4,
 "nbformat_minor": 4
}
