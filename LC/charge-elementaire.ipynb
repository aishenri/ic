{
 "cells": [
  {
   "cell_type": "code",
   "execution_count": 56,
   "metadata": {},
   "outputs": [],
   "source": [
    "ce=1.602176620898E-19"
   ]
  },
  {
   "cell_type": "code",
   "execution_count": 94,
   "metadata": {},
   "outputs": [
    {
     "data": {
      "text/plain": [
       "1.59154943121775e-19"
      ]
     },
     "execution_count": 94,
     "metadata": {},
     "output_type": "execute_result"
    }
   ],
   "source": [
    "ec=(1/3.141592653)*10/2;ec*1E-19"
   ]
  },
  {
   "cell_type": "code",
   "execution_count": 64,
   "metadata": {},
   "outputs": [
    {
     "data": {
      "text/plain": [
       "6.62664962687592e-34"
      ]
     },
     "execution_count": 64,
     "metadata": {},
     "output_type": "execute_result"
    }
   ],
   "source": [
    "v=2.28-1.56;f=6.38-4.6392\n",
    "pe=(v/f)*1E-14;pe\n",
    "h=pe*ce;h"
   ]
  },
  {
   "cell_type": "code",
   "execution_count": 65,
   "metadata": {},
   "outputs": [
    {
     "data": {
      "text/plain": [
       "6.62664962687592e-34"
      ]
     },
     "execution_count": 65,
     "metadata": {},
     "output_type": "execute_result"
    }
   ],
   "source": [
    "h=pe*ce;h"
   ]
  },
  {
   "cell_type": "code",
   "execution_count": null,
   "metadata": {},
   "outputs": [],
   "source": [
    "R=2.99792458"
   ]
  },
  {
   "cell_type": "code",
   "execution_count": 69,
   "metadata": {},
   "outputs": [
    {
     "name": "stdout",
     "output_type": "stream",
     "text": [
      "\n",
      "The number of photons emitted per second =\n",
      "8.580000000000001e+30\n"
     ]
    }
   ],
   "source": [
    "from __future__ import division\n",
    "import math\n",
    " # Python Code Ex15.1 Determining Photon number by \n",
    " #using Planck quantum law: Page-486 (2010)\n",
    " \n",
    " \n",
    "  \n",
    "#Variable declaration\n",
    "\n",
    "\n",
    "h = 6.626e-034; # Planck's constant, Js\n",
    "f = 1760e+03; # Frequency of the radio transmitter, Hz\n",
    "P = 10e+03; # Power of radio transmitter, W\n",
    "\n",
    "\n",
    "\n",
    "\n",
    "#Calculation\n",
    "\n",
    "E = h*f; # Energy carried by one photon from Planck's law, J\n",
    "N = P/E; # Number of photons emitted per second, number per second\n",
    "\n",
    "\n",
    "#Result\n",
    "\n",
    "print(\"\\nThe number of photons emitted per second =\")\n",
    "print (round( (N*10**-30),2)*10**30)"
   ]
  },
  {
   "cell_type": "code",
   "execution_count": 70,
   "metadata": {},
   "outputs": [
    {
     "name": "stdout",
     "output_type": "stream",
     "text": [
      "\n",
      "The energy carried by each photon of radiation = 4.43  eV\n",
      "\n",
      "The photoelectric effect is possible..\n"
     ]
    }
   ],
   "source": [
    "from __future__ import division\n",
    "import math\n",
    " # Python Code Ex15.2 Finding suitable energy for\n",
    "# Photoelectric Effect from Na metal: Page-486 (2010)\n",
    "\n",
    "\n",
    " \n",
    "#Variable declaration\n",
    "\n",
    "\n",
    "e = 1.602e-019;                         # Charge on an electron, C\n",
    "h = 6.626e-034;                         # Planck's constant, Js\n",
    "c = 3.0e+08;                            # Speed of light in vacuum, m/s\n",
    "lamb = 2800e-010;                     # Wavelength of incident light, m\n",
    "\n",
    "\n",
    "\n",
    "#Calculation\n",
    "\n",
    "W = 2.3*e;                              # Work function of Na metal, J\n",
    "f = c/lamb;                      # Frequency of the incident light, Hz\n",
    "E = h*f;                # Energy carried by one photon from Planck's law, J\n",
    "\n",
    "\n",
    "\n",
    "#Result\n",
    "\n",
    "print(\"\\nThe energy carried by each photon of radiation =\",round(E/e,2),\" eV\")\n",
    "if (E > W):\n",
    "  print(\"\\nThe photoelectric effect is possible..\")\n",
    "else:\n",
    "  print(\"\\nThe photoelectric effect is impossible..\")\n"
   ]
  },
  {
   "cell_type": "code",
   "execution_count": 71,
   "metadata": {},
   "outputs": [
    {
     "name": "stdout",
     "output_type": "stream",
     "text": [
      "\n",
      "The number of photons of green light of Hg =\n",
      "2.5e+18\n"
     ]
    }
   ],
   "source": [
    "from __future__ import division\n",
    "import math\n",
    " # Python Code Ex15.3 Finding number of photons for\n",
    "# green wavelength of Hg: Page-487 (2010)\n",
    "\n",
    "\n",
    "\n",
    " \n",
    "#Variable declaration\n",
    "\n",
    "\n",
    "h = 6.626e-034; # Planck's constant, Js\n",
    "c = 3.0e+08; # Speed of light in vacuum, m/s\n",
    "lamb = 496.1e-09; # Wavelength of green light of mercury, m\n",
    "E_total = 1; # Work done by photons from green light, J\n",
    "\n",
    "\n",
    "\n",
    "#Calculation\n",
    "\n",
    "f = c/lamb; # Frequency of the green light, Hz\n",
    "E = h*f; # Energy carried by one photon from Planck's law, J\n",
    "N = E_total/E; # Number of photons of green light of Hg\n",
    "\n",
    "\n",
    "#Result\n",
    "\n",
    "print(\"\\nThe number of photons of green light of Hg =\")\n",
    "print (round( (N*10**-18),2)*10**18)\n",
    " "
   ]
  },
  {
   "cell_type": "code",
   "execution_count": 72,
   "metadata": {},
   "outputs": [
    {
     "name": "stdout",
     "output_type": "stream",
     "text": [
      "\n",
      "Threhold frequency for Cu metal = 965000000000000.0  Hz\n",
      "\n",
      "The work function of Cu metal =  4  eV\n",
      "\n",
      "The maximum kinetic energy of photoelectrons = 2.72  eV\n"
     ]
    }
   ],
   "source": [
    "from __future__ import division\n",
    "import math\n",
    "e = 1.602e-019; # Charge on an electron, C\n",
    "h = 6.626e-034; # Planck's constant, Js\n",
    "c = 3.0e+08; # Speed of light in vacuum, m/s\n",
    "lamb = 1849e-010; # Wavelength of incident light, m\n",
    "V_0 = 2.72; # Stopping potential for emitted electrons, V\n",
    "f = c/lamb; # Frequency of incident radiation , Hz\n",
    "E = h*f; # Energy carried by one photon from Planck's law, J\n",
    "T_max = e*V_0; # Maximum kinetic energy of electrons, J\n",
    " # We have, T_max = E - h*f_0 = h*f - W\n",
    "f_0 = (-T_max + E )/h # Threshold frequency for Cu metal, Hz\n",
    "W = h*f_0/e; # Work function of Cu metal, eV\n",
    "\n",
    "\n",
    "\n",
    "#Result\n",
    "\n",
    "print(\"\\nThrehold frequency for Cu metal =\",round((f_0*10**-14),2)*10**14,\" Hz\")\n",
    "print(\"\\nThe work function of Cu metal = \",round(W),\" eV\")\n",
    "print(\"\\nThe maximum kinetic energy of photoelectrons =\",round(T_max/e,2),\" eV\")\n",
    " "
   ]
  },
  {
   "cell_type": "code",
   "execution_count": 73,
   "metadata": {},
   "outputs": [
    {
     "name": "stdout",
     "output_type": "stream",
     "text": [
      "\n",
      "The energy which must be transferred to stimulate\n",
      " the emission of Na d-lines =  2.11  eV\n"
     ]
    }
   ],
   "source": [
    "e = 1.6e-019; # Charge on an electron, C\n",
    "h = 6.626e-034; # Planck's constant, Js\n",
    "c = 3.0e+08; # Speed of light in vacuum, m/s\n",
    "lambda_mean = 5893e-010; # Wavelength of incident light, m\n",
    "# The energy of the electron which must be transferred to the atoms of Na \n",
    "delta_E = h*c/(lambda_mean*e); \n",
    "print(\"\\nThe energy which must be transferred to stimulate\")\n",
    "print(\" the emission of Na d-lines = \",round(delta_E,2),\" eV\") "
   ]
  },
  {
   "cell_type": "code",
   "execution_count": 110,
   "metadata": {},
   "outputs": [
    {
     "data": {
      "text/plain": [
       "6.68347141973673e-34"
      ]
     },
     "execution_count": 110,
     "metadata": {},
     "output_type": "execute_result"
    }
   ],
   "source": [
    "v=2.28-1.56;f=6.38-4.654\n",
    "pe=(v/f)*1E-14\n",
    "h=pe*ce;h"
   ]
  },
  {
   "cell_type": "code",
   "execution_count": 111,
   "metadata": {},
   "outputs": [
    {
     "data": {
      "text/plain": [
       "1.59154943091895e-19"
      ]
     },
     "execution_count": 111,
     "metadata": {},
     "output_type": "execute_result"
    }
   ],
   "source": [
    "jo=1/n(pi)/2E18;jo"
   ]
  },
  {
   "cell_type": "code",
   "execution_count": 119,
   "metadata": {},
   "outputs": [
    {
     "data": {
      "text/plain": [
       "6.63914015215322e-34"
      ]
     },
     "execution_count": 119,
     "metadata": {},
     "output_type": "execute_result"
    }
   ],
   "source": [
    "v=2.28-1.56;f=6.38-4.6\n",
    "h=pe*ce;h\n",
    "pe*jo"
   ]
  },
  {
   "cell_type": "code",
   "execution_count": 197,
   "metadata": {},
   "outputs": [
    {
     "data": {
      "text/plain": [
       "6.62608760414968e-34"
      ]
     },
     "execution_count": 197,
     "metadata": {},
     "output_type": "execute_result"
    }
   ],
   "source": [
    "v=2.28-1.56;f=6.38-4.6506\n",
    "pe=(v/f)*1E-14\n",
    "pe*jo"
   ]
  },
  {
   "cell_type": "code",
   "execution_count": 195,
   "metadata": {},
   "outputs": [
    {
     "data": {
      "text/plain": [
       "6.62608760414968e-34"
      ]
     },
     "execution_count": 195,
     "metadata": {},
     "output_type": "execute_result"
    }
   ],
   "source": [
    "pe*jo"
   ]
  },
  {
   "cell_type": "code",
   "execution_count": null,
   "metadata": {},
   "outputs": [],
   "source": []
  },
  {
   "cell_type": "code",
   "execution_count": null,
   "metadata": {},
   "outputs": [],
   "source": []
  }
 ],
 "metadata": {
  "kernelspec": {
   "display_name": "SageMath 9.2",
   "language": "sage",
   "name": "sagemath"
  },
  "language_info": {
   "codemirror_mode": {
    "name": "ipython",
    "version": 3
   },
   "file_extension": ".py",
   "mimetype": "text/x-python",
   "name": "python",
   "nbconvert_exporter": "python",
   "pygments_lexer": "ipython3",
   "version": "3.7.7"
  }
 },
 "nbformat": 4,
 "nbformat_minor": 4
}
