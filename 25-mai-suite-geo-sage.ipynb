{
 "cells": [
  {
   "cell_type": "code",
   "execution_count": 4,
   "id": "crucial-graduate",
   "metadata": {},
   "outputs": [
    {
     "data": {
      "text/plain": [
       "1.00000000000000e80"
      ]
     },
     "execution_count": 4,
     "metadata": {},
     "output_type": "execute_result"
    }
   ],
   "source": [
    "u(n) = n^100 / 100^n\n",
    "u(2.);u(3.);u(4.);u(5.);u(6.)\n",
    "u(7.);u(8.);u(9.);u(10.)"
   ]
  },
  {
   "cell_type": "code",
   "execution_count": 9,
   "id": "unexpected-reading",
   "metadata": {},
   "outputs": [
    {
     "data": {
      "image/png": "[encoded data removed]",
      "text/plain": [
       "Graphics object consisting of 1 graphics primitive"
      ]
     },
     "metadata": {},
     "output_type": "display_data"
    }
   ],
   "source": [
    "p=plot(u(x), x, 1, 40)\n",
    "show(p,figsize=3,fontsize=5,frame=True)"
   ]
  },
  {
   "cell_type": "markdown",
   "id": "stopped-cambodia",
   "metadata": {},
   "source": [
    "Suite croissante jusqu'au rang 21 et décroissante à partir du rang 22."
   ]
  },
  {
   "cell_type": "code",
   "execution_count": 10,
   "id": "latest-slovenia",
   "metadata": {},
   "outputs": [
    {
     "data": {
      "text/plain": [
       "0"
      ]
     },
     "execution_count": 10,
     "metadata": {},
     "output_type": "execute_result"
    }
   ],
   "source": [
    "limit(u(n), n=infinity)"
   ]
  },
  {
   "cell_type": "code",
   "execution_count": 11,
   "id": "deluxe-taylor",
   "metadata": {},
   "outputs": [
    {
     "data": {
      "text/plain": [
       "105.07496210187252"
      ]
     },
     "execution_count": 11,
     "metadata": {},
     "output_type": "execute_result"
    }
   ],
   "source": [
    "n0 = find_root(u(n) - 1e-8 == 0, 22, 1000); n0"
   ]
  },
  {
   "cell_type": "markdown",
   "id": "respected-panama",
   "metadata": {},
   "source": [
    "La suite étant décroissante à partir du rang 22, on en déduit qu’à partir du rang 106, la suite reste confinée à l’intervalle [0, 10 −8]\n",
    "\n",
    "On voit que la suite a une résonance, elle fait un cercle de 15-30"
   ]
  },
  {
   "cell_type": "code",
   "execution_count": 14,
   "id": "informative-protection",
   "metadata": {},
   "outputs": [
    {
     "data": {
      "text/html": [
       "<html><script type=\"math/tex; mode=display\">\\newcommand{\\Bold}[1]{\\mathbf{#1}}\\frac{1}{16} \\, x^{3} e + \\frac{1}{8} \\, x^{2} e - \\frac{1}{2} \\, x e + e</script></html>"
      ],
      "text/latex": [
       "\\begin{math}\n",
       "\\newcommand{\\Bold}[1]{\\mathbf{#1}}\\frac{1}{16} \\, x^{3} e + \\frac{1}{8} \\, x^{2} e - \\frac{1}{2} \\, x e + e\n",
       "\\end{math}"
      ],
      "text/plain": [
       "1/16*x^3*e + 1/8*x^2*e - 1/2*x*e + e"
      ]
     },
     "execution_count": 14,
     "metadata": {},
     "output_type": "execute_result"
    }
   ],
   "source": [
    "%display latex\n",
    "taylor((1+arctan(x))**(1/x), x, 0, 3)"
   ]
  },
  {
   "cell_type": "code",
   "execution_count": 20,
   "id": "reflected-elephant",
   "metadata": {},
   "outputs": [
    {
     "data": {
      "text/html": [
       "<html><script type=\"math/tex; mode=display\">\\newcommand{\\Bold}[1]{\\mathbf{#1}}3.14159265358979323846264338327950</script></html>"
      ],
      "text/latex": [
       "\\begin{math}\n",
       "\\newcommand{\\Bold}[1]{\\mathbf{#1}}3.14159265358979323846264338327950\n",
       "\\end{math}"
      ],
      "text/plain": [
       "3.14159265358979323846264338327950"
      ]
     },
     "execution_count": 20,
     "metadata": {},
     "output_type": "execute_result"
    }
   ],
   "source": [
    "s=2*sqrt(2)/9801*(sum((factorial(4*k))*(1103+26390*k)/\n",
    "((factorial(k))^4*396^(4 * k))for k in (0..11)));\n",
    "(1/s).n(digits=33)"
   ]
  },
  {
   "cell_type": "code",
   "execution_count": 23,
   "id": "closing-amateur",
   "metadata": {},
   "outputs": [
    {
     "data": {
      "text/html": [
       "<html><script type=\"math/tex; mode=display\">\\newcommand{\\Bold}[1]{\\mathbf{#1}}\\left(\\frac{1}{6} \\, \\pi^{2}, \\frac{1}{90} \\, \\pi^{4}, \\zeta(5)\\right)</script></html>"
      ],
      "text/latex": [
       "\\begin{math}\n",
       "\\newcommand{\\Bold}[1]{\\mathbf{#1}}\\left(\\frac{1}{6} \\, \\pi^{2}, \\frac{1}{90} \\, \\pi^{4}, \\zeta(5)\\right)\n",
       "\\end{math}"
      ],
      "text/plain": [
       "(1/6*pi^2, 1/90*pi^4, zeta(5))"
      ]
     },
     "execution_count": 23,
     "metadata": {},
     "output_type": "execute_result"
    }
   ],
   "source": [
    "k = var('k');\n",
    "sum(1/k^2, k, 1, infinity),sum(1/k^4, k, 1, infinity),sum(1/k^5, k, 1, infinity)"
   ]
  },
  {
   "cell_type": "code",
   "execution_count": 29,
   "id": "elect-quebec",
   "metadata": {},
   "outputs": [],
   "source": [
    "#zeta(2)"
   ]
  },
  {
   "cell_type": "code",
   "execution_count": 30,
   "id": "august-champagne",
   "metadata": {},
   "outputs": [],
   "source": [
    "#diff(sin(x^2), x)"
   ]
  },
  {
   "cell_type": "code",
   "execution_count": 37,
   "id": "owned-water",
   "metadata": {},
   "outputs": [
    {
     "data": {
      "text/html": [
       "<html><script type=\"math/tex; mode=display\">\\newcommand{\\Bold}[1]{\\mathbf{#1}}\\mathrm{D}_{0}\\left(f\\right)\\left(g\\left(x\\right)\\right) \\frac{\\partial}{\\partial x}g\\left(x\\right)</script></html>"
      ],
      "text/latex": [
       "\\begin{math}\n",
       "\\newcommand{\\Bold}[1]{\\mathbf{#1}}\\mathrm{D}_{0}\\left(f\\right)\\left(g\\left(x\\right)\\right) \\frac{\\partial}{\\partial x}g\\left(x\\right)\n",
       "\\end{math}"
      ],
      "text/plain": [
       "D[0](f)(g(x))*diff(g(x), x)"
      ]
     },
     "execution_count": 37,
     "metadata": {},
     "output_type": "execute_result"
    }
   ],
   "source": [
    "var(\"f g\")\n",
    "function(\"f\");function(\"g\");diff(f(g(x)), x)"
   ]
  },
  {
   "cell_type": "code",
   "execution_count": 38,
   "id": "national-policy",
   "metadata": {},
   "outputs": [
    {
     "data": {
      "text/html": [
       "<html><script type=\"math/tex; mode=display\">\\newcommand{\\Bold}[1]{\\mathbf{#1}}\\frac{\\frac{\\partial}{\\partial x}f\\left(x\\right)}{f\\left(x\\right)}</script></html>"
      ],
      "text/latex": [
       "\\begin{math}\n",
       "\\newcommand{\\Bold}[1]{\\mathbf{#1}}\\frac{\\frac{\\partial}{\\partial x}f\\left(x\\right)}{f\\left(x\\right)}\n",
       "\\end{math}"
      ],
      "text/plain": [
       "diff(f(x), x)/f(x)"
      ]
     },
     "execution_count": 38,
     "metadata": {},
     "output_type": "execute_result"
    }
   ],
   "source": [
    "diff(ln(f(x)), x)"
   ]
  },
  {
   "cell_type": "code",
   "execution_count": null,
   "id": "alleged-likelihood",
   "metadata": {},
   "outputs": [],
   "source": []
  }
 ],
 "metadata": {
  "kernelspec": {
   "display_name": "SageMath 9.2",
   "language": "sage",
   "name": "sagemath"
  },
  "language_info": {
   "codemirror_mode": {
    "name": "ipython",
    "version": 3
   },
   "file_extension": ".py",
   "mimetype": "text/x-python",
   "name": "python",
   "nbconvert_exporter": "python",
   "pygments_lexer": "ipython3",
   "version": "3.9.5"
  }
 },
 "nbformat": 4,
 "nbformat_minor": 5
}
