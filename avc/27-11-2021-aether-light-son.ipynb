{
 "cells": [
  {
   "cell_type": "markdown",
   "metadata": {},
   "source": [
    "The formula of speed of light, celerity $c$, it's not a formula of speed but one of angulary frequency $\\Omega$, then $c$ is frequency $1Hz=2\\pi$rad/s and =360° = 360 $\\Omega$= Ohms. A frequency has no problem of limit of speed and in this case, can be quicker than $c$ celerity.\n",
    "\n",
    "Following my analogeus formula of vaccum=360 Ohms, which is complex supralimic speed : 314159265.3 (named chiracecity=ç) and square 129600 Ohms, your speed of sound. "
   ]
  },
  {
   "cell_type": "code",
   "execution_count": 1,
   "metadata": {},
   "outputs": [
    {
     "data": {
      "text/html": [
       "<html><script type=\"math/tex; mode=display\">\\newcommand{\\Bold}[1]{\\mathbf{#1}}As \\ you \\ know : \\  c=\\frac{1}{\\sqrt\\mu\\epsilon}=299792458</script></html>"
      ],
      "text/latex": [
       "\\begin{math}\n",
       "\\newcommand{\\Bold}[1]{\\mathbf{#1}}As \\ you \\ know : \\  c=\\frac{1}{\\sqrt\\mu\\epsilon}=299792458\n",
       "\\end{math}"
      ],
      "text/plain": [
       "As \\ you \\ know : \\  c=\\frac{1}{\\sqrt\\mu\\epsilon}=299792458"
      ]
     },
     "metadata": {},
     "output_type": "display_data"
    }
   ],
   "source": [
    "show(LatexExpr(r\"As \\ you \\ know : \\  c=\\frac{1}{\\sqrt\\mu\\epsilon}=299792458\"))"
   ]
  },
  {
   "cell_type": "code",
   "execution_count": 3,
   "metadata": {},
   "outputs": [
    {
     "data": {
      "text/html": [
       "<html><script type=\"math/tex; mode=display\">\\newcommand{\\Bold}[1]{\\mathbf{#1}}Z = \\sqrt\\frac{L}{C}= 360</script></html>"
      ],
      "text/latex": [
       "\\begin{math}\n",
       "\\newcommand{\\Bold}[1]{\\mathbf{#1}}Z = \\sqrt\\frac{L}{C}= 360\n",
       "\\end{math}"
      ],
      "text/plain": [
       "Z = \\sqrt\\frac{L}{C}= 360"
      ]
     },
     "metadata": {},
     "output_type": "display_data"
    },
    {
     "data": {
      "text/html": [
       "<html><script type=\"math/tex; mode=display\">\\newcommand{\\Bold}[1]{\\mathbf{#1}}ç =\\frac{1}{\\sqrt LC} = 314159265</script></html>"
      ],
      "text/latex": [
       "\\begin{math}\n",
       "\\newcommand{\\Bold}[1]{\\mathbf{#1}}ç =\\frac{1}{\\sqrt LC} = 314159265\n",
       "\\end{math}"
      ],
      "text/plain": [
       "ç =\\frac{1}{\\sqrt LC} = 314159265"
      ]
     },
     "metadata": {},
     "output_type": "display_data"
    },
    {
     "data": {
      "text/html": [
       "<html><script type=\"math/tex; mode=display\">\\newcommand{\\Bold}[1]{\\mathbf{#1}}Where : L =  1.14591559026165 \\times 10^{-6}</script></html>"
      ],
      "text/latex": [
       "\\begin{math}\n",
       "\\newcommand{\\Bold}[1]{\\mathbf{#1}}Where : L =  1.14591559026165 \\times 10^{-6}\n",
       "\\end{math}"
      ],
      "text/plain": [
       "Where : L =  1.14591559026165e-6"
      ]
     },
     "metadata": {},
     "output_type": "display_data"
    },
    {
     "data": {
      "text/html": [
       "<html><script type=\"math/tex; mode=display\">\\newcommand{\\Bold}[1]{\\mathbf{#1}}Where : C =  8.84194128288307 \\times 10^{-12}</script></html>"
      ],
      "text/latex": [
       "\\begin{math}\n",
       "\\newcommand{\\Bold}[1]{\\mathbf{#1}}Where : C =  8.84194128288307 \\times 10^{-12}\n",
       "\\end{math}"
      ],
      "text/plain": [
       "Where : C =  8.84194128288307e-12"
      ]
     },
     "metadata": {},
     "output_type": "display_data"
    }
   ],
   "source": [
    "L=1/n(pi)*360E-8;C=1/(n(pi)*360E+8)\n",
    "ç=1/sqrt(L*C);Z=sqrt(L/C)\n",
    "show(LatexExpr(r\"Z = \\sqrt\\frac{L}{C}=\"),int(Z))\n",
    "show(LatexExpr(r\"ç =\\frac{1}{\\sqrt LC} =\"),int(ç))\n",
    "show(LatexExpr(r\"Where : L = \"),L)\n",
    "show(LatexExpr(r\"Where : C = \"),C)"
   ]
  },
  {
   "cell_type": "markdown",
   "metadata": {},
   "source": [
    "I guess, your first reaction will be : Not possible, it's quicker than speed of light ?\n",
    "\n",
    "But here I use $ç$ as an angulary frequency(as it should have been done out of space-time relativity !\n",
    "\n",
    "My space is not a relativist one, it's an universal space, no speed of light limit !\n",
    "\n",
    "By the way relativistic space-time is a local one, not a universal one !\n",
    "\n",
    "My questions are : Why nobody noticed it before me after more than a century ? \n",
    "\n",
    "Low impedance (360°), quicker speed (ç),lower speed ($c$), stronger impedance ($376.72\\Omega$)\n",
    "\n",
    "Why scientific speed of light is $c$, no reason, only a coincidence : ratio $c=\\frac{Q_E}{Q_m}=c=\\frac{cc}{c}$, they thaught that Maxwell equation was so near $c$ they didn't cogitate more !\n",
    "\n",
    "I know why $c$ is not $ç$, after reading what I wrote you might be able to find it?"
   ]
  },
  {
   "cell_type": "code",
   "execution_count": null,
   "metadata": {},
   "outputs": [],
   "source": []
  }
 ],
 "metadata": {
  "kernelspec": {
   "display_name": "SageMath 9.2",
   "language": "sage",
   "name": "sagemath"
  },
  "language_info": {
   "codemirror_mode": {
    "name": "ipython",
    "version": 3
   },
   "file_extension": ".py",
   "mimetype": "text/x-python",
   "name": "python",
   "nbconvert_exporter": "python",
   "pygments_lexer": "ipython3",
   "version": "3.7.7"
  }
 },
 "nbformat": 4,
 "nbformat_minor": 4
}
