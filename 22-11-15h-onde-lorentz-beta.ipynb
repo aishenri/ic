{
 "cells": [
  {
   "cell_type": "markdown",
   "metadata": {},
   "source": [
    "###### Facteur de Lorentz : un cercle ?\n",
    "\n",
    "Il entre dans les calculs de la relativité, mais c'est une dérivation, (un aménagement) de la fonction $f=\\sqrt 1-x^2$.\n",
    "\n",
    "Chaque constante ou fonction possédant $pi$ a obligatoirement une valeur fondamendale, la longueur d'onde $\\lambda=2\\pi=2\\pi..rads$ en est un exemple, 360° pour un cercle de 1 de rayon et 720° pour un cercle de 2 de rayon, ce qui est le cas de $2\\pi$ rad/s ! \n",
    "\n",
    "Cela pose une problème en Relativité, puisque 1 Hz=$2\\pi$ rad/s, où la célérité est $c$ alors qu'elle devrait être $2c$ ( ce qui serait effectivement une vitesse, puisque la dérivé de $c^2$), alors la lumière serait la fréquence de résonnance, de rayon $1= 2\\pi$ et la longueur d'onde : $\\lambda=2\\pi$ ? Apparemment les scientifiques aiment bien se confronter aux paradoxes ?"
   ]
  },
  {
   "cell_type": "code",
   "execution_count": 1,
   "metadata": {},
   "outputs": [],
   "source": [
    "%display latex\n",
    "import warnings;warnings.filterwarnings(\n",
    "\"ignore\",category=DeprecationWarning)"
   ]
  },
  {
   "cell_type": "markdown",
   "metadata": {},
   "source": [
    "$\\lambda=\\frac{\\frac{1}{\\sqrt\\mu\\epsilon}}{\\frac{1}{2\\pi\\sqrt\\mu\\epsilon}}$ = $\\frac{c}{\\nu}$=$2\\pi$"
   ]
  },
  {
   "cell_type": "code",
   "execution_count": 2,
   "metadata": {},
   "outputs": [
    {
     "data": {
      "text/html": [
       "<html>\\[\\newcommand{\\Bold}[1]{\\mathbf{#1}}\\lambda_{0} = 2 \\, \\pi\\]</html>"
      ],
      "text/latex": [
       "$$\\newcommand{\\Bold}[1]{\\mathbf{#1}}\\lambda_{0} = 2 \\, \\pi$$"
      ],
      "text/plain": [
       "lambda_0 == 2*pi"
      ]
     },
     "execution_count": 2,
     "metadata": {},
     "output_type": "execute_result"
    }
   ],
   "source": [
    "var(\"lambda_0 mu epsilon c nu omega\") \n",
    "lo=lambda_0==(1/sqrt(mu*epsilon)/ \\\n",
    "(1/(2*pi*sqrt(mu*epsilon))));lo"
   ]
  },
  {
   "cell_type": "code",
   "execution_count": 3,
   "metadata": {},
   "outputs": [
    {
     "data": {
      "text/html": [
       "<html>\\[\\newcommand{\\Bold}[1]{\\mathbf{#1}}f_{a} = \\frac{1}{\\sqrt{\\epsilon \\mu}}\\]</html>"
      ],
      "text/latex": [
       "$$\\newcommand{\\Bold}[1]{\\mathbf{#1}}f_{a} = \\frac{1}{\\sqrt{\\epsilon \\mu}}$$"
      ],
      "text/plain": [
       "f_a == 1/sqrt(epsilon*mu)"
      ]
     },
     "execution_count": 3,
     "metadata": {},
     "output_type": "execute_result"
    }
   ],
   "source": [
    "var(\"lambda_0 mu epsilon f_a c nu w f_r omega\") \n",
    "c0=f_a==1/sqrt(mu*epsilon);c0 # fréquence angulaire"
   ]
  },
  {
   "cell_type": "code",
   "execution_count": 4,
   "metadata": {},
   "outputs": [
    {
     "data": {
      "text/html": [
       "<html>\\[\\newcommand{\\Bold}[1]{\\mathbf{#1}}f_{r} = \\frac{1}{2 \\, \\pi \\sqrt{\\epsilon \\mu}}\\]</html>"
      ],
      "text/latex": [
       "$$\\newcommand{\\Bold}[1]{\\mathbf{#1}}f_{r} = \\frac{1}{2 \\, \\pi \\sqrt{\\epsilon \\mu}}$$"
      ],
      "text/plain": [
       "f_r == 1/2/(pi*sqrt(epsilon*mu))"
      ]
     },
     "execution_count": 4,
     "metadata": {},
     "output_type": "execute_result"
    }
   ],
   "source": [
    "n0=f_r==1/(2*pi*sqrt(mu*epsilon));n0 # fréquence de résonance"
   ]
  },
  {
   "cell_type": "code",
   "execution_count": 5,
   "metadata": {},
   "outputs": [
    {
     "data": {
      "text/html": [
       "<html>\\[\\newcommand{\\Bold}[1]{\\mathbf{#1}}\\frac{f_{a}}{f_{r}} = 2 \\, \\pi\\]</html>"
      ],
      "text/latex": [
       "$$\\newcommand{\\Bold}[1]{\\mathbf{#1}}\\frac{f_{a}}{f_{r}} = 2 \\, \\pi$$"
      ],
      "text/plain": [
       "f_a/f_r == 2*pi"
      ]
     },
     "execution_count": 5,
     "metadata": {},
     "output_type": "execute_result"
    }
   ],
   "source": [
    "c0/n0 # définition du radian (720°)"
   ]
  },
  {
   "cell_type": "code",
   "execution_count": 6,
   "metadata": {},
   "outputs": [
    {
     "data": {
      "image/png": "[encoded data removed]",
      "text/plain": [
       "Graphics object consisting of 1 graphics primitive"
      ]
     },
     "metadata": {},
     "output_type": "display_data"
    }
   ],
   "source": [
    "p=plot(sqrt(1-x^2),x,-1,1);\n",
    "show(p,aspect_ratio=1,figsize=2,fontsize=5);"
   ]
  },
  {
   "cell_type": "code",
   "execution_count": null,
   "metadata": {},
   "outputs": [],
   "source": []
  },
  {
   "cell_type": "code",
   "execution_count": 7,
   "metadata": {},
   "outputs": [
    {
     "data": {
      "image/png": "[encoded data removed]",
      "text/plain": [
       "Graphics object consisting of 1 graphics primitive"
      ]
     },
     "metadata": {},
     "output_type": "display_data"
    }
   ],
   "source": [
    "q=plot(-sqrt(1-x^2),x,-1,1,color=\"red\");\n",
    "show(q,aspect_ratio=1,figsize=2,fontsize=5);"
   ]
  },
  {
   "cell_type": "code",
   "execution_count": 8,
   "metadata": {},
   "outputs": [
    {
     "data": {
      "image/png": "[encoded data removed]",
      "text/plain": [
       "Graphics object consisting of 2 graphics primitives"
      ]
     },
     "metadata": {},
     "output_type": "display_data"
    }
   ],
   "source": [
    "show(p+q,aspect_ratio=1,figsize=3,fontsize=5)"
   ]
  },
  {
   "attachments": {
    "image-2.png": {
     "image/png": "[encoded data removed]"
    },
    "image.png": {
     "image/png": "[encoded data removed]"
    }
   },
   "cell_type": "markdown",
   "metadata": {},
   "source": [
    "##### Facteur de Lorenz ou facteur gamma $\\Gamma$, de dilatation du temps\n",
    "\n",
    "![image.png](attachment:image.png)\n",
    "\n",
    "et $\\alpha$, le facteur de contraction (inverse).\n",
    "\n",
    "![image-2.png](attachment:image-2.png)\n",
    "\n",
    "$t$ est le temps-coordonnée ( temps local de la Relativité)\n",
    "\n",
    "$\\tau$ est le temps propre"
   ]
  },
  {
   "cell_type": "code",
   "execution_count": 24,
   "metadata": {},
   "outputs": [],
   "source": [
    "# Relation masse énergie\n",
    "c=1;beta(v)=1/sqrt(1-(v^2/c^2))\n",
    "E(v,m)=beta(v)*m*c**2"
   ]
  },
  {
   "cell_type": "code",
   "execution_count": 10,
   "metadata": {},
   "outputs": [],
   "source": [
    "p=plot(E(v,30),xmin=-0.8,xmax=0.8);"
   ]
  },
  {
   "cell_type": "code",
   "execution_count": 11,
   "metadata": {},
   "outputs": [
    {
     "data": {
      "image/png": "[encoded data removed]",
      "text/plain": [
       "Graphics object consisting of 1 graphics primitive"
      ]
     },
     "metadata": {},
     "output_type": "display_data"
    }
   ],
   "source": [
    "show(p,figsize=(3,2),fontsize=6,frame=True,\n",
    "axes_labels=('$c$','$E$'));"
   ]
  },
  {
   "cell_type": "code",
   "execution_count": 12,
   "metadata": {},
   "outputs": [
    {
     "data": {
      "image/png": "[encoded data removed]",
      "text/plain": [
       "Graphics object consisting of 2 graphics primitives"
      ]
     },
     "metadata": {},
     "output_type": "display_data"
    }
   ],
   "source": [
    "# Contraction des longueurs\n",
    "c=1;gamma(v)=1/sqrt(1-(v^2/c^2))\n",
    "Long(L,v)=L/gamma(v);q=plot(Long(1,v),fill=True,\n",
    "fillcolor=\"lightsalmon\")\n",
    "show(q,figsize=(3,2),fontsize=6,frame=True,\n",
    "     axes_labels=('$c$','$L$'),aspect_ratio=1);                          "
   ]
  },
  {
   "cell_type": "code",
   "execution_count": 13,
   "metadata": {},
   "outputs": [
    {
     "data": {
      "text/html": [
       "<html>\\[\\newcommand{\\Bold}[1]{\\mathbf{#1}}\\left( m, v \\right) \\ {\\mapsto} \\ \\frac{1}{2} \\, m v^{2}\\]</html>"
      ],
      "text/latex": [
       "$$\\newcommand{\\Bold}[1]{\\mathbf{#1}}\\left( m, v \\right) \\ {\\mapsto} \\ \\frac{1}{2} \\, m v^{2}$$"
      ],
      "text/plain": [
       "(m, v) |--> 1/2*m*v^2"
      ]
     },
     "execution_count": 13,
     "metadata": {},
     "output_type": "execute_result"
    }
   ],
   "source": [
    "kinetic(m,v)=(1/2)*m*v^2;kinetic"
   ]
  },
  {
   "cell_type": "code",
   "execution_count": 14,
   "metadata": {},
   "outputs": [
    {
     "data": {
      "text/html": [
       "<html>\\[\\newcommand{\\Bold}[1]{\\mathbf{#1}}\\left( m, v \\right) \\ {\\mapsto} \\ -m + \\frac{m}{\\sqrt{-v^{2} + 1}}\\]</html>"
      ],
      "text/latex": [
       "$$\\newcommand{\\Bold}[1]{\\mathbf{#1}}\\left( m, v \\right) \\ {\\mapsto} \\ -m + \\frac{m}{\\sqrt{-v^{2} + 1}}$$"
      ],
      "text/plain": [
       "(m, v) |--> -m + m/sqrt(-v^2 + 1)"
      ]
     },
     "execution_count": 14,
     "metadata": {},
     "output_type": "execute_result"
    }
   ],
   "source": [
    "kinetic2(m,v)=gamma(v) * m * c^2- m*c^2;kinetic2 "
   ]
  },
  {
   "cell_type": "code",
   "execution_count": 15,
   "metadata": {},
   "outputs": [],
   "source": [
    "k2=plot(kinetic2(20,v),color=\"red\")\n",
    "k1=plot(kinetic(20,v),color=\"green\")"
   ]
  },
  {
   "cell_type": "code",
   "execution_count": 16,
   "metadata": {},
   "outputs": [
    {
     "data": {
      "image/png": "[encoded data removed]",
      "text/plain": [
       "Graphics object consisting of 2 graphics primitives"
      ]
     },
     "metadata": {},
     "output_type": "display_data"
    }
   ],
   "source": [
    "show(k1+k2,figsize=(3,3),xmin=-1,ymax=10,fontsize=6,\n",
    "frame=True,axes=False,axes_labels=('$v$','$Ec$'))"
   ]
  },
  {
   "cell_type": "code",
   "execution_count": 17,
   "metadata": {},
   "outputs": [
    {
     "data": {
      "text/html": [
       "<html>\\[\\newcommand{\\Bold}[1]{\\mathbf{#1}}1.12837916709551\\]</html>"
      ],
      "text/latex": [
       "$$\\newcommand{\\Bold}[1]{\\mathbf{#1}}1.12837916709551$$"
      ],
      "text/plain": [
       "1.12837916709551"
      ]
     },
     "execution_count": 17,
     "metadata": {},
     "output_type": "execute_result"
    }
   ],
   "source": [
    "r=2/sqrt(n(pi));\n",
    "f(x)=sqrt(r^2-x^2);r"
   ]
  },
  {
   "cell_type": "code",
   "execution_count": 18,
   "metadata": {},
   "outputs": [
    {
     "data": {
      "text/html": [
       "<html>\\[\\newcommand{\\Bold}[1]{\\mathbf{#1}}1023.55547608840\\]</html>"
      ],
      "text/latex": [
       "$$\\newcommand{\\Bold}[1]{\\mathbf{#1}}1023.55547608840$$"
      ],
      "text/plain": [
       "1023.55547608840"
      ]
     },
     "execution_count": 18,
     "metadata": {},
     "output_type": "execute_result"
    }
   ],
   "source": [
    "# coudée royale \n",
    "c=n(pi)/6;r=sqrt(2.0)\n",
    "cp=c*r*n(pi)*439.995154;cp"
   ]
  },
  {
   "cell_type": "code",
   "execution_count": 19,
   "metadata": {},
   "outputs": [
    {
     "data": {
      "text/html": [
       "<html>\\[\\newcommand{\\Bold}[1]{\\mathbf{#1}}723.770989413219\\]</html>"
      ],
      "text/latex": [
       "$$\\newcommand{\\Bold}[1]{\\mathbf{#1}}723.770989413219$$"
      ],
      "text/plain": [
       "723.770989413219"
      ]
     },
     "execution_count": 19,
     "metadata": {},
     "output_type": "execute_result"
    }
   ],
   "source": [
    "cr=n(pi)/6;cr\n",
    "rp=c*n(pi)*440;rp"
   ]
  },
  {
   "cell_type": "code",
   "execution_count": 20,
   "metadata": {},
   "outputs": [],
   "source": [
    "cc=439.995154\n",
    "ll=cr*cc*r*n(pi)"
   ]
  },
  {
   "cell_type": "code",
   "execution_count": 21,
   "metadata": {},
   "outputs": [
    {
     "data": {
      "text/html": [
       "<html>\\[\\newcommand{\\Bold}[1]{\\mathbf{#1}}299.792458025667\\]</html>"
      ],
      "text/latex": [
       "$$\\newcommand{\\Bold}[1]{\\mathbf{#1}}299.792458025667$$"
      ],
      "text/plain": [
       "299.792458025667"
      ]
     },
     "execution_count": 21,
     "metadata": {},
     "output_type": "execute_result"
    }
   ],
   "source": [
    "lc=cr*cc*n(pi)\n",
    "ll-lc"
   ]
  },
  {
   "cell_type": "markdown",
   "metadata": {},
   "source": [
    "https://echo-bat.fr/2018/08/06/acoustique-et-nombre-dor/\n",
    "\n",
    "F = C / Co = 340 / [3/2 (Ψ – 1)] = 340 / 0,4872 = 697 Hz (soit Fa4)\n",
    "\n",
    "F = C / P = 340 / (Ψ – 1) = 340 / 0,3248 = 1047 Hz (soit Do5)"
   ]
  },
  {
   "cell_type": "code",
   "execution_count": 25,
   "metadata": {},
   "outputs": [
    {
     "data": {
      "text/html": [
       "<html>\\[\\newcommand{\\Bold}[1]{\\mathbf{#1}}\\mathrm{False}\\]</html>"
      ],
      "text/latex": [
       "$$\\newcommand{\\Bold}[1]{\\mathbf{#1}}\\mathrm{False}$$"
      ],
      "text/plain": [
       "False"
      ]
     },
     "execution_count": 25,
     "metadata": {},
     "output_type": "execute_result"
    }
   ],
   "source": [
    "A=2;B=1;A/B==B/(A+B)"
   ]
  },
  {
   "cell_type": "code",
   "execution_count": 26,
   "metadata": {},
   "outputs": [
    {
     "data": {
      "text/html": [
       "<html>\\[\\newcommand{\\Bold}[1]{\\mathbf{#1}}\\mathrm{False}\\]</html>"
      ],
      "text/latex": [
       "$$\\newcommand{\\Bold}[1]{\\mathbf{#1}}\\mathrm{False}$$"
      ],
      "text/plain": [
       "False"
      ]
     },
     "execution_count": 26,
     "metadata": {},
     "output_type": "execute_result"
    }
   ],
   "source": [
    "bb=A^2+A*B;B^2-A*B-A^2==0"
   ]
  },
  {
   "cell_type": "code",
   "execution_count": 38,
   "metadata": {},
   "outputs": [],
   "source": [
    "C=x^2-x-1"
   ]
  },
  {
   "cell_type": "code",
   "execution_count": 39,
   "metadata": {},
   "outputs": [
    {
     "data": {
      "text/html": [
       "<html>\\[\\newcommand{\\Bold}[1]{\\mathbf{#1}}x^{2} - x - 1\\]</html>"
      ],
      "text/latex": [
       "$$\\newcommand{\\Bold}[1]{\\mathbf{#1}}x^{2} - x - 1$$"
      ],
      "text/plain": [
       "x^2 - x - 1"
      ]
     },
     "execution_count": 39,
     "metadata": {},
     "output_type": "execute_result"
    }
   ],
   "source": [
    "C"
   ]
  },
  {
   "cell_type": "code",
   "execution_count": 88,
   "metadata": {},
   "outputs": [
    {
     "data": {
      "text/html": [
       "<html>\\[\\newcommand{\\Bold}[1]{\\mathbf{#1}}\\left[x = -\\frac{1}{2} \\, \\sqrt{5} + \\frac{1}{2}, x = \\frac{1}{2} \\, \\sqrt{5} + \\frac{1}{2}\\right]\\]</html>"
      ],
      "text/latex": [
       "$$\\newcommand{\\Bold}[1]{\\mathbf{#1}}\\left[x = -\\frac{1}{2} \\, \\sqrt{5} + \\frac{1}{2}, x = \\frac{1}{2} \\, \\sqrt{5} + \\frac{1}{2}\\right]$$"
      ],
      "text/plain": [
       "[x == -1/2*sqrt(5) + 1/2, x == 1/2*sqrt(5) + 1/2]"
      ]
     },
     "execution_count": 88,
     "metadata": {},
     "output_type": "execute_result"
    }
   ],
   "source": [
    "solve(C==0,x)   # 1.618 n or"
   ]
  },
  {
   "cell_type": "code",
   "execution_count": 45,
   "metadata": {},
   "outputs": [
    {
     "data": {
      "text/html": [
       "<html>\\[\\newcommand{\\Bold}[1]{\\mathbf{#1}}x^{3} - x^{2} - 1\\]</html>"
      ],
      "text/latex": [
       "$$\\newcommand{\\Bold}[1]{\\mathbf{#1}}x^{3} - x^{2} - 1$$"
      ],
      "text/plain": [
       "x^3 - x^2 - 1"
      ]
     },
     "execution_count": 45,
     "metadata": {},
     "output_type": "execute_result"
    }
   ],
   "source": [
    "R=x^3-x^2-1;R"
   ]
  },
  {
   "cell_type": "code",
   "execution_count": 49,
   "metadata": {},
   "outputs": [
    {
     "data": {
      "text/html": [
       "<html>\\[\\newcommand{\\Bold}[1]{\\mathbf{#1}}\\left[x = -\\frac{1}{2} i \\, \\sqrt{7} - \\frac{1}{2}, x = \\frac{1}{2} i \\, \\sqrt{7} - \\frac{1}{2}, x = 2\\right]\\]</html>"
      ],
      "text/latex": [
       "$$\\newcommand{\\Bold}[1]{\\mathbf{#1}}\\left[x = -\\frac{1}{2} i \\, \\sqrt{7} - \\frac{1}{2}, x = \\frac{1}{2} i \\, \\sqrt{7} - \\frac{1}{2}, x = 2\\right]$$"
      ],
      "text/plain": [
       "[x == -1/2*I*sqrt(7) - 1/2, x == 1/2*I*sqrt(7) - 1/2, x == 2]"
      ]
     },
     "execution_count": 49,
     "metadata": {},
     "output_type": "execute_result"
    }
   ],
   "source": [
    "solve(R==3,x)"
   ]
  },
  {
   "cell_type": "code",
   "execution_count": 68,
   "metadata": {},
   "outputs": [
    {
     "data": {
      "text/html": [
       "<html>\\[\\newcommand{\\Bold}[1]{\\mathbf{#1}}\\left[x = -i \\, \\sqrt{5} - 1, x = i \\, \\sqrt{5} - 1, x = 3\\right]\\]</html>"
      ],
      "text/latex": [
       "$$\\newcommand{\\Bold}[1]{\\mathbf{#1}}\\left[x = -i \\, \\sqrt{5} - 1, x = i \\, \\sqrt{5} - 1, x = 3\\right]$$"
      ],
      "text/plain": [
       "[x == -I*sqrt(5) - 1, x == I*sqrt(5) - 1, x == 3]"
      ]
     },
     "execution_count": 68,
     "metadata": {},
     "output_type": "execute_result"
    }
   ],
   "source": [
    "solve(R==17,x)"
   ]
  },
  {
   "cell_type": "markdown",
   "metadata": {},
   "source": [
    "$\\Psi$=1,347 et $\\phi$"
   ]
  },
  {
   "cell_type": "code",
   "execution_count": 69,
   "metadata": {},
   "outputs": [
    {
     "data": {
      "text/html": [
       "<html>\\[\\newcommand{\\Bold}[1]{\\mathbf{#1}}1.32480000000000\\]</html>"
      ],
      "text/latex": [
       "$$\\newcommand{\\Bold}[1]{\\mathbf{#1}}1.32480000000000$$"
      ],
      "text/plain": [
       "1.32480000000000"
      ]
     },
     "execution_count": 69,
     "metadata": {},
     "output_type": "execute_result"
    }
   ],
   "source": [
    "P=0.3248;1+P"
   ]
  },
  {
   "cell_type": "code",
   "execution_count": 71,
   "metadata": {},
   "outputs": [
    {
     "data": {
      "text/html": [
       "<html>\\[\\newcommand{\\Bold}[1]{\\mathbf{#1}}0.348000000000000\\]</html>"
      ],
      "text/latex": [
       "$$\\newcommand{\\Bold}[1]{\\mathbf{#1}}0.348000000000000$$"
      ],
      "text/plain": [
       "0.348000000000000"
      ]
     },
     "execution_count": 71,
     "metadata": {},
     "output_type": "execute_result"
    }
   ],
   "source": [
    "psi=1.348;psi-1"
   ]
  },
  {
   "cell_type": "code",
   "execution_count": 85,
   "metadata": {},
   "outputs": [
    {
     "data": {
      "text/html": [
       "<html>\\[\\newcommand{\\Bold}[1]{\\mathbf{#1}}1.34800000000000\\]</html>"
      ],
      "text/latex": [
       "$$\\newcommand{\\Bold}[1]{\\mathbf{#1}}1.34800000000000$$"
      ],
      "text/plain": [
       "1.34800000000000"
      ]
     },
     "execution_count": 85,
     "metadata": {},
     "output_type": "execute_result"
    }
   ],
   "source": [
    "4.044/3.0"
   ]
  },
  {
   "cell_type": "code",
   "execution_count": 84,
   "metadata": {},
   "outputs": [
    {
     "data": {
      "text/html": [
       "<html>\\[\\newcommand{\\Bold}[1]{\\mathbf{#1}}4.04400000000000\\]</html>"
      ],
      "text/latex": [
       "$$\\newcommand{\\Bold}[1]{\\mathbf{#1}}4.04400000000000$$"
      ],
      "text/plain": [
       "4.04400000000000"
      ]
     },
     "execution_count": 84,
     "metadata": {},
     "output_type": "execute_result"
    }
   ],
   "source": [
    "1.348*3"
   ]
  },
  {
   "cell_type": "code",
   "execution_count": 87,
   "metadata": {},
   "outputs": [
    {
     "data": {
      "text/html": [
       "<html>\\[\\newcommand{\\Bold}[1]{\\mathbf{#1}}3.97440000000000\\]</html>"
      ],
      "text/latex": [
       "$$\\newcommand{\\Bold}[1]{\\mathbf{#1}}3.97440000000000$$"
      ],
      "text/plain": [
       "3.97440000000000"
      ]
     },
     "execution_count": 87,
     "metadata": {},
     "output_type": "execute_result"
    }
   ],
   "source": [
    "1.3248*3"
   ]
  },
  {
   "cell_type": "code",
   "execution_count": 89,
   "metadata": {},
   "outputs": [
    {
     "data": {
      "text/html": [
       "<html>\\[\\newcommand{\\Bold}[1]{\\mathbf{#1}}3.23600000000000\\]</html>"
      ],
      "text/latex": [
       "$$\\newcommand{\\Bold}[1]{\\mathbf{#1}}3.23600000000000$$"
      ],
      "text/plain": [
       "3.23600000000000"
      ]
     },
     "execution_count": 89,
     "metadata": {},
     "output_type": "execute_result"
    }
   ],
   "source": [
    "dor=1.618*2;dor   # 0.3248"
   ]
  },
  {
   "cell_type": "code",
   "execution_count": 90,
   "metadata": {},
   "outputs": [
    {
     "data": {
      "text/html": [
       "<html>\\[\\newcommand{\\Bold}[1]{\\mathbf{#1}}2.07910601814573\\]</html>"
      ],
      "text/latex": [
       "$$\\newcommand{\\Bold}[1]{\\mathbf{#1}}2.07910601814573$$"
      ],
      "text/plain": [
       "2.07910601814573"
      ]
     },
     "execution_count": 90,
     "metadata": {},
     "output_type": "execute_result"
    }
   ],
   "source": [
    "1.3236/2*n(pi)"
   ]
  },
  {
   "cell_type": "code",
   "execution_count": 93,
   "metadata": {},
   "outputs": [
    {
     "data": {
      "text/html": [
       "<html>\\[\\newcommand{\\Bold}[1]{\\mathbf{#1}}0.657849501661703\\]</html>"
      ],
      "text/latex": [
       "$$\\newcommand{\\Bold}[1]{\\mathbf{#1}}0.657849501661703$$"
      ],
      "text/plain": [
       "0.657849501661703"
      ]
     },
     "execution_count": 93,
     "metadata": {},
     "output_type": "execute_result"
    }
   ],
   "source": [
    "1.047*2*n(pi)/10 #"
   ]
  },
  {
   "cell_type": "code",
   "execution_count": 94,
   "metadata": {},
   "outputs": [
    {
     "data": {
      "text/html": [
       "<html>\\[\\newcommand{\\Bold}[1]{\\mathbf{#1}}1.04617834394904\\]</html>"
      ],
      "text/latex": [
       "$$\\newcommand{\\Bold}[1]{\\mathbf{#1}}1.04617834394904$$"
      ],
      "text/plain": [
       "1.04617834394904"
      ]
     },
     "execution_count": 94,
     "metadata": {},
     "output_type": "execute_result"
    }
   ],
   "source": [
    "0.657/0.628"
   ]
  },
  {
   "cell_type": "code",
   "execution_count": 95,
   "metadata": {},
   "outputs": [
    {
     "data": {
      "text/html": [
       "<html>\\[\\newcommand{\\Bold}[1]{\\mathbf{#1}}1.01987200000000\\]</html>"
      ],
      "text/latex": [
       "$$\\newcommand{\\Bold}[1]{\\mathbf{#1}}1.01987200000000$$"
      ],
      "text/plain": [
       "1.01987200000000"
      ]
     },
     "execution_count": 95,
     "metadata": {},
     "output_type": "execute_result"
    }
   ],
   "source": [
    "0.3248*3.14"
   ]
  },
  {
   "cell_type": "code",
   "execution_count": 96,
   "metadata": {},
   "outputs": [
    {
     "data": {
      "text/html": [
       "<html>\\[\\newcommand{\\Bold}[1]{\\mathbf{#1}}3.13785900000000\\]</html>"
      ],
      "text/latex": [
       "$$\\newcommand{\\Bold}[1]{\\mathbf{#1}}3.13785900000000$$"
      ],
      "text/plain": [
       "3.13785900000000"
      ]
     },
     "execution_count": 96,
     "metadata": {},
     "output_type": "execute_result"
    }
   ],
   "source": [
    "1.047*2.997"
   ]
  },
  {
   "cell_type": "markdown",
   "metadata": {},
   "source": [
    "https://www.ouest-france.fr/leditiondusoir/2020-10-16/la-science-a-enfin-mesure-la-vitesse-du-son-attachez-bien-vos-ceintures-b68ced35-79ab-46bc-a7ac-e6ec9cc2378f\n",
    "\n",
    "129600kmh/vitesse maximale du son = 360*360 =36km/S"
   ]
  },
  {
   "cell_type": "code",
   "execution_count": null,
   "metadata": {},
   "outputs": [],
   "source": []
  }
 ],
 "metadata": {
  "kernelspec": {
   "display_name": "SageMath 9.5.beta7",
   "language": "sage",
   "name": "sagemath"
  },
  "language_info": {
   "codemirror_mode": {
    "name": "ipython",
    "version": 3
   },
   "file_extension": ".py",
   "mimetype": "text/x-python",
   "name": "python",
   "nbconvert_exporter": "python",
   "pygments_lexer": "ipython3",
   "version": "3.8.10"
  }
 },
 "nbformat": 4,
 "nbformat_minor": 4
}
