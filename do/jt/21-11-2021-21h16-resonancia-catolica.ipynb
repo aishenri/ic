{
 "cells": [
  {
   "cell_type": "markdown",
   "metadata": {},
   "source": [
    "###### Qui persiste, découvre !"
   ]
  },
  {
   "cell_type": "markdown",
   "metadata": {},
   "source": [
    "Comme je le disais, Einstein utilise(Certainement inconsciemment) $c$ comme une réinvention de la formule de la roue (circonférence du cercle), c'est la même formule avec des noms de variables différents. En fait c'est un prophète (un gourou, une idole) qui hypnotise ses adorateurs. Comme vous le faisiez justement remarqué c'est un écran plat (inertie) qui hyptnotise ! \n",
    "\n",
    "Le bon Dieu a fait l'homme à son image il a fait, quand une société transforme ses idoles en images voila ce qui arrive !\n",
    "\n",
    "Ce sont des paraboles, des métaphores :  Dans le cas de la célérité $c$ c'est ce qui se passe, l'image $c$ fait la lumière, et la lumière est l'image $c$.\n",
    "\n",
    "Mais en plus nous avons ici, une variable(qui n'est pas l'effet d'une coïncidence anodine, $c$= célérité = circonférence, initiale identique !\n",
    "\n",
    "Preuve que ce n'est pas une invention de ma part !\n",
    "\n",
    "$2\\pi f$ Egale fréquence angulaire = célérité, égale circonférence $c=2\\pi r$.\n",
    "\n",
    "Naturellement les matheux/physiciens, ont chopé cette formule sous la forme électronique de la $F_a$ (fréquence angulaire, fréquence propre ? Où est la sale ? 😂) qui donne le même résultat dans sa forme fondamentale $w=\\frac{1}{\\sqrt \\mu\\epsilon}$ =$2 \\pi f = 2 \\pi r $, à l'école primaire j'ai appris $\\pi r 2$, qui donne le même résultat, mais qui n'hyptnotise pas de la même façon ! 😂 \n",
    "\n",
    "Ce n'est plus le même gourou qui a lancé sa litanie, son mantra : Plusieurs millénaires sont passés sur terre ! \n",
    "\n",
    "Entre la lorgnette vu du côté Galillée (+) et la lorgnette vu côté Einstein (-) il y a toujours la relativité : Petit / Grand, Yin/Yang !\n",
    "\n",
    "La voie (dao) dit, voilà des millénaires, le ciel est rond, la terre est carré, je me demande si elle n'a pas hyptnotisé les européens quelques siècles ?\n",
    "\n",
    "Aujourd'hui on dirait le ciel est carré et la terre est ronde, L'image de la terre est le miroir du ciel, etc..."
   ]
  },
  {
   "cell_type": "code",
   "execution_count": 1,
   "metadata": {},
   "outputs": [
    {
     "data": {
      "text/html": [
       "<html><script type=\"math/tex; mode=display\">\\newcommand{\\Bold}[1]{\\mathbf{#1}}Circonférence=ç= \\pi r 2=3.14</script></html>"
      ],
      "text/latex": [
       "\\begin{math}\n",
       "\\newcommand{\\Bold}[1]{\\mathbf{#1}}Circonférence=ç= \\pi r 2=3.14\n",
       "\\end{math}"
      ],
      "text/plain": [
       "Circonférence=ç= \\pi r 2=3.14"
      ]
     },
     "metadata": {},
     "output_type": "display_data"
    },
    {
     "data": {
      "text/html": [
       "<html><script type=\"math/tex; mode=display\">\\newcommand{\\Bold}[1]{\\mathbf{#1}}Célérité=ç= \\pi r 2=3.14</script></html>"
      ],
      "text/latex": [
       "\\begin{math}\n",
       "\\newcommand{\\Bold}[1]{\\mathbf{#1}}Célérité=ç= \\pi r 2=3.14\n",
       "\\end{math}"
      ],
      "text/plain": [
       "Célérité=ç= \\pi r 2=3.14"
      ]
     },
     "metadata": {},
     "output_type": "display_data"
    }
   ],
   "source": [
    "show(LatexExpr(r\"Circonférence=ç= \\pi r 2=3.14\"))\n",
    "show(LatexExpr(r\"Célérité=ç= \\pi r 2=3.14\"))"
   ]
  },
  {
   "cell_type": "code",
   "execution_count": 2,
   "metadata": {},
   "outputs": [
    {
     "data": {
      "text/html": [
       "<html><script type=\"math/tex; mode=display\">\\newcommand{\\Bold}[1]{\\mathbf{#1}}Circonférence=c= \\pi r 2=2.99</script></html>"
      ],
      "text/latex": [
       "\\begin{math}\n",
       "\\newcommand{\\Bold}[1]{\\mathbf{#1}}Circonférence=c= \\pi r 2=2.99\n",
       "\\end{math}"
      ],
      "text/plain": [
       "Circonférence=c= \\pi r 2=2.99"
      ]
     },
     "metadata": {},
     "output_type": "display_data"
    },
    {
     "data": {
      "text/html": [
       "<html><script type=\"math/tex; mode=display\">\\newcommand{\\Bold}[1]{\\mathbf{#1}}Célérité=c=\\frac{1}{\\sqrt \\mu\\epsilon}=2.99</script></html>"
      ],
      "text/latex": [
       "\\begin{math}\n",
       "\\newcommand{\\Bold}[1]{\\mathbf{#1}}Célérité=c=\\frac{1}{\\sqrt \\mu\\epsilon}=2.99\n",
       "\\end{math}"
      ],
      "text/plain": [
       "Célérité=c=\\frac{1}{\\sqrt \\mu\\epsilon}=2.99"
      ]
     },
     "metadata": {},
     "output_type": "display_data"
    }
   ],
   "source": [
    "show(LatexExpr(r\"Circonférence=c= \\pi r 2=2.99\"))\n",
    "show(LatexExpr(r\"Célérité=c=\\frac{1}{\\sqrt \\mu\\epsilon}=2.99\"))"
   ]
  },
  {
   "cell_type": "markdown",
   "metadata": {},
   "source": [
    "On obtient ces valeurs car c'est la fréquence de résonnance qui change, dans le cas de : $ç$ la fréquence de résonnance $f_r$ est de 0.500 et dans le cas de $c$ elle est de 0.477"
   ]
  },
  {
   "cell_type": "code",
   "execution_count": 3,
   "metadata": {},
   "outputs": [
    {
     "data": {
      "text/plain": [
       "1.25663706143592e-6"
      ]
     },
     "execution_count": 3,
     "metadata": {},
     "output_type": "execute_result"
    }
   ],
   "source": [
    "v=299792458;mu=4E-7*n(pi);mu"
   ]
  },
  {
   "cell_type": "code",
   "execution_count": 4,
   "metadata": {},
   "outputs": [
    {
     "data": {
      "text/plain": [
       "8.85418781762039e-12"
      ]
     },
     "execution_count": 4,
     "metadata": {},
     "output_type": "execute_result"
    }
   ],
   "source": [
    "epsilon=1/(mu*v*v);epsilon"
   ]
  },
  {
   "cell_type": "code",
   "execution_count": 5,
   "metadata": {},
   "outputs": [
    {
     "data": {
      "text/html": [
       "<html><script type=\"math/tex; mode=display\">\\newcommand{\\Bold}[1]{\\mathbf{#1}}Célérité=c=\\frac{1}{\\sqrt \\mu\\epsilon}= 299792458</script></html>"
      ],
      "text/latex": [
       "\\begin{math}\n",
       "\\newcommand{\\Bold}[1]{\\mathbf{#1}}Célérité=c=\\frac{1}{\\sqrt \\mu\\epsilon}= 299792458\n",
       "\\end{math}"
      ],
      "text/plain": [
       "Célérité=c=\\frac{1}{\\sqrt \\mu\\epsilon}= 299792458"
      ]
     },
     "metadata": {},
     "output_type": "display_data"
    }
   ],
   "source": [
    "c=1/sqrt(mu*epsilon)\n",
    "show(LatexExpr(r\"Célérité=c=\\frac{1}{\\sqrt \\mu\\epsilon}=\"),int(c))"
   ]
  },
  {
   "cell_type": "code",
   "execution_count": 6,
   "metadata": {},
   "outputs": [
    {
     "data": {
      "text/html": [
       "<html><script type=\"math/tex; mode=display\">\\newcommand{\\Bold}[1]{\\mathbf{#1}}Fréquence \\ de \\ résonance=f_c=\\frac{1}{2\\pi\\sqrt \\mu\\epsilon}= 47713451</script></html>"
      ],
      "text/latex": [
       "\\begin{math}\n",
       "\\newcommand{\\Bold}[1]{\\mathbf{#1}}Fréquence \\ de \\ résonance=f_c=\\frac{1}{2\\pi\\sqrt \\mu\\epsilon}= 47713451\n",
       "\\end{math}"
      ],
      "text/plain": [
       "Fréquence \\ de \\ résonance=f_c=\\frac{1}{2\\pi\\sqrt \\mu\\epsilon}= 47713451"
      ]
     },
     "metadata": {},
     "output_type": "display_data"
    }
   ],
   "source": [
    "fc=1/(2*n(pi)*sqrt(mu*epsilon))\n",
    "show(LatexExpr(r\"Fréquence \\ de \\ résonance=f_c=\\frac{1}{2\\pi\\sqrt \\mu\\epsilon}=\"),int(fc))"
   ]
  },
  {
   "cell_type": "code",
   "execution_count": 7,
   "metadata": {},
   "outputs": [
    {
     "data": {
      "text/plain": [
       "1.14591559026165e-6"
      ]
     },
     "execution_count": 7,
     "metadata": {},
     "output_type": "execute_result"
    }
   ],
   "source": [
    "L=1/n(pi)*360E-8;L"
   ]
  },
  {
   "cell_type": "code",
   "execution_count": 8,
   "metadata": {},
   "outputs": [
    {
     "data": {
      "text/plain": [
       "8.84194128288307e-12"
      ]
     },
     "execution_count": 8,
     "metadata": {},
     "output_type": "execute_result"
    }
   ],
   "source": [
    "C=1/(n(pi)*360E+8);C"
   ]
  },
  {
   "cell_type": "code",
   "execution_count": 9,
   "metadata": {},
   "outputs": [
    {
     "data": {
      "text/html": [
       "<html><script type=\"math/tex; mode=display\">\\newcommand{\\Bold}[1]{\\mathbf{#1}}Célérité=ç=\\frac{1}{\\sqrt L C}= 314159265</script></html>"
      ],
      "text/latex": [
       "\\begin{math}\n",
       "\\newcommand{\\Bold}[1]{\\mathbf{#1}}Célérité=ç=\\frac{1}{\\sqrt L C}= 314159265\n",
       "\\end{math}"
      ],
      "text/plain": [
       "Célérité=ç=\\frac{1}{\\sqrt L C}= 314159265"
      ]
     },
     "metadata": {},
     "output_type": "display_data"
    }
   ],
   "source": [
    "ç=1/sqrt(L*C)\n",
    "show(LatexExpr(r\"Célérité=ç=\\frac{1}{\\sqrt L C}=\"),int(ç))"
   ]
  },
  {
   "cell_type": "code",
   "execution_count": 10,
   "metadata": {},
   "outputs": [
    {
     "data": {
      "text/html": [
       "<html><script type=\"math/tex; mode=display\">\\newcommand{\\Bold}[1]{\\mathbf{#1}}Fréquence \\ de \\ résonance=f_ç=\\frac{1}{2\\pi\\sqrt L C}= 50000000</script></html>"
      ],
      "text/latex": [
       "\\begin{math}\n",
       "\\newcommand{\\Bold}[1]{\\mathbf{#1}}Fréquence \\ de \\ résonance=f_ç=\\frac{1}{2\\pi\\sqrt L C}= 50000000\n",
       "\\end{math}"
      ],
      "text/plain": [
       "Fréquence \\ de \\ résonance=f_ç=\\frac{1}{2\\pi\\sqrt L C}= 50000000"
      ]
     },
     "metadata": {},
     "output_type": "display_data"
    }
   ],
   "source": [
    "fç=1/(2*n(pi)*sqrt(L*C))\n",
    "show(LatexExpr(r\"Fréquence \\ de \\ résonance=f_ç=\\frac{1}{2\\pi\\sqrt L C}=\"),int(fç))"
   ]
  },
  {
   "cell_type": "markdown",
   "metadata": {},
   "source": [
    "On peut observer que le rapport $\\frac {f_c}{fc}$ est une constante, je l'intitule : Constante de résonance universelle : Resonancia Catolica, je laisse le soin aux futures générations de trouver d'autres constantes ou solutions !"
   ]
  },
  {
   "cell_type": "code",
   "execution_count": 13,
   "metadata": {},
   "outputs": [
    {
     "data": {
      "text/plain": [
       "1.04792251097584"
      ]
     },
     "execution_count": 13,
     "metadata": {},
     "output_type": "execute_result"
    }
   ],
   "source": [
    "us=fç/fc;us"
   ]
  },
  {
   "cell_type": "markdown",
   "metadata": {},
   "source": [
    "Une première explication : L'abbaye de Cluny, construite en 1047, possède la résonance des chants grégoriens, fréquence : DO5=1047 Hz\n",
    "\n",
    "Rapport : $C5=\\frac {ç}{c}= 1.047 \\times 1000=1047 Hz$\n",
    "\n",
    "Ce rapport est sous multiple du nombre Radiant, mesurer avec le pied du roi, coudée royale."
   ]
  },
  {
   "cell_type": "code",
   "execution_count": null,
   "metadata": {},
   "outputs": [],
   "source": []
  }
 ],
 "metadata": {
  "kernelspec": {
   "display_name": "SageMath 9.2",
   "language": "sage",
   "name": "sagemath"
  },
  "language_info": {
   "codemirror_mode": {
    "name": "ipython",
    "version": 3
   },
   "file_extension": ".py",
   "mimetype": "text/x-python",
   "name": "python",
   "nbconvert_exporter": "python",
   "pygments_lexer": "ipython3",
   "version": "3.7.7"
  }
 },
 "nbformat": 4,
 "nbformat_minor": 4
}
