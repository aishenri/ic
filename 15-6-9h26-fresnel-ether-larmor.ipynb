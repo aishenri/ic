{
 "cells": [
  {
   "cell_type": "markdown",
   "metadata": {},
   "source": [
    "#### Ether : Impédance du vide.\n",
    "\n",
    "Fresnel : La réfraction dépend du changement de la densité de l'éther ?\n",
    "\n",
    "Il avait vu juste, simplement qu'à l'époque (et même maintenant, car je viens juste de le découvrir), la densité de l'éther est une impédance, c'est-à-dire une résistance, pour le vide la science l'a attribuée à $120 \\Omega$ environ. La densité est l'inverse de la célérité : Dit autrement, l'indice de réfraction (la densité , l'éther), est l'inverse de la célérité :\n",
    "\n",
    "$n^2=\\mu\\epsilon=\\frac{1}{c^2}$\n",
    "\n",
    "$c^2=\\frac{1}{n^2}$\n",
    "\n",
    "$r=\\frac{1}{1-\\frac{\\omega^2}{f_r^2}}$"
   ]
  },
  {
   "cell_type": "code",
   "execution_count": 1,
   "metadata": {},
   "outputs": [
    {
     "data": {
      "text/html": [
       "<html>\\[\\newcommand{\\Bold}[1]{\\mathbf{#1}}\\verb|mu=| 1.25663706143592 \\times 10^{-6}\\]</html>"
      ],
      "text/latex": [
       "$$\\newcommand{\\Bold}[1]{\\mathbf{#1}}\\verb|mu=| 1.25663706143592 \\times 10^{-6}$$"
      ],
      "text/plain": [
       "'mu=' 1.25663706143592e-6"
      ]
     },
     "metadata": {},
     "output_type": "display_data"
    },
    {
     "data": {
      "text/html": [
       "<html>\\[\\newcommand{\\Bold}[1]{\\mathbf{#1}}\\verb|epsilon=| 8.85418781762039 \\times 10^{-12}\\]</html>"
      ],
      "text/latex": [
       "$$\\newcommand{\\Bold}[1]{\\mathbf{#1}}\\verb|epsilon=| 8.85418781762039 \\times 10^{-12}$$"
      ],
      "text/plain": [
       "'epsilon=' 8.85418781762039e-12"
      ]
     },
     "metadata": {},
     "output_type": "display_data"
    },
    {
     "data": {
      "text/html": [
       "<html>\\[\\newcommand{\\Bold}[1]{\\mathbf{#1}}\\verb|c^2=| 8.98755178736818 \\times 10^{16}\\]</html>"
      ],
      "text/latex": [
       "$$\\newcommand{\\Bold}[1]{\\mathbf{#1}}\\verb|c^2=| 8.98755178736818 \\times 10^{16}$$"
      ],
      "text/plain": [
       "'c^2=' 8.98755178736818e16"
      ]
     },
     "metadata": {},
     "output_type": "display_data"
    },
    {
     "data": {
      "text/html": [
       "<html>\\[\\newcommand{\\Bold}[1]{\\mathbf{#1}}\\verb|n^2=1/c^2=| 1.11265005605362 \\times 10^{-17}\\]</html>"
      ],
      "text/latex": [
       "$$\\newcommand{\\Bold}[1]{\\mathbf{#1}}\\verb|n^2=1/c^2=| 1.11265005605362 \\times 10^{-17}$$"
      ],
      "text/plain": [
       "'n^2=1/c^2=' 1.11265005605362e-17"
      ]
     },
     "metadata": {},
     "output_type": "display_data"
    }
   ],
   "source": [
    "%display latex\n",
    "c=299792458;mu=n(pi)*4E-7;ep=1/(mu*c*c)\n",
    "show(\"mu=\",mu)\n",
    "show(\"epsilon=\",ep)\n",
    "show(\"c^2=\",1/(mu*ep))\n",
    "show(\"n^2=1/c^2=\",(mu*ep))"
   ]
  },
  {
   "cell_type": "markdown",
   "metadata": {},
   "source": [
    "Ceci montre que l'éther ne dépends pas de la vitesse de la terre et qu'à aucun moment on ne peut discerner la vitesse de la lumière avec les expériences qui ont été essayé pour prouver $c$.\n",
    "\n",
    "Les physiciens ont confondu accélération et vitesse : La célérité $c$ dure une seconde, l'accérélation dure aussi une seconde, mais elle est $c$ fois plus rapide, chemin parcouru par $c$ en 1 seconde :\n",
    "c=299792.548 km/s\n",
    "\n",
    "chemin parcouru par $c^2$ en 1 seconde : $c^2=299792.548^2$=89875571836332304 kms\n",
    "\n",
    "On ne peut pas dire que cela est la même vitesse,$c^2$ est supraluminique et indique que si on envoie une particule à cette vitesse elle sera transformée en soupe atomique."
   ]
  },
  {
   "cell_type": "code",
   "execution_count": 2,
   "metadata": {},
   "outputs": [
    {
     "data": {
      "text/html": [
       "<html>\\[\\newcommand{\\Bold}[1]{\\mathbf{#1}}89875571836332304\\]</html>"
      ],
      "text/latex": [
       "$$\\newcommand{\\Bold}[1]{\\mathbf{#1}}89875571836332304$$"
      ],
      "text/plain": [
       "89875571836332304"
      ]
     },
     "execution_count": 2,
     "metadata": {},
     "output_type": "execute_result"
    }
   ],
   "source": [
    "c=299792548;c^2"
   ]
  },
  {
   "cell_type": "code",
   "execution_count": 3,
   "metadata": {},
   "outputs": [
    {
     "data": {
      "text/html": [
       "<html>\\[\\newcommand{\\Bold}[1]{\\mathbf{#1}}89875571836332304\\]</html>"
      ],
      "text/latex": [
       "$$\\newcommand{\\Bold}[1]{\\mathbf{#1}}89875571836332304$$"
      ],
      "text/plain": [
       "89875571836332304"
      ]
     },
     "execution_count": 3,
     "metadata": {},
     "output_type": "execute_result"
    }
   ],
   "source": [
    "m=1;m*c^2"
   ]
  },
  {
   "cell_type": "markdown",
   "metadata": {},
   "source": [
    "C'est curieux l'année lumière correspond à peu près à la célérité au carré ?\n",
    "\n",
    "10 Pm = 10000 milliard de kms \n",
    "\n",
    "Avec ma chiracécité $ç=314159265$ c'est encore plus proche."
   ]
  },
  {
   "cell_type": "code",
   "execution_count": 11,
   "metadata": {},
   "outputs": [
    {
     "data": {
      "text/html": [
       "<html>\\[\\newcommand{\\Bold}[1]{\\mathbf{#1}}98696043785340225\\]</html>"
      ],
      "text/latex": [
       "$$\\newcommand{\\Bold}[1]{\\mathbf{#1}}98696043785340225$$"
      ],
      "text/plain": [
       "98696043785340225"
      ]
     },
     "execution_count": 11,
     "metadata": {},
     "output_type": "execute_result"
    }
   ],
   "source": [
    "ç=314159265;ç^2   # parsec=3.26 al  (9,461 Pm=al)"
   ]
  },
  {
   "cell_type": "code",
   "execution_count": null,
   "metadata": {},
   "outputs": [],
   "source": [
    "pc=3.085677581;pc # parallaxe 3.26 -->au"
   ]
  },
  {
   "cell_type": "markdown",
   "metadata": {},
   "source": [
    "1pc/1ua=1°"
   ]
  },
  {
   "cell_type": "markdown",
   "metadata": {},
   "source": [
    "Une unité astronomique équivaut à environ 8,32 minutes-lumière et une année-lumière vaut 63 241,077 ua. \n",
    "\n",
    "Par approximation, l'année-lumière est souvent arrondie à 10 000 000 000 000 (dix mille milliards) de kilomètres. \n",
    "\n",
    "siècle lumière =946 073 047 258 080 000 m 9.5E+17 (1E+18)\n",
    "\n",
    "univers observable=46.6 Milliard al\n",
    "\n",
    "L'univers est infinie, ou il est fini par rapport à la vie de l'homme ."
   ]
  },
  {
   "cell_type": "code",
   "execution_count": 14,
   "metadata": {},
   "outputs": [
    {
     "data": {
      "text/html": [
       "<html>\\[\\newcommand{\\Bold}[1]{\\mathbf{#1}}98696043785340225\\]</html>"
      ],
      "text/latex": [
       "$$\\newcommand{\\Bold}[1]{\\mathbf{#1}}98696043785340225$$"
      ],
      "text/plain": [
       "98696043785340225"
      ]
     },
     "execution_count": 14,
     "metadata": {},
     "output_type": "execute_result"
    }
   ],
   "source": [
    "ç=314159265;ç^2#  ç^2=98696043785340225 E+17 =1E+18"
   ]
  },
  {
   "cell_type": "code",
   "execution_count": 2,
   "metadata": {},
   "outputs": [
    {
     "data": {
      "text/plain": [
       "941825783"
      ]
     },
     "execution_count": 2,
     "metadata": {},
     "output_type": "execute_result"
    }
   ],
   "source": [
    "int(299792458*n(pi)) kms"
   ]
  },
  {
   "cell_type": "code",
   "execution_count": 4,
   "metadata": {},
   "outputs": [
    {
     "data": {
      "text/plain": [
       "956"
      ]
     },
     "execution_count": 4,
     "metadata": {},
     "output_type": "execute_result"
    }
   ],
   "source": [
    "(6*60)+(9*60)+56"
   ]
  },
  {
   "cell_type": "code",
   "execution_count": 8,
   "metadata": {},
   "outputs": [
    {
     "data": {
      "text/plain": [
       "0.00860149475000000"
      ]
     },
     "execution_count": 8,
     "metadata": {},
     "output_type": "execute_result"
    }
   ],
   "source": [
    "n(pi)/365.237990012119"
   ]
  },
  {
   "cell_type": "code",
   "execution_count": null,
   "metadata": {},
   "outputs": [],
   "source": []
  }
 ],
 "metadata": {
  "kernelspec": {
   "display_name": "SageMath 9.5.beta7",
   "language": "sage",
   "name": "sagemath"
  },
  "language_info": {
   "codemirror_mode": {
    "name": "ipython",
    "version": 3
   },
   "file_extension": ".py",
   "mimetype": "text/x-python",
   "name": "python",
   "nbconvert_exporter": "python",
   "pygments_lexer": "ipython3",
   "version": "3.8.10"
  }
 },
 "nbformat": 4,
 "nbformat_minor": 2
}
