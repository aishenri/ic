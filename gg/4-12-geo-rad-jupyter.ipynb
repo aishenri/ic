{
 "cells": [
  {
   "cell_type": "code",
   "execution_count": 1,
   "id": "2548a8c3",
   "metadata": {
    "scrolled": true
   },
   "outputs": [
    {
     "data": {
      "text/html": [
       "\n",
       "<iframe width=\"800\" height=\"800\" src=\"https://www.geogebra.org/classic/hqekapj8\" style=\"border: 1px solid black\"></iframe>\n"
      ],
      "text/plain": [
       "<IPython.core.display.HTML object>"
      ]
     },
     "execution_count": 1,
     "metadata": {},
     "output_type": "execute_result"
    }
   ],
   "source": [
    "import IPython.display as display\n",
    "fig01 = \"\"\"\n",
    "<iframe width=\"800\" height=\"800\" src=\"https://www.geogebra.org/classic/hqekapj8\" style=\"border: 1px solid black\"></iframe>\n",
    "\"\"\"\n",
    "display.HTML(fig01)"
   ]
  },
  {
   "cell_type": "code",
   "execution_count": null,
   "id": "228fcbda",
   "metadata": {},
   "outputs": [],
   "source": []
  },
  {
   "cell_type": "code",
   "execution_count": null,
   "id": "a9eee62b",
   "metadata": {},
   "outputs": [],
   "source": []
  }
 ],
 "metadata": {
  "kernelspec": {
   "display_name": "SageMath 9.5.beta7",
   "language": "sage",
   "name": "sagemath"
  },
  "language_info": {
   "codemirror_mode": {
    "name": "ipython",
    "version": 3
   },
   "file_extension": ".py",
   "mimetype": "text/x-python",
   "name": "python",
   "nbconvert_exporter": "python",
   "pygments_lexer": "ipython3",
   "version": "3.8.10"
  }
 },
 "nbformat": 4,
 "nbformat_minor": 5
}
