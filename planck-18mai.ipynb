{
 "cells": [
  {
   "cell_type": "markdown",
   "id": "spoken-script",
   "metadata": {},
   "source": [
    "Par exemple, pour une Led rouge la longueur d’onde est l = 650 nm (nano mètre). La fréquence f est liée à la longueur d’onde par\n",
    "\n",
    "-  f = c/l c étant la vitesse de la lumière.\n",
    "\n",
    "Soit f = 4.32 10**14 Hertz.\n",
    "\n",
    "D’après la relation d’Einstein la fréquence f d’un photon est liée à son énergie E via la constante de Planck h\n",
    "\n",
    "E = h.f énergie exprimée ici en electron.Volt\n",
    "\n",
    "L’énergie E restituée par le photon provient de l’ electron de charge q (charge électrique q = 1.6 10**-19 Coulomb ) soumis à la tension V d’allumage\n",
    "\n",
    "E = h.f = V.q electron.Volt\n",
    "\n",
    "Donc\n",
    "\n",
    "h = (V/f).q"
   ]
  },
  {
   "cell_type": "code",
   "execution_count": 10,
   "id": "dimensional-basic",
   "metadata": {},
   "outputs": [
    {
     "data": {
      "text/plain": [
       "4.61219166153846e14"
      ]
     },
     "execution_count": 10,
     "metadata": {},
     "output_type": "execute_result"
    }
   ],
   "source": [
    "l=650*1E-9;c=299792458;f=c/l;q=1.6E-19;f"
   ]
  },
  {
   "cell_type": "code",
   "execution_count": 45,
   "id": "religious-batch",
   "metadata": {},
   "outputs": [
    {
     "data": {
      "text/plain": [
       "-1.00000000000000e-14"
      ]
     },
     "execution_count": 45,
     "metadata": {},
     "output_type": "execute_result"
    }
   ],
   "source": [
    "rn=1;rf=4;jn=2;jf=3;vn=3;vf=2;bn=4;bf=1\n",
    "p=(bn-rn)/(bf-rf)*1E-14;p"
   ]
  },
  {
   "cell_type": "code",
   "execution_count": 43,
   "id": "ancient-mercy",
   "metadata": {},
   "outputs": [
    {
     "data": {
      "text/plain": [
       "9.60000000000000e-34"
      ]
     },
     "execution_count": 43,
     "metadata": {},
     "output_type": "execute_result"
    }
   ],
   "source": [
    "h=p*1.6E-19;h"
   ]
  },
  {
   "cell_type": "code",
   "execution_count": 47,
   "id": "female-holmes",
   "metadata": {},
   "outputs": [
    {
     "data": {
      "text/plain": [
       "6.62626240000000e-34"
      ]
     },
     "execution_count": 47,
     "metadata": {},
     "output_type": "execute_result"
    }
   ],
   "source": [
    "h=4.141414E-15*1.6E-19;h"
   ]
  },
  {
   "cell_type": "code",
   "execution_count": 60,
   "id": "broke-productivity",
   "metadata": {},
   "outputs": [
    {
     "data": {
      "text/plain": [
       "3.14159265358979323846264338327950"
      ]
     },
     "execution_count": 60,
     "metadata": {},
     "output_type": "execute_result"
    }
   ],
   "source": [
    "ç=n(pi,digits=33);ç"
   ]
  },
  {
   "cell_type": "code",
   "execution_count": 65,
   "id": "crazy-insured",
   "metadata": {},
   "outputs": [
    {
     "data": {
      "text/plain": [
       "6.44703685594177e-34"
      ]
     },
     "execution_count": 65,
     "metadata": {},
     "output_type": "execute_result"
    }
   ],
   "source": [
    "(1/(ç*1E+8)^4)*6.28"
   ]
  },
  {
   "cell_type": "code",
   "execution_count": 77,
   "id": "cloudy-equilibrium",
   "metadata": {},
   "outputs": [
    {
     "data": {
      "text/plain": [
       "6.63324958071080"
      ]
     },
     "execution_count": 77,
     "metadata": {},
     "output_type": "execute_result"
    }
   ],
   "source": [
    "sqrt(44.)"
   ]
  },
  {
   "cell_type": "code",
   "execution_count": 94,
   "id": "allied-preference",
   "metadata": {},
   "outputs": [
    {
     "data": {
      "text/plain": [
       "1/2"
      ]
     },
     "execution_count": 94,
     "metadata": {},
     "output_type": "execute_result"
    }
   ],
   "source": [
    "3/6"
   ]
  },
  {
   "cell_type": "code",
   "execution_count": 87,
   "id": "optical-commercial",
   "metadata": {},
   "outputs": [
    {
     "data": {
      "text/plain": [
       "1/2"
      ]
     },
     "execution_count": 87,
     "metadata": {},
     "output_type": "execute_result"
    }
   ],
   "source": [
    "3/6"
   ]
  },
  {
   "cell_type": "code",
   "execution_count": 88,
   "id": "guilty-socket",
   "metadata": {},
   "outputs": [
    {
     "data": {
      "text/plain": [
       "1296"
      ]
     },
     "execution_count": 88,
     "metadata": {},
     "output_type": "execute_result"
    }
   ],
   "source": [
    "36*36"
   ]
  },
  {
   "cell_type": "code",
   "execution_count": 95,
   "id": "rational-happening",
   "metadata": {},
   "outputs": [
    {
     "data": {
      "text/plain": [
       "(1836, 9, 18)"
      ]
     },
     "execution_count": 95,
     "metadata": {},
     "output_type": "execute_result"
    }
   ],
   "source": [
    "1836 ,18/2,36/2"
   ]
  },
  {
   "cell_type": "code",
   "execution_count": 96,
   "id": "opponent-compound",
   "metadata": {},
   "outputs": [
    {
     "data": {
      "text/plain": [
       "204"
      ]
     },
     "execution_count": 96,
     "metadata": {},
     "output_type": "execute_result"
    }
   ],
   "source": [
    "1836/9"
   ]
  },
  {
   "cell_type": "code",
   "execution_count": 105,
   "id": "characteristic-storm",
   "metadata": {},
   "outputs": [
    {
     "data": {
      "text/plain": [
       "9/2"
      ]
     },
     "execution_count": 105,
     "metadata": {},
     "output_type": "execute_result"
    }
   ],
   "source": [
    "1836/408"
   ]
  },
  {
   "cell_type": "code",
   "execution_count": 106,
   "id": "successful-health",
   "metadata": {},
   "outputs": [
    {
     "data": {
      "text/plain": [
       "51"
      ]
     },
     "execution_count": 106,
     "metadata": {},
     "output_type": "execute_result"
    }
   ],
   "source": [
    "102/2"
   ]
  },
  {
   "cell_type": "code",
   "execution_count": 107,
   "id": "quantitative-significance",
   "metadata": {},
   "outputs": [
    {
     "data": {
      "text/plain": [
       "(314, 360)"
      ]
     },
     "execution_count": 107,
     "metadata": {},
     "output_type": "execute_result"
    }
   ],
   "source": [
    "314,360"
   ]
  },
  {
   "cell_type": "code",
   "execution_count": 20,
   "id": "worth-wiring",
   "metadata": {},
   "outputs": [
    {
     "data": {
      "text/plain": [
       "0.428571428571429"
      ]
     },
     "execution_count": 20,
     "metadata": {},
     "output_type": "execute_result"
    }
   ],
   "source": [
    "(6-3)/(9-2.0)"
   ]
  },
  {
   "cell_type": "code",
   "execution_count": 15,
   "id": "saving-huntington",
   "metadata": {},
   "outputs": [
    {
     "data": {
      "text/plain": [
       "6.62674285714286e-34"
      ]
     },
     "execution_count": 15,
     "metadata": {},
     "output_type": "execute_result"
    }
   ],
   "source": [
    "0.414171428571429E-14*1.6E-19"
   ]
  },
  {
   "cell_type": "code",
   "execution_count": 57,
   "id": "democratic-locator",
   "metadata": {},
   "outputs": [
    {
     "data": {
      "text/plain": [
       "6.40000000000000e-34"
      ]
     },
     "execution_count": 57,
     "metadata": {},
     "output_type": "execute_result"
    }
   ],
   "source": [
    "(2.0/5.0E+14)*1.6E-19"
   ]
  },
  {
   "cell_type": "code",
   "execution_count": 25,
   "id": "duplicate-crisis",
   "metadata": {},
   "outputs": [
    {
     "data": {
      "text/plain": [
       "6.62857142857143e-34"
      ]
     },
     "execution_count": 25,
     "metadata": {},
     "output_type": "execute_result"
    }
   ],
   "source": [
    "2.9/7.0E-14*1.6E-47"
   ]
  },
  {
   "cell_type": "code",
   "execution_count": 77,
   "id": "black-hughes",
   "metadata": {},
   "outputs": [
    {
     "data": {
      "text/html": [
       "<html><script type=\"math/tex; mode=display\">\\newcommand{\\Bold}[1]{\\mathbf{#1}}1.25600000000000</script></html>"
      ],
      "text/latex": [
       "\\begin{math}\n",
       "\\newcommand{\\Bold}[1]{\\mathbf{#1}}1.25600000000000\n",
       "\\end{math}"
      ],
      "text/plain": [
       "1.25600000000000"
      ]
     },
     "execution_count": 77,
     "metadata": {},
     "output_type": "execute_result"
    }
   ],
   "source": [
    "0.4*3.14"
   ]
  },
  {
   "cell_type": "code",
   "execution_count": 74,
   "id": "minute-jumping",
   "metadata": {},
   "outputs": [],
   "source": [
    "%display latex"
   ]
  },
  {
   "cell_type": "code",
   "execution_count": 82,
   "id": "threaded-victory",
   "metadata": {},
   "outputs": [
    {
     "data": {
      "text/html": [
       "<html><script type=\"math/tex; mode=display\">\\newcommand{\\Bold}[1]{\\mathbf{#1}}0.125000000000000</script></html>"
      ],
      "text/latex": [
       "\\begin{math}\n",
       "\\newcommand{\\Bold}[1]{\\mathbf{#1}}0.125000000000000\n",
       "\\end{math}"
      ],
      "text/plain": [
       "0.125000000000000"
      ]
     },
     "execution_count": 82,
     "metadata": {},
     "output_type": "execute_result"
    }
   ],
   "source": [
    "1/(3.20/0.4)"
   ]
  },
  {
   "cell_type": "code",
   "execution_count": 95,
   "id": "yellow-trauma",
   "metadata": {},
   "outputs": [
    {
     "data": {
      "text/html": [
       "<html><script type=\"math/tex; mode=display\">\\newcommand{\\Bold}[1]{\\mathbf{#1}}1.25000000000000</script></html>"
      ],
      "text/latex": [
       "\\begin{math}\n",
       "\\newcommand{\\Bold}[1]{\\mathbf{#1}}1.25000000000000\n",
       "\\end{math}"
      ],
      "text/plain": [
       "1.25000000000000"
      ]
     },
     "execution_count": 95,
     "metadata": {},
     "output_type": "execute_result"
    }
   ],
   "source": [
    "125/100.0"
   ]
  },
  {
   "cell_type": "code",
   "execution_count": null,
   "id": "destroyed-commander",
   "metadata": {},
   "outputs": [],
   "source": []
  }
 ],
 "metadata": {
  "kernelspec": {
   "display_name": "SageMath 9.2",
   "language": "sage",
   "name": "sagemath"
  },
  "language_info": {
   "codemirror_mode": {
    "name": "ipython",
    "version": 3
   },
   "file_extension": ".py",
   "mimetype": "text/x-python",
   "name": "python",
   "nbconvert_exporter": "python",
   "pygments_lexer": "ipython3",
   "version": "3.9.4"
  }
 },
 "nbformat": 4,
 "nbformat_minor": 5
}
