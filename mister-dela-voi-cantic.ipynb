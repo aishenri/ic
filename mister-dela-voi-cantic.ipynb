{
 "cells": [
  {
   "cell_type": "markdown",
   "id": "fossil-summer",
   "metadata": {},
   "source": [
    "###### Au commencement il était le verbe...\n",
    "\n",
    "Voici la lumière, la voix, voie parmi nous. L'esprit de lumière."
   ]
  },
  {
   "cell_type": "markdown",
   "id": "rough-makeup",
   "metadata": {},
   "source": [
    "Mystère de la roue génétique : Un cercle (roue) fermé a une circonférence de $c=\\pi$, diamètre=1 et rayon = $\\frac{1}{2}$\n",
    "\n",
    "En physique un cercle égale $2\\pi$ radian. Espace entre un tour de l'hélice = $3.4 Å$ et 10 base=$34 Å$, (3.14 et 31.4) "
   ]
  },
  {
   "cell_type": "code",
   "execution_count": 4,
   "id": "indian-relief",
   "metadata": {},
   "outputs": [
    {
     "data": {
      "application/3dmoljs_load.v0": "<div id=\"3dmolviewer_1621272849086342\"  style=\"position: relative; width: 100px; height: 100px\">\n        <p id=\"3dmolwarning_1621272849086342\" style=\"background-color:#ffcccc;color:black\">You appear to be running in JupyterLab (or JavaScript failed to load for some other reason).  You need to install the 3dmol extension: <br>\n        <tt>jupyter labextension install jupyterlab_3dmol</tt></p>\n        </div>\n<script>\n\nvar loadScriptAsync = function(uri){\n  return new Promise((resolve, reject) => {\n    var tag = document.createElement('script');\n    tag.src = uri;\n    tag.async = true;\n    tag.onload = () => {\n      resolve();\n    };\n  var firstScriptTag = document.getElementsByTagName('script')[0];\n  firstScriptTag.parentNode.insertBefore(tag, firstScriptTag);\n});\n};\n\nif(typeof $3Dmolpromise === 'undefined') {\n$3Dmolpromise = null;\n  $3Dmolpromise = loadScriptAsync('https://3dmol.org/build/3Dmol.js');\n}\n\nvar viewer_1621272849086342 = null;\nvar warn = document.getElementById(\"3dmolwarning_1621272849086342\");\nif(warn) {\n    warn.parentNode.removeChild(warn);\n}\n$3Dmolpromise.then(function() {\nviewer_1621272849086342 = $3Dmol.createViewer($(\"#3dmolviewer_1621272849086342\"),{backgroundColor:\"white\"});\n$3Dmol.download(\"cid:190\", viewer_1621272849086342, {}, function() {\nviewer_1621272849086342.zoomTo();\n\tviewer_1621272849086342.setStyle({\"stick\": {\"radius\": 0.1}, \"sphere\": {\"scale\": 0.25}});\nviewer_1621272849086342.render();\n})\n});\n</script>",
      "text/html": [
       "<div id=\"3dmolviewer_1621272849086342\"  style=\"position: relative; width: 100px; height: 100px\">\n",
       "        <p id=\"3dmolwarning_1621272849086342\" style=\"background-color:#ffcccc;color:black\">You appear to be running in JupyterLab (or JavaScript failed to load for some other reason).  You need to install the 3dmol extension: <br>\n",
       "        <tt>jupyter labextension install jupyterlab_3dmol</tt></p>\n",
       "        </div>\n",
       "<script>\n",
       "\n",
       "var loadScriptAsync = function(uri){\n",
       "  return new Promise((resolve, reject) => {\n",
       "    var tag = document.createElement('script');\n",
       "    tag.src = uri;\n",
       "    tag.async = true;\n",
       "    tag.onload = () => {\n",
       "      resolve();\n",
       "    };\n",
       "  var firstScriptTag = document.getElementsByTagName('script')[0];\n",
       "  firstScriptTag.parentNode.insertBefore(tag, firstScriptTag);\n",
       "});\n",
       "};\n",
       "\n",
       "if(typeof $3Dmolpromise === 'undefined') {\n",
       "$3Dmolpromise = null;\n",
       "  $3Dmolpromise = loadScriptAsync('https://3dmol.org/build/3Dmol.js');\n",
       "}\n",
       "\n",
       "var viewer_1621272849086342 = null;\n",
       "var warn = document.getElementById(\"3dmolwarning_1621272849086342\");\n",
       "if(warn) {\n",
       "    warn.parentNode.removeChild(warn);\n",
       "}\n",
       "$3Dmolpromise.then(function() {\n",
       "viewer_1621272849086342 = $3Dmol.createViewer($(\"#3dmolviewer_1621272849086342\"),{backgroundColor:\"white\"});\n",
       "$3Dmol.download(\"cid:190\", viewer_1621272849086342, {}, function() {\n",
       "viewer_1621272849086342.zoomTo();\n",
       "\tviewer_1621272849086342.setStyle({\"stick\": {\"radius\": 0.1}, \"sphere\": {\"scale\": 0.25}});\n",
       "viewer_1621272849086342.render();\n",
       "})\n",
       "});\n",
       "</script>"
      ]
     },
     "metadata": {},
     "output_type": "display_data"
    },
    {
     "data": {
      "text/plain": [
       "<py3Dmol.view at 0x7f92df976a90>"
      ]
     },
     "execution_count": 4,
     "metadata": {},
     "output_type": "execute_result"
    }
   ],
   "source": [
    "#import os,time;print( time.asctime())\n",
    "import py3Dmol;import pubchempy as pcp\n",
    "ade=pcp.get_compounds('adenine', 'name')[0]\n",
    "x=py3Dmol.view(query='cid:{}'.format(ade.cid),\n",
    "width=100,height=100).setStyle({'stick': {\n",
    "'radius': .1}, 'sphere': {'scale': 0.25}});x"
   ]
  },
  {
   "cell_type": "code",
   "execution_count": 5,
   "id": "typical-feeding",
   "metadata": {},
   "outputs": [
    {
     "data": {
      "application/3dmoljs_load.v0": "<div id=\"3dmolviewer_16212729003959532\"  style=\"position: relative; width: 100px; height: 100px\">\n        <p id=\"3dmolwarning_16212729003959532\" style=\"background-color:#ffcccc;color:black\">You appear to be running in JupyterLab (or JavaScript failed to load for some other reason).  You need to install the 3dmol extension: <br>\n        <tt>jupyter labextension install jupyterlab_3dmol</tt></p>\n        </div>\n<script>\n\nvar loadScriptAsync = function(uri){\n  return new Promise((resolve, reject) => {\n    var tag = document.createElement('script');\n    tag.src = uri;\n    tag.async = true;\n    tag.onload = () => {\n      resolve();\n    };\n  var firstScriptTag = document.getElementsByTagName('script')[0];\n  firstScriptTag.parentNode.insertBefore(tag, firstScriptTag);\n});\n};\n\nif(typeof $3Dmolpromise === 'undefined') {\n$3Dmolpromise = null;\n  $3Dmolpromise = loadScriptAsync('https://3dmol.org/build/3Dmol.js');\n}\n\nvar viewer_16212729003959532 = null;\nvar warn = document.getElementById(\"3dmolwarning_16212729003959532\");\nif(warn) {\n    warn.parentNode.removeChild(warn);\n}\n$3Dmolpromise.then(function() {\nviewer_16212729003959532 = $3Dmol.createViewer($(\"#3dmolviewer_16212729003959532\"),{backgroundColor:\"white\"});\n$3Dmol.download(\"cid:1135\", viewer_16212729003959532, {}, function() {\nviewer_16212729003959532.zoomTo();\n\tviewer_16212729003959532.setStyle({\"stick\": {\"radius\": 0.1}, \"sphere\": {\"scale\": 0.25}});\nviewer_16212729003959532.render();\n})\n});\n</script>",
      "text/html": [
       "<div id=\"3dmolviewer_16212729003959532\"  style=\"position: relative; width: 100px; height: 100px\">\n",
       "        <p id=\"3dmolwarning_16212729003959532\" style=\"background-color:#ffcccc;color:black\">You appear to be running in JupyterLab (or JavaScript failed to load for some other reason).  You need to install the 3dmol extension: <br>\n",
       "        <tt>jupyter labextension install jupyterlab_3dmol</tt></p>\n",
       "        </div>\n",
       "<script>\n",
       "\n",
       "var loadScriptAsync = function(uri){\n",
       "  return new Promise((resolve, reject) => {\n",
       "    var tag = document.createElement('script');\n",
       "    tag.src = uri;\n",
       "    tag.async = true;\n",
       "    tag.onload = () => {\n",
       "      resolve();\n",
       "    };\n",
       "  var firstScriptTag = document.getElementsByTagName('script')[0];\n",
       "  firstScriptTag.parentNode.insertBefore(tag, firstScriptTag);\n",
       "});\n",
       "};\n",
       "\n",
       "if(typeof $3Dmolpromise === 'undefined') {\n",
       "$3Dmolpromise = null;\n",
       "  $3Dmolpromise = loadScriptAsync('https://3dmol.org/build/3Dmol.js');\n",
       "}\n",
       "\n",
       "var viewer_16212729003959532 = null;\n",
       "var warn = document.getElementById(\"3dmolwarning_16212729003959532\");\n",
       "if(warn) {\n",
       "    warn.parentNode.removeChild(warn);\n",
       "}\n",
       "$3Dmolpromise.then(function() {\n",
       "viewer_16212729003959532 = $3Dmol.createViewer($(\"#3dmolviewer_16212729003959532\"),{backgroundColor:\"white\"});\n",
       "$3Dmol.download(\"cid:1135\", viewer_16212729003959532, {}, function() {\n",
       "viewer_16212729003959532.zoomTo();\n",
       "\tviewer_16212729003959532.setStyle({\"stick\": {\"radius\": 0.1}, \"sphere\": {\"scale\": 0.25}});\n",
       "viewer_16212729003959532.render();\n",
       "})\n",
       "});\n",
       "</script>"
      ]
     },
     "metadata": {},
     "output_type": "display_data"
    },
    {
     "data": {
      "text/plain": [
       "<py3Dmol.view at 0x7f92df9226a0>"
      ]
     },
     "execution_count": 5,
     "metadata": {},
     "output_type": "execute_result"
    }
   ],
   "source": [
    "thy=pcp.get_compounds('thymine', 'name')[0]\n",
    "x=py3Dmol.view(query='cid:{}'.format(thy.cid),\n",
    "width=100,height=100).setStyle({'stick': {\n",
    "'radius': .1}, 'sphere': {'scale': 0.25}});x"
   ]
  },
  {
   "cell_type": "code",
   "execution_count": 6,
   "id": "bearing-tribune",
   "metadata": {},
   "outputs": [
    {
     "data": {
      "application/3dmoljs_load.v0": "<div id=\"3dmolviewer_16212729680078793\"  style=\"position: relative; width: 100px; height: 100px\">\n        <p id=\"3dmolwarning_16212729680078793\" style=\"background-color:#ffcccc;color:black\">You appear to be running in JupyterLab (or JavaScript failed to load for some other reason).  You need to install the 3dmol extension: <br>\n        <tt>jupyter labextension install jupyterlab_3dmol</tt></p>\n        </div>\n<script>\n\nvar loadScriptAsync = function(uri){\n  return new Promise((resolve, reject) => {\n    var tag = document.createElement('script');\n    tag.src = uri;\n    tag.async = true;\n    tag.onload = () => {\n      resolve();\n    };\n  var firstScriptTag = document.getElementsByTagName('script')[0];\n  firstScriptTag.parentNode.insertBefore(tag, firstScriptTag);\n});\n};\n\nif(typeof $3Dmolpromise === 'undefined') {\n$3Dmolpromise = null;\n  $3Dmolpromise = loadScriptAsync('https://3dmol.org/build/3Dmol.js');\n}\n\nvar viewer_16212729680078793 = null;\nvar warn = document.getElementById(\"3dmolwarning_16212729680078793\");\nif(warn) {\n    warn.parentNode.removeChild(warn);\n}\n$3Dmolpromise.then(function() {\nviewer_16212729680078793 = $3Dmol.createViewer($(\"#3dmolviewer_16212729680078793\"),{backgroundColor:\"white\"});\n$3Dmol.download(\"cid:135398634\", viewer_16212729680078793, {}, function() {\nviewer_16212729680078793.zoomTo();\n\tviewer_16212729680078793.setStyle({\"stick\": {\"radius\": 0.1}, \"sphere\": {\"scale\": 0.25}});\nviewer_16212729680078793.render();\n})\n});\n</script>",
      "text/html": [
       "<div id=\"3dmolviewer_16212729680078793\"  style=\"position: relative; width: 100px; height: 100px\">\n",
       "        <p id=\"3dmolwarning_16212729680078793\" style=\"background-color:#ffcccc;color:black\">You appear to be running in JupyterLab (or JavaScript failed to load for some other reason).  You need to install the 3dmol extension: <br>\n",
       "        <tt>jupyter labextension install jupyterlab_3dmol</tt></p>\n",
       "        </div>\n",
       "<script>\n",
       "\n",
       "var loadScriptAsync = function(uri){\n",
       "  return new Promise((resolve, reject) => {\n",
       "    var tag = document.createElement('script');\n",
       "    tag.src = uri;\n",
       "    tag.async = true;\n",
       "    tag.onload = () => {\n",
       "      resolve();\n",
       "    };\n",
       "  var firstScriptTag = document.getElementsByTagName('script')[0];\n",
       "  firstScriptTag.parentNode.insertBefore(tag, firstScriptTag);\n",
       "});\n",
       "};\n",
       "\n",
       "if(typeof $3Dmolpromise === 'undefined') {\n",
       "$3Dmolpromise = null;\n",
       "  $3Dmolpromise = loadScriptAsync('https://3dmol.org/build/3Dmol.js');\n",
       "}\n",
       "\n",
       "var viewer_16212729680078793 = null;\n",
       "var warn = document.getElementById(\"3dmolwarning_16212729680078793\");\n",
       "if(warn) {\n",
       "    warn.parentNode.removeChild(warn);\n",
       "}\n",
       "$3Dmolpromise.then(function() {\n",
       "viewer_16212729680078793 = $3Dmol.createViewer($(\"#3dmolviewer_16212729680078793\"),{backgroundColor:\"white\"});\n",
       "$3Dmol.download(\"cid:135398634\", viewer_16212729680078793, {}, function() {\n",
       "viewer_16212729680078793.zoomTo();\n",
       "\tviewer_16212729680078793.setStyle({\"stick\": {\"radius\": 0.1}, \"sphere\": {\"scale\": 0.25}});\n",
       "viewer_16212729680078793.render();\n",
       "})\n",
       "});\n",
       "</script>"
      ]
     },
     "metadata": {},
     "output_type": "display_data"
    },
    {
     "data": {
      "text/plain": [
       "<py3Dmol.view at 0x7f92dc8d9790>"
      ]
     },
     "execution_count": 6,
     "metadata": {},
     "output_type": "execute_result"
    }
   ],
   "source": [
    "gua=pcp.get_compounds('guanine', 'name')[0]\n",
    "x=py3Dmol.view(query='cid:{}'.format(gua.cid),\n",
    "width=100,height=100).setStyle({'stick': {\n",
    "'radius': .1}, 'sphere': {'scale': 0.25}});x"
   ]
  },
  {
   "cell_type": "code",
   "execution_count": 7,
   "id": "statistical-groove",
   "metadata": {},
   "outputs": [
    {
     "data": {
      "application/3dmoljs_load.v0": "<div id=\"3dmolviewer_1621273029276367\"  style=\"position: relative; width: 100px; height: 100px\">\n        <p id=\"3dmolwarning_1621273029276367\" style=\"background-color:#ffcccc;color:black\">You appear to be running in JupyterLab (or JavaScript failed to load for some other reason).  You need to install the 3dmol extension: <br>\n        <tt>jupyter labextension install jupyterlab_3dmol</tt></p>\n        </div>\n<script>\n\nvar loadScriptAsync = function(uri){\n  return new Promise((resolve, reject) => {\n    var tag = document.createElement('script');\n    tag.src = uri;\n    tag.async = true;\n    tag.onload = () => {\n      resolve();\n    };\n  var firstScriptTag = document.getElementsByTagName('script')[0];\n  firstScriptTag.parentNode.insertBefore(tag, firstScriptTag);\n});\n};\n\nif(typeof $3Dmolpromise === 'undefined') {\n$3Dmolpromise = null;\n  $3Dmolpromise = loadScriptAsync('https://3dmol.org/build/3Dmol.js');\n}\n\nvar viewer_1621273029276367 = null;\nvar warn = document.getElementById(\"3dmolwarning_1621273029276367\");\nif(warn) {\n    warn.parentNode.removeChild(warn);\n}\n$3Dmolpromise.then(function() {\nviewer_1621273029276367 = $3Dmol.createViewer($(\"#3dmolviewer_1621273029276367\"),{backgroundColor:\"white\"});\n$3Dmol.download(\"cid:597\", viewer_1621273029276367, {}, function() {\nviewer_1621273029276367.zoomTo();\n\tviewer_1621273029276367.setStyle({\"stick\": {\"radius\": 0.1}, \"sphere\": {\"scale\": 0.25}});\nviewer_1621273029276367.render();\n})\n});\n</script>",
      "text/html": [
       "<div id=\"3dmolviewer_1621273029276367\"  style=\"position: relative; width: 100px; height: 100px\">\n",
       "        <p id=\"3dmolwarning_1621273029276367\" style=\"background-color:#ffcccc;color:black\">You appear to be running in JupyterLab (or JavaScript failed to load for some other reason).  You need to install the 3dmol extension: <br>\n",
       "        <tt>jupyter labextension install jupyterlab_3dmol</tt></p>\n",
       "        </div>\n",
       "<script>\n",
       "\n",
       "var loadScriptAsync = function(uri){\n",
       "  return new Promise((resolve, reject) => {\n",
       "    var tag = document.createElement('script');\n",
       "    tag.src = uri;\n",
       "    tag.async = true;\n",
       "    tag.onload = () => {\n",
       "      resolve();\n",
       "    };\n",
       "  var firstScriptTag = document.getElementsByTagName('script')[0];\n",
       "  firstScriptTag.parentNode.insertBefore(tag, firstScriptTag);\n",
       "});\n",
       "};\n",
       "\n",
       "if(typeof $3Dmolpromise === 'undefined') {\n",
       "$3Dmolpromise = null;\n",
       "  $3Dmolpromise = loadScriptAsync('https://3dmol.org/build/3Dmol.js');\n",
       "}\n",
       "\n",
       "var viewer_1621273029276367 = null;\n",
       "var warn = document.getElementById(\"3dmolwarning_1621273029276367\");\n",
       "if(warn) {\n",
       "    warn.parentNode.removeChild(warn);\n",
       "}\n",
       "$3Dmolpromise.then(function() {\n",
       "viewer_1621273029276367 = $3Dmol.createViewer($(\"#3dmolviewer_1621273029276367\"),{backgroundColor:\"white\"});\n",
       "$3Dmol.download(\"cid:597\", viewer_1621273029276367, {}, function() {\n",
       "viewer_1621273029276367.zoomTo();\n",
       "\tviewer_1621273029276367.setStyle({\"stick\": {\"radius\": 0.1}, \"sphere\": {\"scale\": 0.25}});\n",
       "viewer_1621273029276367.render();\n",
       "})\n",
       "});\n",
       "</script>"
      ]
     },
     "metadata": {},
     "output_type": "display_data"
    },
    {
     "data": {
      "text/plain": [
       "<py3Dmol.view at 0x7f92c77f1f40>"
      ]
     },
     "execution_count": 7,
     "metadata": {},
     "output_type": "execute_result"
    }
   ],
   "source": [
    "cyt=pcp.get_compounds('cytosine', 'name')[0]\n",
    "x=py3Dmol.view(query='cid:{}'.format(cyt.cid),\n",
    "width=100,height=100).setStyle({'stick': {\n",
    "'radius': .1}, 'sphere': {'scale': 0.25}});x"
   ]
  },
  {
   "cell_type": "code",
   "execution_count": null,
   "id": "removed-memphis",
   "metadata": {},
   "outputs": [],
   "source": []
  },
  {
   "cell_type": "code",
   "execution_count": null,
   "id": "chronic-serve",
   "metadata": {},
   "outputs": [],
   "source": []
  },
  {
   "cell_type": "code",
   "execution_count": null,
   "id": "stupid-progressive",
   "metadata": {},
   "outputs": [],
   "source": []
  }
 ],
 "metadata": {
  "kernelspec": {
   "display_name": "Python 3",
   "language": "python",
   "name": "python3"
  },
  "language_info": {
   "codemirror_mode": {
    "name": "ipython",
    "version": 3
   },
   "file_extension": ".py",
   "mimetype": "text/x-python",
   "name": "python",
   "nbconvert_exporter": "python",
   "pygments_lexer": "ipython3",
   "version": "3.9.4"
  }
 },
 "nbformat": 4,
 "nbformat_minor": 5
}
