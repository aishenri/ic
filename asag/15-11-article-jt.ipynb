{
 "cells": [
  {
   "cell_type": "code",
   "execution_count": 1,
   "metadata": {},
   "outputs": [],
   "source": [
    "%display latex"
   ]
  },
  {
   "attachments": {
    "image.png": {
     "image/png": "[encoded data removed]"
    }
   },
   "cell_type": "markdown",
   "metadata": {},
   "source": [
    "Les scientifiques représente la vitesse de la lumière avec $c$, mais ça n'est pas une vitesse c'est une fréquence, d'ailleurs vous le dites vous même, prenez un cercle donc une circonférence(marrant d'ailleurs même initiale que $c$ célérité, votre idée d'ajouter un nombre complexe est bonne, avant il faudrait être sûr que la lumière soit ce qu'ils disent ? Les scientifiques ont fait beaucoup d'erreurs et ne les corrigent jamais, ils changent de terminalogie mais le problème est toujours là : Sauriez vous me dire ce qu'est l'éther ? La lumière ?\n",
    "\n",
    "voici où j'en suis dans la compréhension de votre article, excusez moi de ne pas comprendre la suite ?\n",
    "\n",
    "![image.png](attachment:image.png)\n",
    "\n",
    "Je vous fais confiance je ne cherche pas à calculer la vitesse du soleil."
   ]
  },
  {
   "cell_type": "code",
   "execution_count": 2,
   "metadata": {},
   "outputs": [],
   "source": [
    "c=299792458\n"
   ]
  },
  {
   "cell_type": "markdown",
   "metadata": {},
   "source": [
    "Par contre la vitesse de la lumière $c$ n'est pas une vitesse, c'est la racine carrée d'une accélération $c^2$ et en maths ils sont exigeant sur la terminalogie. Une vitesse ne peut être une constante, car elle n'a pas de dérivée. Donc dans le cas de $c$, la vitesse serait $2c$, ils ont une erreur de maths (compréhensif Einstein utilise $x_4=-ict$, donc un complexe, un artifice pour ne pas entrer l'espace-temps en négatif et peut finir la signature de l'espace-temps par ++++ =+++- ou ----), ainsi l'interval devient $ds=x+y+z-ict$  et $ds²=x²+y²+z²+i²$ l'affaire étant ainsi dans le sac, mais ça pose un grave problème pour l'avenir et nous sommes l'avenir ! \n",
    "\n",
    "Calcul de $c=\\frac{1}{\\sqrt \\mu \\epsilon}$ \n",
    "\n",
    "$\\mu=4\\pi\\times10^{-7}$ : Perméabilité du vide\n",
    "\n",
    "$\\epsilon=\\frac{1}{c^2 \\mu}= 8.854187\\times10^{-12}$\n",
    ": Permittivité du vide\n",
    "\n",
    "Dans ce genre de formule, quand on a 2 termes, on en trouve obligatoirement 3 !\n",
    "\n",
    "Mon hypothèse est que si la lumière n'est pas une vitesse, elle est par contre une fréquence propre ou angulaire, qui dit angulaire, dit tournant(d'ailleurs votre du disque), et doit se mesurer en radian, un Rad/s=2\\pi Rad, ou 360° ou =1Hz). Voila pourquoi j'ai assimilé $f_a=\\frac{1}{\\sqrt L C}=c$\n",
    "\n",
    "Donc la formule de la lumière est la même qu'un circuit LC (RLC), il me suffit de trouver une valeur proche qui pourrait satisfaire à cette $f_a$, j'ai mis plusieurs année mais j'ai trouvé :\n",
    "\n",
    "$ç=\\frac{1}{\\sqrt L C}=314159265.3$ (ç =chiracécité)"
   ]
  },
  {
   "cell_type": "code",
   "execution_count": 3,
   "metadata": {},
   "outputs": [
    {
     "data": {
      "text/html": [
       "<html><script type=\"math/tex; mode=display\">\\newcommand{\\Bold}[1]{\\mathbf{#1}}1.14591559026165 \\times 10^{-6}</script></html>"
      ],
      "text/latex": [
       "\\begin{math}\n",
       "\\newcommand{\\Bold}[1]{\\mathbf{#1}}1.14591559026165 \\times 10^{-6}\n",
       "\\end{math}"
      ],
      "text/plain": [
       "1.14591559026165e-6"
      ]
     },
     "execution_count": 3,
     "metadata": {},
     "output_type": "execute_result"
    }
   ],
   "source": [
    "L=1/n(pi)*360E-8;L"
   ]
  },
  {
   "cell_type": "code",
   "execution_count": 4,
   "metadata": {},
   "outputs": [
    {
     "data": {
      "text/html": [
       "<html><script type=\"math/tex; mode=display\">\\newcommand{\\Bold}[1]{\\mathbf{#1}}8.84194128288307 \\times 10^{-12}</script></html>"
      ],
      "text/latex": [
       "\\begin{math}\n",
       "\\newcommand{\\Bold}[1]{\\mathbf{#1}}8.84194128288307 \\times 10^{-12}\n",
       "\\end{math}"
      ],
      "text/plain": [
       "8.84194128288307e-12"
      ]
     },
     "execution_count": 4,
     "metadata": {},
     "output_type": "execute_result"
    }
   ],
   "source": [
    "C=1/(n(pi)*360E+8);C"
   ]
  },
  {
   "cell_type": "code",
   "execution_count": 5,
   "metadata": {},
   "outputs": [
    {
     "data": {
      "text/html": [
       "<html><script type=\"math/tex; mode=display\">\\newcommand{\\Bold}[1]{\\mathbf{#1}}ç=\\frac{1}{\\sqrt L C}= 3.14159265358979 \\times 10^{8}</script></html>"
      ],
      "text/latex": [
       "\\begin{math}\n",
       "\\newcommand{\\Bold}[1]{\\mathbf{#1}}ç=\\frac{1}{\\sqrt L C}= 3.14159265358979 \\times 10^{8}\n",
       "\\end{math}"
      ],
      "text/plain": [
       "ç=\\frac{1}{\\sqrt L C}= 3.14159265358979e8"
      ]
     },
     "metadata": {},
     "output_type": "display_data"
    }
   ],
   "source": [
    "ç=1/sqrt(L*C)\n",
    "show(LatexExpr(r\"ç=\\frac{1}{\\sqrt L C}=\"),ç)"
   ]
  },
  {
   "cell_type": "markdown",
   "metadata": {},
   "source": [
    "Il existe ainsi 2 lumières, $c et ç$, $c<ç$ supérieure à $c$ étant ainsi supraluminique=ç ! "
   ]
  },
  {
   "cell_type": "code",
   "execution_count": 7,
   "metadata": {},
   "outputs": [
    {
     "data": {
      "text/html": [
       "<html><script type=\"math/tex; mode=display\">\\newcommand{\\Bold}[1]{\\mathbf{#1}}57.2957795130823</script></html>"
      ],
      "text/latex": [
       "\\begin{math}\n",
       "\\newcommand{\\Bold}[1]{\\mathbf{#1}}57.2957795130823\n",
       "\\end{math}"
      ],
      "text/plain": [
       "57.2957795130823"
      ]
     },
     "execution_count": 7,
     "metadata": {},
     "output_type": "execute_result"
    }
   ],
   "source": [
    "deg(x)=x*180/n(pi);deg(1)"
   ]
  },
  {
   "cell_type": "code",
   "execution_count": 16,
   "metadata": {},
   "outputs": [
    {
     "data": {
      "text/html": [
       "<html><script type=\"math/tex; mode=display\">\\newcommand{\\Bold}[1]{\\mathbf{#1}}1.34830016759202</script></html>"
      ],
      "text/latex": [
       "\\begin{math}\n",
       "\\newcommand{\\Bold}[1]{\\mathbf{#1}}1.34830016759202\n",
       "\\end{math}"
      ],
      "text/plain": [
       "1.34830016759202"
      ]
     },
     "execution_count": 16,
     "metadata": {},
     "output_type": "execute_result"
    }
   ],
   "source": [
    "deg(atan(0.023536622))"
   ]
  },
  {
   "cell_type": "code",
   "execution_count": 10,
   "metadata": {},
   "outputs": [
    {
     "data": {
      "text/html": [
       "<html><script type=\"math/tex; mode=display\">\\newcommand{\\Bold}[1]{\\mathbf{#1}}\\left[x = -\\frac{1}{2} \\, \\sqrt{5} + \\frac{1}{2}, x = \\frac{1}{2} \\, \\sqrt{5} + \\frac{1}{2}\\right]</script></html>"
      ],
      "text/latex": [
       "\\begin{math}\n",
       "\\newcommand{\\Bold}[1]{\\mathbf{#1}}\\left[x = -\\frac{1}{2} \\, \\sqrt{5} + \\frac{1}{2}, x = \\frac{1}{2} \\, \\sqrt{5} + \\frac{1}{2}\\right]\n",
       "\\end{math}"
      ],
      "text/plain": [
       "[x == -1/2*sqrt(5) + 1/2, x == 1/2*sqrt(5) + 1/2]"
      ]
     },
     "execution_count": 10,
     "metadata": {},
     "output_type": "execute_result"
    }
   ],
   "source": [
    "fd=x^2-x-1\n",
    "solve(fd==0,x)"
   ]
  },
  {
   "cell_type": "code",
   "execution_count": 26,
   "metadata": {},
   "outputs": [
    {
     "data": {
      "text/html": [
       "<html><script type=\"math/tex; mode=display\">\\newcommand{\\Bold}[1]{\\mathbf{#1}}1.61803398874989</script></html>"
      ],
      "text/latex": [
       "\\begin{math}\n",
       "\\newcommand{\\Bold}[1]{\\mathbf{#1}}1.61803398874989\n",
       "\\end{math}"
      ],
      "text/plain": [
       "1.61803398874989"
      ]
     },
     "execution_count": 26,
     "metadata": {},
     "output_type": "execute_result"
    }
   ],
   "source": [
    "phi=n((1+sqrt(5))/2);phi"
   ]
  },
  {
   "cell_type": "code",
   "execution_count": 50,
   "metadata": {},
   "outputs": [
    {
     "data": {
      "text/html": [
       "<html><script type=\"math/tex; mode=display\">\\newcommand{\\Bold}[1]{\\mathbf{#1}}1.00000029441800</script></html>"
      ],
      "text/latex": [
       "\\begin{math}\n",
       "\\newcommand{\\Bold}[1]{\\mathbf{#1}}1.00000029441800\n",
       "\\end{math}"
      ],
      "text/plain": [
       "1.00000029441800"
      ]
     },
     "execution_count": 50,
     "metadata": {},
     "output_type": "execute_result"
    }
   ],
   "source": [
    "v=230047.6424;c=299792458\n",
    "dt=sqrt(1/(1-(v^2/c^2)));dt"
   ]
  },
  {
   "cell_type": "code",
   "execution_count": null,
   "metadata": {},
   "outputs": [],
   "source": []
  },
  {
   "cell_type": "code",
   "execution_count": null,
   "metadata": {},
   "outputs": [],
   "source": [
    " "
   ]
  },
  {
   "cell_type": "code",
   "execution_count": null,
   "metadata": {},
   "outputs": [],
   "source": []
  }
 ],
 "metadata": {
  "kernelspec": {
   "display_name": "SageMath 9.0",
   "language": "sage",
   "name": "sagemath"
  },
  "language_info": {
   "codemirror_mode": {
    "name": "ipython",
    "version": 3
   },
   "file_extension": ".py",
   "mimetype": "text/x-python",
   "name": "python",
   "nbconvert_exporter": "python",
   "pygments_lexer": "ipython3",
   "version": "3.8.10"
  }
 },
 "nbformat": 4,
 "nbformat_minor": 4
}
