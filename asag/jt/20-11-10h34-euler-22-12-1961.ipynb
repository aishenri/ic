{
 "cells": [
  {
   "cell_type": "markdown",
   "metadata": {},
   "source": [
    "#####  Optique : Euler explique page 398\n",
    "\n",
    "J'ai acheté en 2003, le livre de Leonard Euler : Lettre à une princesse allemande. A la page 398, le dernier paragraphe, j'y ai trouvé le comportement de l'infinie quand un objet traverse un verre grossissant.\n",
    "\n",
    "Je cite : \" Il faudrait que l'image alors soit plus grande que l'infini (?), attendu que plus l'objet s'approche du verre, plus l'image s'en éloigne... Mais l'image étant déjà éloignée à l'infinie, comment est-il possible que sa distance devienne encore plus grande ?\"\n",
    "\n",
    "\"L'image passera d'une distance (infinie), à l'autre côté du verre , et par conséquent du même côté où se trouve l'objet ; Elle paraitra donc au-delà de l'objet. coître au-delà de l'infini, est la même chose que passer de l'autre côté : Ce qui est sans doute véritablement un paradoxe !\"\n",
    "\n"
   ]
  },
  {
   "cell_type": "code",
   "execution_count": null,
   "metadata": {},
   "outputs": [],
   "source": []
  }
 ],
 "metadata": {
  "kernelspec": {
   "display_name": "SageMath 9.2",
   "language": "sage",
   "name": "sagemath"
  },
  "language_info": {
   "codemirror_mode": {
    "name": "ipython",
    "version": 3
   },
   "file_extension": ".py",
   "mimetype": "text/x-python",
   "name": "python",
   "nbconvert_exporter": "python",
   "pygments_lexer": "ipython3",
   "version": "3.7.7"
  }
 },
 "nbformat": 4,
 "nbformat_minor": 4
}
