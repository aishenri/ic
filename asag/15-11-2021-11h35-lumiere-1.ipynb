{
 "cells": [
  {
   "cell_type": "markdown",
   "metadata": {},
   "source": [
    "###### Lumière\n",
    "\n",
    "Je me sers d'un logiciel libre sage (sagemath) qui me permet de faire des calculs rapidement et surtout avec une écriture mathématique (latex) de qualité, je ne peux pas lire quelque chose en maths si je n'ai pas des symbols, je suis autodidacte, alors excusez moi pour les erreurs éventuelles que je pourrais faire et si bien sûr cela vous convient, n'hésitez pas à me contredire ou infirmer.\n",
    "\n",
    "J'ai commencé à lire la relativité à 10 ans en 1955 quand Einstein nous a quitté, le brave homme, en laissant une théorie inachevée et beaucoup de questions.\n",
    "\n",
    "Bien entendu, certains ont essayé de remettre en cause la relativité, mais leurs arguments n'étaient pas toujours valable ?\n",
    "\n",
    "Aussi pour ne pas me trouver confronter au même problème, j'ai analysé la relativité afin de pouvoir trouver un autre chemin : Ca m'a pris 66 ans, à l'heure où je communique avec vous.\n",
    "\n",
    "Ma solution : La relativité est une théorie locale, non universelle, je propose une solution qui permette de se dégager de la limite de la célérité $c$ et nous permette de franchir le mur de la lumière scientifique !\n",
    "\n",
    "La formule de $c$ scientifique est $c=:\\frac{1}{\\sqrt \\mu \\epsilon}=299792458$, je ne mets pas les mètres secondes, car pour moi cette formule n'est pas une vitesse mais une fréquence angulaire ou fréquence propre qui devrait se donner en Hertz !\n",
    "\n",
    "Donc nous avons un problème ?\n",
    "\n",
    "Second problème et pas le moindre Einstein dit , je cite : La vitesse ne la lumière ne peut être dépassée ou même égalée,par une particule de masse, c'est une vitesse limite...\n",
    "\n",
    "Deuxième affirmation de Herr Einstein : $E=mc^2$ !\n",
    "\n",
    "Ici on voit bien que la vitesse de $c$ est au carrée ? Donc une vitesse supérieure à $c$ !\n",
    "\n",
    "$c<c^2$,$c=299792458$ et $c^2=89875517873681764$\n",
    "\n",
    "Si on lance une pierre à $c$ (Ein Stein = une pierre en Allemand) elle ira évidemment moins vite et loin en une seconde  que si on lance une pierre à $c^2$, je n'arrive pas à comprendre que depuis plus d'un siècle personne n'ait fait la même remarque et ça m'a valu bien des problèmes !)\n",
    "\n",
    "Donc erreur de logique mathématique !"
   ]
  },
  {
   "cell_type": "code",
   "execution_count": 1,
   "metadata": {},
   "outputs": [
    {
     "data": {
      "text/plain": [
       "89875517873681764"
      ]
     },
     "execution_count": 1,
     "metadata": {},
     "output_type": "execute_result"
    }
   ],
   "source": [
    "c=299792458 #m/s \n",
    "cc=c*c;cc #m/s"
   ]
  },
  {
   "cell_type": "code",
   "execution_count": 2,
   "metadata": {},
   "outputs": [
    {
     "data": {
      "text/html": [
       "<html><script type=\"math/tex; mode=display\">\\newcommand{\\Bold}[1]{\\mathbf{#1}}c=\\frac{1}{\\sqrt \\mu \\epsilon}=299792458</script></html>"
      ],
      "text/latex": [
       "\\begin{math}\n",
       "\\newcommand{\\Bold}[1]{\\mathbf{#1}}c=\\frac{1}{\\sqrt \\mu \\epsilon}=299792458\n",
       "\\end{math}"
      ],
      "text/plain": [
       "c=\\frac{1}{\\sqrt \\mu \\epsilon}=299792458"
      ]
     },
     "metadata": {},
     "output_type": "display_data"
    },
    {
     "data": {
      "text/html": [
       "<html><script type=\"math/tex; mode=display\">\\newcommand{\\Bold}[1]{\\mathbf{#1}}c^2=\\frac{1}{\\mu \\epsilon}=89875517873681764</script></html>"
      ],
      "text/latex": [
       "\\begin{math}\n",
       "\\newcommand{\\Bold}[1]{\\mathbf{#1}}c^2=\\frac{1}{\\mu \\epsilon}=89875517873681764\n",
       "\\end{math}"
      ],
      "text/plain": [
       "c^2=\\frac{1}{\\mu \\epsilon}=89875517873681764"
      ]
     },
     "metadata": {},
     "output_type": "display_data"
    }
   ],
   "source": [
    "show(LatexExpr(r\"c=\\frac{1}{\\sqrt \\mu \\epsilon}=299792458\"))\n",
    "show(LatexExpr(r\"c^2=\\frac{1}{\\mu \\epsilon}=89875517873681764\"))"
   ]
  },
  {
   "cell_type": "markdown",
   "metadata": {},
   "source": [
    "Fin de la premère partie..."
   ]
  },
  {
   "cell_type": "markdown",
   "metadata": {},
   "source": [
    "vitesse du soleil 230047.6424 m / s\n",
    "\n",
    "$\\delta t=\\frac{1}{1-\\frac{v^2}{c^2}}$"
   ]
  },
  {
   "cell_type": "code",
   "execution_count": 3,
   "metadata": {},
   "outputs": [
    {
     "data": {
      "text/plain": [
       "1.00000058883609"
      ]
     },
     "execution_count": 3,
     "metadata": {},
     "output_type": "execute_result"
    }
   ],
   "source": [
    "v=230047.6424;c=299792458\n",
    "dt=1/(1-(v/c)^2);dt"
   ]
  },
  {
   "cell_type": "code",
   "execution_count": 4,
   "metadata": {},
   "outputs": [
    {
     "data": {
      "text/plain": [
       "0.999999705582083"
      ]
     },
     "execution_count": 4,
     "metadata": {},
     "output_type": "execute_result"
    }
   ],
   "source": [
    "vi=1/dt^0.5;vi"
   ]
  },
  {
   "cell_type": "code",
   "execution_count": 5,
   "metadata": {},
   "outputs": [
    {
     "data": {
      "text/plain": [
       "1.00000029441800"
      ]
     },
     "execution_count": 5,
     "metadata": {},
     "output_type": "execute_result"
    }
   ],
   "source": [
    "dv=1/vi;dv"
   ]
  },
  {
   "cell_type": "code",
   "execution_count": null,
   "metadata": {},
   "outputs": [],
   "source": []
  }
 ],
 "metadata": {
  "kernelspec": {
   "display_name": "SageMath 9.2",
   "language": "sage",
   "name": "sagemath"
  },
  "language_info": {
   "codemirror_mode": {
    "name": "ipython",
    "version": 3
   },
   "file_extension": ".py",
   "mimetype": "text/x-python",
   "name": "python",
   "nbconvert_exporter": "python",
   "pygments_lexer": "ipython3",
   "version": "3.7.7"
  }
 },
 "nbformat": 4,
 "nbformat_minor": 4
}
