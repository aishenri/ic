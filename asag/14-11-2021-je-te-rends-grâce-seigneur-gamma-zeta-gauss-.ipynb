{
 "cells": [
  {
   "cell_type": "markdown",
   "metadata": {},
   "source": [
    "######  An de grâce 2021  Alléluia (Louer le bon  Dieu)        14/11/ 12:00\n",
    "\n",
    "http://dl.lateralis.org/public/sagebook/sagebook-1.0.pdf   page127"
   ]
  },
  {
   "cell_type": "code",
   "execution_count": 1,
   "metadata": {},
   "outputs": [],
   "source": [
    "%display latex"
   ]
  },
  {
   "cell_type": "code",
   "execution_count": 2,
   "metadata": {},
   "outputs": [
    {
     "data": {
      "text/html": [
       "<html><script type=\"math/tex; mode=display\">\\newcommand{\\Bold}[1]{\\mathbf{#1}}\\frac{1}{8} \\, \\pi^{2}</script></html>"
      ],
      "text/latex": [
       "\\begin{math}\n",
       "\\newcommand{\\Bold}[1]{\\mathbf{#1}}\\frac{1}{8} \\, \\pi^{2}\n",
       "\\end{math}"
      ],
      "text/plain": [
       "1/8*pi^2"
      ]
     },
     "execution_count": 2,
     "metadata": {},
     "output_type": "execute_result"
    }
   ],
   "source": [
    "k, m = var(\"k, m\")\n",
    "sum(1/(2*k+1)^2, k, 0,oo,hold=False)"
   ]
  },
  {
   "cell_type": "code",
   "execution_count": 3,
   "metadata": {},
   "outputs": [
    {
     "data": {
      "text/html": [
       "<html><script type=\"math/tex; mode=display\">\\newcommand{\\Bold}[1]{\\mathbf{#1}}\\int_{-\\pi}^{\\pi} e^{\\left(-x^{2}\\right)}\\,{d x}</script></html>"
      ],
      "text/latex": [
       "\\begin{math}\n",
       "\\newcommand{\\Bold}[1]{\\mathbf{#1}}\\int_{-\\pi}^{\\pi} e^{\\left(-x^{2}\\right)}\\,{d x}\n",
       "\\end{math}"
      ],
      "text/plain": [
       "integrate(e^(-x^2), x, -pi, pi)"
      ]
     },
     "execution_count": 3,
     "metadata": {},
     "output_type": "execute_result"
    }
   ],
   "source": [
    "f(x) = exp(-x^2);p=plot(f,x,-pi,pi)\n",
    "integrate(f, x, -pi,pi,hold=True)"
   ]
  },
  {
   "cell_type": "code",
   "execution_count": 4,
   "metadata": {},
   "outputs": [
    {
     "data": {
      "image/png": "[encoded data removed]",
      "text/plain": [
       "Graphics object consisting of 2 graphics primitives"
      ]
     },
     "metadata": {},
     "output_type": "display_data"
    }
   ],
   "source": [
    "p=plot(f,x,-pi,pi,color=\"blue\",fill=True,fillcolor=\"red\")\n",
    "show(p,figsize=3,fontsize=4,frame=True,axes=False)"
   ]
  },
  {
   "cell_type": "code",
   "execution_count": 5,
   "metadata": {},
   "outputs": [
    {
     "data": {
      "text/html": [
       "<html><script type=\"math/tex; mode=display\">\\newcommand{\\Bold}[1]{\\mathbf{#1}}\\int_{-\\infty}^{+\\infty} e^{\\left(-x^{2}\\right)}\\,{d x}</script></html>"
      ],
      "text/latex": [
       "\\begin{math}\n",
       "\\newcommand{\\Bold}[1]{\\mathbf{#1}}\\int_{-\\infty}^{+\\infty} e^{\\left(-x^{2}\\right)}\\,{d x}\n",
       "\\end{math}"
      ],
      "text/plain": [
       "integrate(e^(-x^2), x, -Infinity, +Infinity)"
      ]
     },
     "execution_count": 5,
     "metadata": {},
     "output_type": "execute_result"
    }
   ],
   "source": [
    "n(integrate(f, x, -oo,oo,hold=False))\n",
    "(integrate(f, x, -oo,oo,hold=True))"
   ]
  },
  {
   "cell_type": "code",
   "execution_count": 6,
   "metadata": {},
   "outputs": [
    {
     "data": {
      "text/html": [
       "<html><script type=\"math/tex; mode=display\">\\newcommand{\\Bold}[1]{\\mathbf{#1}}1.23370055013617</script></html>"
      ],
      "text/latex": [
       "\\begin{math}\n",
       "\\newcommand{\\Bold}[1]{\\mathbf{#1}}1.23370055013617\n",
       "\\end{math}"
      ],
      "text/plain": [
       "1.23370055013617"
      ]
     },
     "execution_count": 6,
     "metadata": {},
     "output_type": "execute_result"
    }
   ],
   "source": [
    "k, m = var(\"k, m\")\n",
    "s8=sum(1/(2*k+1)^2, k, 0,oo,hold=False);n(s8)"
   ]
  },
  {
   "cell_type": "code",
   "execution_count": 7,
   "metadata": {},
   "outputs": [
    {
     "data": {
      "text/html": [
       "<html><script type=\"math/tex; mode=display\">\\newcommand{\\Bold}[1]{\\mathbf{#1}}70.6858347057704</script></html>"
      ],
      "text/latex": [
       "\\begin{math}\n",
       "\\newcommand{\\Bold}[1]{\\mathbf{#1}}70.6858347057704\n",
       "\\end{math}"
      ],
      "text/plain": [
       "70.6858347057704"
      ]
     },
     "execution_count": 7,
     "metadata": {},
     "output_type": "execute_result"
    }
   ],
   "source": [
    "deg(x)=x*180/n(pi);deg(1.23370055013617)"
   ]
  },
  {
   "cell_type": "code",
   "execution_count": 8,
   "metadata": {},
   "outputs": [
    {
     "data": {
      "image/png": "[encoded data removed]",
      "text/plain": [
       "Graphics object consisting of 4 graphics primitives"
      ]
     },
     "metadata": {},
     "output_type": "display_data"
    }
   ],
   "source": [
    "ce=circle((0,0),1.4142,color=\"red\")\n",
    "ci=circle((0,0),1,color=\"blue\")\n",
    "dr=x;nr=plot(dr,x,-0,1,\n",
    "color=\"blue\",linestyle=\"--\")\n",
    "p=polygon([(-1,1),(-1,-1),(-1,-1),(1,-1),(1,1),\n",
    "(1,1)],color=\"black\",fill=False)\n",
    "show(ce+ci+p+nr,figsize=3,axes=True,fontsize=5)"
   ]
  },
  {
   "cell_type": "code",
   "execution_count": 9,
   "metadata": {},
   "outputs": [
    {
     "data": {
      "text/html": [
       "<html><script type=\"math/tex; mode=display\">\\newcommand{\\Bold}[1]{\\mathbf{#1}}\\frac{1}{4} \\, \\pi</script></html>"
      ],
      "text/latex": [
       "\\begin{math}\n",
       "\\newcommand{\\Bold}[1]{\\mathbf{#1}}\\frac{1}{4} \\, \\pi\n",
       "\\end{math}"
      ],
      "text/plain": [
       "1/4*pi"
      ]
     },
     "execution_count": 9,
     "metadata": {},
     "output_type": "execute_result"
    }
   ],
   "source": [
    "integral(sqrt(1-x^2),x,0,1)"
   ]
  },
  {
   "cell_type": "code",
   "execution_count": 10,
   "metadata": {},
   "outputs": [
    {
     "data": {
      "text/html": [
       "<html><script type=\"math/tex; mode=display\">\\newcommand{\\Bold}[1]{\\mathbf{#1}}1.00000000000000 \\times 10^{80}</script></html>"
      ],
      "text/latex": [
       "\\begin{math}\n",
       "\\newcommand{\\Bold}[1]{\\mathbf{#1}}1.00000000000000 \\times 10^{80}\n",
       "\\end{math}"
      ],
      "text/plain": [
       "1.00000000000000e80"
      ]
     },
     "execution_count": 10,
     "metadata": {},
     "output_type": "execute_result"
    }
   ],
   "source": [
    "u(n) = n^100 / 100^n\n",
    "u(2.);u(3.);u(4.);u(5.);u(6.);u(7.);u(8.);u(9.);u(10.)"
   ]
  },
  {
   "cell_type": "code",
   "execution_count": 11,
   "metadata": {},
   "outputs": [
    {
     "data": {
      "image/png": "[encoded data removed]",
      "text/plain": [
       "Graphics object consisting of 1 graphics primitive"
      ]
     },
     "execution_count": 11,
     "metadata": {},
     "output_type": "execute_result"
    }
   ],
   "source": [
    "plot(u(x), x, 1, 40)"
   ]
  },
  {
   "cell_type": "code",
   "execution_count": 12,
   "metadata": {},
   "outputs": [
    {
     "data": {
      "text/html": [
       "<html><script type=\"math/tex; mode=display\">\\newcommand{\\Bold}[1]{\\mathbf{#1}}21</script></html>"
      ],
      "text/latex": [
       "\\begin{math}\n",
       "\\newcommand{\\Bold}[1]{\\mathbf{#1}}21\n",
       "\\end{math}"
      ],
      "text/plain": [
       "21"
      ]
     },
     "execution_count": 12,
     "metadata": {},
     "output_type": "execute_result"
    }
   ],
   "source": [
    "v(x) = diff(u(x), x); sol = solve(v(x) == 0, x); sol\n",
    "floor(sol[0].rhs())"
   ]
  },
  {
   "cell_type": "code",
   "execution_count": 13,
   "metadata": {},
   "outputs": [
    {
     "data": {
      "text/html": [
       "<html><script type=\"math/tex; mode=display\">\\newcommand{\\Bold}[1]{\\mathbf{#1}}0</script></html>"
      ],
      "text/latex": [
       "\\begin{math}\n",
       "\\newcommand{\\Bold}[1]{\\mathbf{#1}}0\n",
       "\\end{math}"
      ],
      "text/plain": [
       "0"
      ]
     },
     "execution_count": 13,
     "metadata": {},
     "output_type": "execute_result"
    }
   ],
   "source": [
    "limit(u(n), n=infinity)"
   ]
  },
  {
   "cell_type": "code",
   "execution_count": 14,
   "metadata": {},
   "outputs": [
    {
     "data": {
      "text/html": [
       "<html><script type=\"math/tex; mode=display\">\\newcommand{\\Bold}[1]{\\mathbf{#1}}105.07496210187252</script></html>"
      ],
      "text/latex": [
       "\\begin{math}\n",
       "\\newcommand{\\Bold}[1]{\\mathbf{#1}}105.07496210187252\n",
       "\\end{math}"
      ],
      "text/plain": [
       "105.07496210187252"
      ]
     },
     "execution_count": 14,
     "metadata": {},
     "output_type": "execute_result"
    }
   ],
   "source": [
    "n0 = find_root(u(n) - 1e-8 == 0, 22, 1000); n0"
   ]
  },
  {
   "cell_type": "code",
   "execution_count": 15,
   "metadata": {},
   "outputs": [
    {
     "data": {
      "text/html": [
       "<html><script type=\"math/tex; mode=display\">\\newcommand{\\Bold}[1]{\\mathbf{#1}}\\frac{1}{16} \\, x^{3} e + \\frac{1}{8} \\, x^{2} e - \\frac{1}{2} \\, x e + e</script></html>"
      ],
      "text/latex": [
       "\\begin{math}\n",
       "\\newcommand{\\Bold}[1]{\\mathbf{#1}}\\frac{1}{16} \\, x^{3} e + \\frac{1}{8} \\, x^{2} e - \\frac{1}{2} \\, x e + e\n",
       "\\end{math}"
      ],
      "text/plain": [
       "1/16*x^3*e + 1/8*x^2*e - 1/2*x*e + e"
      ]
     },
     "execution_count": 15,
     "metadata": {},
     "output_type": "execute_result"
    }
   ],
   "source": [
    "taylor((1+arctan(x))**(1/x), x, 0, 3)"
   ]
  },
  {
   "cell_type": "code",
   "execution_count": 16,
   "metadata": {},
   "outputs": [
    {
     "data": {
      "text/html": [
       "<html><script type=\"math/tex; mode=display\">\\newcommand{\\Bold}[1]{\\mathbf{#1}}{(\\sqrt{3})} {(-\\frac{1}{6} \\, \\pi + x)} + {(-2)} {(-\\frac{1}{6} \\, \\pi + x)}^{2} + \\mathcal{O}\\left(-\\frac{1}{216} \\, {\\left(\\pi - 6 \\, x\\right)}^{3}\\right)</script></html>"
      ],
      "text/latex": [
       "\\begin{math}\n",
       "\\newcommand{\\Bold}[1]{\\mathbf{#1}}{(\\sqrt{3})} {(-\\frac{1}{6} \\, \\pi + x)} + {(-2)} {(-\\frac{1}{6} \\, \\pi + x)}^{2} + \\mathcal{O}\\left(-\\frac{1}{216} \\, {\\left(\\pi - 6 \\, x\\right)}^{3}\\right)\n",
       "\\end{math}"
      ],
      "text/plain": [
       "(sqrt(3))*(-1/6*pi + x) + (-2)*(-1/6*pi + x)^2 + Order(-1/216*(pi - 6*x)^3)"
      ]
     },
     "execution_count": 16,
     "metadata": {},
     "output_type": "execute_result"
    }
   ],
   "source": [
    "(ln(2*sin(x))).series(x==pi/6, 3)"
   ]
  },
  {
   "cell_type": "code",
   "execution_count": 17,
   "metadata": {},
   "outputs": [
    {
     "data": {
      "text/html": [
       "<html><script type=\"math/tex; mode=display\">\\newcommand{\\Bold}[1]{\\mathbf{#1}}{(\\zeta(\\frac{1}{8} \\, \\pi))} + {(\\zeta^\\prime\\left(1, \\frac{1}{8} \\, \\pi\\right))} {(-\\frac{1}{8} \\, \\pi + x)} + {(\\frac{1}{2} \\, \\zeta^\\prime\\left(2, \\frac{1}{8} \\, \\pi\\right))} {(-\\frac{1}{8} \\, \\pi + x)}^{2} + \\mathcal{O}\\left(-\\frac{1}{512} \\, {\\left(\\pi - 8 \\, x\\right)}^{3}\\right)</script></html>"
      ],
      "text/latex": [
       "\\begin{math}\n",
       "\\newcommand{\\Bold}[1]{\\mathbf{#1}}{(\\zeta(\\frac{1}{8} \\, \\pi))} + {(\\zeta^\\prime\\left(1, \\frac{1}{8} \\, \\pi\\right))} {(-\\frac{1}{8} \\, \\pi + x)} + {(\\frac{1}{2} \\, \\zeta^\\prime\\left(2, \\frac{1}{8} \\, \\pi\\right))} {(-\\frac{1}{8} \\, \\pi + x)}^{2} + \\mathcal{O}\\left(-\\frac{1}{512} \\, {\\left(\\pi - 8 \\, x\\right)}^{3}\\right)\n",
       "\\end{math}"
      ],
      "text/plain": [
       "(zeta(1/8*pi)) + (zetaderiv(1, 1/8*pi))*(-1/8*pi + x) + (1/2*zetaderiv(2, 1/8*pi))*(-1/8*pi + x)^2 + Order(-1/512*(pi - 8*x)^3)"
      ]
     },
     "execution_count": 17,
     "metadata": {},
     "output_type": "execute_result"
    }
   ],
   "source": [
    "zeta(x).series(x==pi/8, 3)"
   ]
  },
  {
   "cell_type": "code",
   "execution_count": 18,
   "metadata": {},
   "outputs": [
    {
     "data": {
      "text/html": [
       "<html><script type=\"math/tex; mode=display\">\\newcommand{\\Bold}[1]{\\mathbf{#1}}\\frac{1}{128} \\, {\\left(\\pi - 8 \\, x\\right)}^{2} \\zeta^\\prime\\left(2, \\frac{1}{8} \\, \\pi\\right) - \\frac{1}{8} \\, {\\left(\\pi - 8 \\, x\\right)} \\zeta^\\prime\\left(1, \\frac{1}{8} \\, \\pi\\right) + \\zeta(\\frac{1}{8} \\, \\pi)</script></html>"
      ],
      "text/latex": [
       "\\begin{math}\n",
       "\\newcommand{\\Bold}[1]{\\mathbf{#1}}\\frac{1}{128} \\, {\\left(\\pi - 8 \\, x\\right)}^{2} \\zeta^\\prime\\left(2, \\frac{1}{8} \\, \\pi\\right) - \\frac{1}{8} \\, {\\left(\\pi - 8 \\, x\\right)} \\zeta^\\prime\\left(1, \\frac{1}{8} \\, \\pi\\right) + \\zeta(\\frac{1}{8} \\, \\pi)\n",
       "\\end{math}"
      ],
      "text/plain": [
       "1/128*(pi - 8*x)^2*zetaderiv(2, 1/8*pi) - 1/8*(pi - 8*x)*zetaderiv(1, 1/8*pi) + zeta(1/8*pi)"
      ]
     },
     "execution_count": 18,
     "metadata": {},
     "output_type": "execute_result"
    }
   ],
   "source": [
    "zeta(x).series(x==pi/8, 3).truncate()"
   ]
  },
  {
   "cell_type": "code",
   "execution_count": 19,
   "metadata": {},
   "outputs": [
    {
     "data": {
      "text/html": [
       "<html><script type=\"math/tex; mode=display\">\\newcommand{\\Bold}[1]{\\mathbf{#1}}14</script></html>"
      ],
      "text/latex": [
       "\\begin{math}\n",
       "\\newcommand{\\Bold}[1]{\\mathbf{#1}}14\n",
       "\\end{math}"
      ],
      "text/plain": [
       "14"
      ]
     },
     "execution_count": 19,
     "metadata": {},
     "output_type": "execute_result"
    }
   ],
   "source": [
    "S = 0 ; k = 0\n",
    "while e^k <= 5^2:\n",
    "    S = S + k^2 \n",
    "    k = k + 1\n",
    "S"
   ]
  },
  {
   "cell_type": "code",
   "execution_count": 20,
   "metadata": {},
   "outputs": [
    {
     "data": {
      "text/html": [
       "<html><script type=\"math/tex; mode=display\">\\newcommand{\\Bold}[1]{\\mathbf{#1}}39</script></html>"
      ],
      "text/latex": [
       "\\begin{math}\n",
       "\\newcommand{\\Bold}[1]{\\mathbf{#1}}39\n",
       "\\end{math}"
      ],
      "text/plain": [
       "39"
      ]
     },
     "execution_count": 20,
     "metadata": {},
     "output_type": "execute_result"
    }
   ],
   "source": [
    "0^2+1^2+2^2+3^2+5^2"
   ]
  },
  {
   "cell_type": "code",
   "execution_count": 21,
   "metadata": {},
   "outputs": [
    {
     "data": {
      "image/png": "[encoded data removed]",
      "text/plain": [
       "Graphics object consisting of 2 graphics primitives"
      ]
     },
     "metadata": {},
     "output_type": "display_data"
    }
   ],
   "source": [
    "c=circle((0,0),0.7,color=\"white\",alpha=0.1)\n",
    "f(z) = z+z-1+1/z;co=complex_plot(f,(-0.8, 0.8), (-0.8, 0.8))\n",
    "show(c+co,axes=False,figsize=4,frame=True,fontsize=5,\n",
    "aspect_ratio=1)"
   ]
  },
  {
   "cell_type": "code",
   "execution_count": null,
   "metadata": {},
   "outputs": [],
   "source": []
  }
 ],
 "metadata": {
  "kernelspec": {
   "display_name": "SageMath 9.2",
   "language": "sage",
   "name": "sagemath"
  },
  "language_info": {
   "codemirror_mode": {
    "name": "ipython",
    "version": 3
   },
   "file_extension": ".py",
   "mimetype": "text/x-python",
   "name": "python",
   "nbconvert_exporter": "python",
   "pygments_lexer": "ipython3",
   "version": "3.7.7"
  }
 },
 "nbformat": 4,
 "nbformat_minor": 4
}
