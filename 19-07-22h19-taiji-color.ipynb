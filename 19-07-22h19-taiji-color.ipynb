{
 "cells": [
  {
   "cell_type": "code",
   "execution_count": 32,
   "metadata": {
    "scrolled": false
   },
   "outputs": [
    {
     "data": {
      "image/png": "[encoded data removed]",
      "text/plain": [
       "Graphics object consisting of 8 graphics primitives"
      ]
     },
     "metadata": {},
     "output_type": "display_data"
    }
   ],
   "source": [
    "%display latex\n",
    "var(\"y\")\n",
    "def f(x):\n",
    "    if x<0:\n",
    "        return sqrt(-x^2-2*x)\n",
    "    else:\n",
    "        return -sqrt(-x^2+2*x)\n",
    "a=plot(f,(x,-2,2),color=\"gray\",fill=sqrt(4-x^2),alpha=1)\n",
    "b=plot(f,(x,-2,2),color=\"white\",fill=-sqrt(4-x^2),alpha=0.1)\n",
    "#pc = implicit_plot(x^2+y^2-8, (x,-3,3), (y,-3,3))\n",
    "p1 = polygon(((0,0),(-1,2.5),(1,2.5)),\n",
    "             color=\"green\",alpha=1)\n",
    "p2 = polygon(((0,0),(1,2.5),(2.5,1)),\n",
    "             color=\"cyan\",alpha=1)\n",
    "p3 = polygon(((0,0),(-2.5,1),(-1,2.5)),\n",
    "             color=\"yellow\",alpha=1)\n",
    "p4 = polygon(((0,0),(-2.5,-1),(-2.5,1)),\n",
    "             color=\"blue\",alpha=1)\n",
    "p5 = polygon(((0,0),(-2.5,-1),(-1,-2.5)),\n",
    "             color=\"red\",alpha=1)\n",
    "p6 = polygon(((0,0),(2.5,1),(2.5,-1)),\n",
    "             color=\"violet\",alpha=1)\n",
    "p7 = polygon(((0,0),(2.5,-1),(1,-2.5)),\n",
    "             color=\"brown\",alpha=1)\n",
    "p8 = polygon(((0,0),(1,-2.5),(-1,-2.5)),\n",
    "             color=\"orange\",alpha=1)\n",
    "r=2/sqrt(n(pi))\n",
    "cp=line([(-1,-1),(-1,1),(1,1)])\n",
    "cq=line([(1,1),(1,-1),(-1,-1)])\n",
    "c0=circle((0,0),r,color=\"red\",alpha=1)\n",
    "c1=circle((-1,0),1,color=\"white\",alpha=1)\n",
    "c2=circle((1,0),1,color=\"white\",alpha=1)\n",
    "c3=circle((0,-1),1,color=\"white\",alpha=1)\n",
    "c4=circle((0,1),1,color=\"white\",alpha=1)\n",
    "show(p1+p2+p3+p4+p5+p6+p7+p8,axes=False,\n",
    "figsize=5,fontsize=8)"
   ]
  },
  {
   "cell_type": "code",
   "execution_count": null,
   "metadata": {},
   "outputs": [],
   "source": []
  }
 ],
 "metadata": {
  "kernelspec": {
   "display_name": "SageMath 9.2",
   "language": "sage",
   "name": "sagemath"
  },
  "language_info": {
   "codemirror_mode": {
    "name": "ipython",
    "version": 3
   },
   "file_extension": ".py",
   "mimetype": "text/x-python",
   "name": "python",
   "nbconvert_exporter": "python",
   "pygments_lexer": "ipython3",
   "version": "3.7.7"
  }
 },
 "nbformat": 4,
 "nbformat_minor": 2
}
