{
 "cells": [
  {
   "cell_type": "markdown",
   "metadata": {},
   "source": [
    "######  $\\pi$ est sa propre racine !\n",
    "\n",
    "Dans $\\zeta$ \n",
    "\n"
   ]
  },
  {
   "cell_type": "code",
   "execution_count": 76,
   "metadata": {},
   "outputs": [
    {
     "data": {
      "text/html": [
       "<html><script type=\"math/tex; mode=display\">\\newcommand{\\Bold}[1]{\\mathbf{#1}}\\zeta(0)= -\\frac{1}{2} \\verb|=| -0.500000000000000</script></html>"
      ],
      "text/latex": [
       "\\begin{math}\n",
       "\\newcommand{\\Bold}[1]{\\mathbf{#1}}\\zeta(0)= -\\frac{1}{2} \\verb|=| -0.500000000000000\n",
       "\\end{math}"
      ],
      "text/plain": [
       "\\zeta(0)= -1/2 '=' -0.500000000000000"
      ]
     },
     "metadata": {},
     "output_type": "display_data"
    },
    {
     "data": {
      "text/html": [
       "<html><script type=\"math/tex; mode=display\">\\newcommand{\\Bold}[1]{\\mathbf{#1}}\\zeta(1)= \\infty</script></html>"
      ],
      "text/latex": [
       "\\begin{math}\n",
       "\\newcommand{\\Bold}[1]{\\mathbf{#1}}\\zeta(1)= \\infty\n",
       "\\end{math}"
      ],
      "text/plain": [
       "\\zeta(1)= Infinity"
      ]
     },
     "metadata": {},
     "output_type": "display_data"
    },
    {
     "data": {
      "text/html": [
       "<html><script type=\"math/tex; mode=display\">\\newcommand{\\Bold}[1]{\\mathbf{#1}}\\zeta(2)=\\frac{\\pi^2}{6}= \\frac{1}{6} \\, \\pi^{2} \\verb|=| 1.64493406684823</script></html>"
      ],
      "text/latex": [
       "\\begin{math}\n",
       "\\newcommand{\\Bold}[1]{\\mathbf{#1}}\\zeta(2)=\\frac{\\pi^2}{6}= \\frac{1}{6} \\, \\pi^{2} \\verb|=| 1.64493406684823\n",
       "\\end{math}"
      ],
      "text/plain": [
       "\\zeta(2)=\\frac{\\pi^2}{6}= 1/6*pi^2 '=' 1.64493406684823"
      ]
     },
     "metadata": {},
     "output_type": "display_data"
    },
    {
     "data": {
      "text/html": [
       "<html><script type=\"math/tex; mode=display\">\\newcommand{\\Bold}[1]{\\mathbf{#1}}\\zeta(3)=\\zeta(3)= 1.20205690315959</script></html>"
      ],
      "text/latex": [
       "\\begin{math}\n",
       "\\newcommand{\\Bold}[1]{\\mathbf{#1}}\\zeta(3)=\\zeta(3)= 1.20205690315959\n",
       "\\end{math}"
      ],
      "text/plain": [
       "\\zeta(3)=\\zeta(3)= 1.20205690315959"
      ]
     },
     "metadata": {},
     "output_type": "display_data"
    },
    {
     "data": {
      "text/html": [
       "<html><script type=\"math/tex; mode=display\">\\newcommand{\\Bold}[1]{\\mathbf{#1}}\\zeta(4)=\\frac{\\pi^4}{90}= \\frac{1}{90} \\, \\pi^{4} \\verb|=| 1.08232323371114</script></html>"
      ],
      "text/latex": [
       "\\begin{math}\n",
       "\\newcommand{\\Bold}[1]{\\mathbf{#1}}\\zeta(4)=\\frac{\\pi^4}{90}= \\frac{1}{90} \\, \\pi^{4} \\verb|=| 1.08232323371114\n",
       "\\end{math}"
      ],
      "text/plain": [
       "\\zeta(4)=\\frac{\\pi^4}{90}= 1/90*pi^4 '=' 1.08232323371114"
      ]
     },
     "metadata": {},
     "output_type": "display_data"
    },
    {
     "data": {
      "text/html": [
       "<html><script type=\"math/tex; mode=display\">\\newcommand{\\Bold}[1]{\\mathbf{#1}}\\zeta(5)=\\zeta(5)= 1.03692775514337</script></html>"
      ],
      "text/latex": [
       "\\begin{math}\n",
       "\\newcommand{\\Bold}[1]{\\mathbf{#1}}\\zeta(5)=\\zeta(5)= 1.03692775514337\n",
       "\\end{math}"
      ],
      "text/plain": [
       "\\zeta(5)=\\zeta(5)= 1.03692775514337"
      ]
     },
     "metadata": {},
     "output_type": "display_data"
    },
    {
     "data": {
      "text/html": [
       "<html><script type=\"math/tex; mode=display\">\\newcommand{\\Bold}[1]{\\mathbf{#1}}\\zeta(6)=\\frac{\\pi^6}{945}= \\frac{1}{945} \\, \\pi^{6} \\verb|=| 1.01734306198445</script></html>"
      ],
      "text/latex": [
       "\\begin{math}\n",
       "\\newcommand{\\Bold}[1]{\\mathbf{#1}}\\zeta(6)=\\frac{\\pi^6}{945}= \\frac{1}{945} \\, \\pi^{6} \\verb|=| 1.01734306198445\n",
       "\\end{math}"
      ],
      "text/plain": [
       "\\zeta(6)=\\frac{\\pi^6}{945}= 1/945*pi^6 '=' 1.01734306198445"
      ]
     },
     "metadata": {},
     "output_type": "display_data"
    },
    {
     "data": {
      "text/html": [
       "<html><script type=\"math/tex; mode=display\">\\newcommand{\\Bold}[1]{\\mathbf{#1}}\\zeta(7)=\\zeta(7)= 1.00834927738192</script></html>"
      ],
      "text/latex": [
       "\\begin{math}\n",
       "\\newcommand{\\Bold}[1]{\\mathbf{#1}}\\zeta(7)=\\zeta(7)= 1.00834927738192\n",
       "\\end{math}"
      ],
      "text/plain": [
       "\\zeta(7)=\\zeta(7)= 1.00834927738192"
      ]
     },
     "metadata": {},
     "output_type": "display_data"
    },
    {
     "data": {
      "text/html": [
       "<html><script type=\"math/tex; mode=display\">\\newcommand{\\Bold}[1]{\\mathbf{#1}}\\zeta(8)=\\frac{\\pi^8}{945}= \\frac{1}{9450} \\, \\pi^{8} \\verb|=| 1.00407735619794</script></html>"
      ],
      "text/latex": [
       "\\begin{math}\n",
       "\\newcommand{\\Bold}[1]{\\mathbf{#1}}\\zeta(8)=\\frac{\\pi^8}{945}= \\frac{1}{9450} \\, \\pi^{8} \\verb|=| 1.00407735619794\n",
       "\\end{math}"
      ],
      "text/plain": [
       "\\zeta(8)=\\frac{\\pi^8}{945}= 1/9450*pi^8 '=' 1.00407735619794"
      ]
     },
     "metadata": {},
     "output_type": "display_data"
    },
    {
     "data": {
      "text/html": [
       "<html><script type=\"math/tex; mode=display\">\\newcommand{\\Bold}[1]{\\mathbf{#1}}\\zeta(9)=\\zeta(9)= 1.00200839282608</script></html>"
      ],
      "text/latex": [
       "\\begin{math}\n",
       "\\newcommand{\\Bold}[1]{\\mathbf{#1}}\\zeta(9)=\\zeta(9)= 1.00200839282608\n",
       "\\end{math}"
      ],
      "text/plain": [
       "\\zeta(9)=\\zeta(9)= 1.00200839282608"
      ]
     },
     "metadata": {},
     "output_type": "display_data"
    }
   ],
   "source": [
    "%display latex\n",
    "show(LatexExpr(r\"\\zeta(0)=\"),zeta(0),\"=\",n(round(zeta(0),1)))\n",
    "show(LatexExpr(r\"\\zeta(1)=\"),zeta(1))\n",
    "show(LatexExpr(r\"\\zeta(2)=\\frac{\\pi^2}{6}=\"),zeta(2),\"=\",n(zeta(2)))\n",
    "show(LatexExpr(r\"\\zeta(3)=\\zeta(3)=\"),zeta(3.0))\n",
    "show(LatexExpr(r\"\\zeta(4)=\\frac{\\pi^4}{90}=\"),zeta(4),\"=\",n(zeta(4)))\n",
    "show(LatexExpr(r\"\\zeta(5)=\\zeta(5)=\"),zeta(5.0))\n",
    "show(LatexExpr(r\"\\zeta(6)=\\frac{\\pi^6}{945}=\"),zeta(6),\"=\",n(zeta(6)))\n",
    "show(LatexExpr(r\"\\zeta(7)=\\zeta(7)=\"),zeta(7.0))\n",
    "show(LatexExpr(r\"\\zeta(8)=\\frac{\\pi^8}{945}=\"),zeta(8),\"=\",n(zeta(8)))\n",
    "show(LatexExpr(r\"\\zeta(9)=\\zeta(9)=\"),zeta(9.0))"
   ]
  },
  {
   "cell_type": "code",
   "execution_count": 32,
   "metadata": {},
   "outputs": [
    {
     "data": {
      "text/html": [
       "<html><script type=\"math/tex; mode=display\">\\newcommand{\\Bold}[1]{\\mathbf{#1}}\\frac{1}{2}!=\\frac{\\sqrt\\pi}{2}= \\frac{1}{2} \\, \\sqrt{\\pi}</script></html>"
      ],
      "text/latex": [
       "\\begin{math}\n",
       "\\newcommand{\\Bold}[1]{\\mathbf{#1}}\\frac{1}{2}!=\\frac{\\sqrt\\pi}{2}= \\frac{1}{2} \\, \\sqrt{\\pi}\n",
       "\\end{math}"
      ],
      "text/plain": [
       "\\frac{1}{2}!=\\frac{\\sqrt\\pi}{2}= 1/2*sqrt(pi)"
      ]
     },
     "metadata": {},
     "output_type": "display_data"
    }
   ],
   "source": [
    "show(LatexExpr(r\"\\frac{1}{2}!=\\frac{\\sqrt\\pi}{2}=\"),factorial(1/2))"
   ]
  },
  {
   "cell_type": "code",
   "execution_count": 59,
   "metadata": {},
   "outputs": [
    {
     "data": {
      "text/html": [
       "<html><script type=\"math/tex; mode=display\">\\newcommand{\\Bold}[1]{\\mathbf{#1}}\\left(\\frac{1}{4}, \\frac{1}{3}, \\frac{1}{2}, 1, \\frac{1}{5}\\right)</script></html>"
      ],
      "text/latex": [
       "\\begin{math}\n",
       "\\newcommand{\\Bold}[1]{\\mathbf{#1}}\\left(\\frac{1}{4}, \\frac{1}{3}, \\frac{1}{2}, 1, \\frac{1}{5}\\right)\n",
       "\\end{math}"
      ],
      "text/plain": [
       "(1/4, 1/3, 1/2, 1, 1/5)"
      ]
     },
     "execution_count": 59,
     "metadata": {},
     "output_type": "execute_result"
    }
   ],
   "source": [
    "1/(5-1),1/(5-2),1/(5-3),1/(5-4),1/(5-0)"
   ]
  },
  {
   "cell_type": "code",
   "execution_count": 41,
   "metadata": {},
   "outputs": [
    {
     "data": {
      "text/html": [
       "<html><script type=\"math/tex; mode=display\">\\newcommand{\\Bold}[1]{\\mathbf{#1}}120</script></html>"
      ],
      "text/latex": [
       "\\begin{math}\n",
       "\\newcommand{\\Bold}[1]{\\mathbf{#1}}120\n",
       "\\end{math}"
      ],
      "text/plain": [
       "120"
      ]
     },
     "execution_count": 41,
     "metadata": {},
     "output_type": "execute_result"
    }
   ],
   "source": [
    "5*4*3*2*1"
   ]
  },
  {
   "cell_type": "code",
   "execution_count": 45,
   "metadata": {},
   "outputs": [
    {
     "data": {
      "text/html": [
       "<html><script type=\"math/tex; mode=display\">\\newcommand{\\Bold}[1]{\\mathbf{#1}}120</script></html>"
      ],
      "text/latex": [
       "\\begin{math}\n",
       "\\newcommand{\\Bold}[1]{\\mathbf{#1}}120\n",
       "\\end{math}"
      ],
      "text/plain": [
       "120"
      ]
     },
     "execution_count": 45,
     "metadata": {},
     "output_type": "execute_result"
    }
   ],
   "source": [
    "-5*-4*-3*-2*+1"
   ]
  },
  {
   "cell_type": "code",
   "execution_count": 57,
   "metadata": {},
   "outputs": [
    {
     "data": {
      "text/html": [
       "<html><script type=\"math/tex; mode=display\">\\newcommand{\\Bold}[1]{\\mathbf{#1}}-120</script></html>"
      ],
      "text/latex": [
       "\\begin{math}\n",
       "\\newcommand{\\Bold}[1]{\\mathbf{#1}}-120\n",
       "\\end{math}"
      ],
      "text/plain": [
       "-120"
      ]
     },
     "execution_count": 57,
     "metadata": {},
     "output_type": "execute_result"
    }
   ],
   "source": [
    "-5*4*3*2*1"
   ]
  },
  {
   "cell_type": "code",
   "execution_count": 60,
   "metadata": {},
   "outputs": [
    {
     "data": {
      "text/html": [
       "<html><script type=\"math/tex; mode=display\">\\newcommand{\\Bold}[1]{\\mathbf{#1}}1.00407735619794</script></html>"
      ],
      "text/latex": [
       "\\begin{math}\n",
       "\\newcommand{\\Bold}[1]{\\mathbf{#1}}1.00407735619794\n",
       "\\end{math}"
      ],
      "text/plain": [
       "1.00407735619794"
      ]
     },
     "execution_count": 60,
     "metadata": {},
     "output_type": "execute_result"
    }
   ],
   "source": [
    "n(zeta(8))"
   ]
  },
  {
   "cell_type": "code",
   "execution_count": 125,
   "metadata": {},
   "outputs": [
    {
     "data": {
      "text/html": [
       "<html><script type=\"math/tex; mode=display\">\\newcommand{\\Bold}[1]{\\mathbf{#1}}1.04704825254507</script></html>"
      ],
      "text/latex": [
       "\\begin{math}\n",
       "\\newcommand{\\Bold}[1]{\\mathbf{#1}}1.04704825254507\n",
       "\\end{math}"
      ],
      "text/plain": [
       "1.04704825254507"
      ]
     },
     "execution_count": 125,
     "metadata": {},
     "output_type": "execute_result"
    }
   ],
   "source": [
    "zeta(4.6899)"
   ]
  },
  {
   "cell_type": "code",
   "execution_count": 99,
   "metadata": {},
   "outputs": [
    {
     "data": {
      "text/html": [
       "<html><script type=\"math/tex; mode=display\">\\newcommand{\\Bold}[1]{\\mathbf{#1}}1.04792251077911</script></html>"
      ],
      "text/latex": [
       "\\begin{math}\n",
       "\\newcommand{\\Bold}[1]{\\mathbf{#1}}1.04792251077911\n",
       "\\end{math}"
      ],
      "text/plain": [
       "1.04792251077911"
      ]
     },
     "execution_count": 99,
     "metadata": {},
     "output_type": "execute_result"
    }
   ],
   "source": [
    "314159265.3/299792458"
   ]
  },
  {
   "cell_type": "code",
   "execution_count": 136,
   "metadata": {},
   "outputs": [
    {
     "data": {
      "text/html": [
       "<html><script type=\"math/tex; mode=display\">\\newcommand{\\Bold}[1]{\\mathbf{#1}}\\left(1.26765060022823 \\times 10^{26}, 5.15377520732011 \\times 10^{41}, 1.60693804425899 \\times 10^{52}, 7.88860905221012 \\times 10^{59}, 6.53318623500071 \\times 10^{65}, 3.23447650962476 \\times 10^{70}, 2.03703597633449 \\times 10^{74}, 2.65613988875875 \\times 10^{77}, 1.00000000000000 \\times 10^{80}\\right)</script></html>"
      ],
      "text/latex": [
       "\\begin{math}\n",
       "\\newcommand{\\Bold}[1]{\\mathbf{#1}}\\left(1.26765060022823 \\times 10^{26}, 5.15377520732011 \\times 10^{41}, 1.60693804425899 \\times 10^{52}, 7.88860905221012 \\times 10^{59}, 6.53318623500071 \\times 10^{65}, 3.23447650962476 \\times 10^{70}, 2.03703597633449 \\times 10^{74}, 2.65613988875875 \\times 10^{77}, 1.00000000000000 \\times 10^{80}\\right)\n",
       "\\end{math}"
      ],
      "text/plain": [
       "(1.26765060022823e26,\n",
       " 5.15377520732011e41,\n",
       " 1.60693804425899e52,\n",
       " 7.88860905221012e59,\n",
       " 6.53318623500071e65,\n",
       " 3.23447650962476e70,\n",
       " 2.03703597633449e74,\n",
       " 2.65613988875875e77,\n",
       " 1.00000000000000e80)"
      ]
     },
     "execution_count": 136,
     "metadata": {},
     "output_type": "execute_result"
    }
   ],
   "source": [
    "f(x)= x^100 / 100^x\n",
    "f(2.0),f(3.0),f(4.0),f(5.0),f(6.0),f(7.0),f(8.0),f(9.0),f(10.0)"
   ]
  },
  {
   "cell_type": "code",
   "execution_count": 140,
   "metadata": {},
   "outputs": [
    {
     "data": {
      "text/html": [
       "<html><script type=\"math/tex; mode=display\">\\newcommand{\\Bold}[1]{\\mathbf{#1}}\\frac{1}{100}</script></html>"
      ],
      "text/latex": [
       "\\begin{math}\n",
       "\\newcommand{\\Bold}[1]{\\mathbf{#1}}\\frac{1}{100}\n",
       "\\end{math}"
      ],
      "text/plain": [
       "1/100"
      ]
     },
     "execution_count": 140,
     "metadata": {},
     "output_type": "execute_result"
    }
   ],
   "source": [
    "f(1)"
   ]
  },
  {
   "cell_type": "code",
   "execution_count": 145,
   "metadata": {},
   "outputs": [
    {
     "data": {
      "text/html": [
       "<html><script type=\"math/tex; mode=display\">\\newcommand{\\Bold}[1]{\\mathbf{#1}}\\frac{79228162514264337593543950336}{625}</script></html>"
      ],
      "text/latex": [
       "\\begin{math}\n",
       "\\newcommand{\\Bold}[1]{\\mathbf{#1}}\\frac{79228162514264337593543950336}{625}\n",
       "\\end{math}"
      ],
      "text/plain": [
       "79228162514264337593543950336/625"
      ]
     },
     "execution_count": 145,
     "metadata": {},
     "output_type": "execute_result"
    }
   ],
   "source": [
    "f(2)"
   ]
  },
  {
   "cell_type": "code",
   "execution_count": 146,
   "metadata": {},
   "outputs": [
    {
     "data": {
      "text/html": [
       "<html><script type=\"math/tex; mode=display\">\\newcommand{\\Bold}[1]{\\mathbf{#1}}\\frac{515377520732011331036461129765621272702107522001}{1000000}</script></html>"
      ],
      "text/latex": [
       "\\begin{math}\n",
       "\\newcommand{\\Bold}[1]{\\mathbf{#1}}\\frac{515377520732011331036461129765621272702107522001}{1000000}\n",
       "\\end{math}"
      ],
      "text/plain": [
       "515377520732011331036461129765621272702107522001/1000000"
      ]
     },
     "execution_count": 146,
     "metadata": {},
     "output_type": "execute_result"
    }
   ],
   "source": [
    "f(3)"
   ]
  },
  {
   "cell_type": "code",
   "execution_count": 147,
   "metadata": {},
   "outputs": [
    {
     "data": {
      "text/html": [
       "<html><script type=\"math/tex; mode=display\">\\newcommand{\\Bold}[1]{\\mathbf{#1}}\\frac{6277101735386680763835789423207666416102355444464034512896}{390625}</script></html>"
      ],
      "text/latex": [
       "\\begin{math}\n",
       "\\newcommand{\\Bold}[1]{\\mathbf{#1}}\\frac{6277101735386680763835789423207666416102355444464034512896}{390625}\n",
       "\\end{math}"
      ],
      "text/plain": [
       "6277101735386680763835789423207666416102355444464034512896/390625"
      ]
     },
     "execution_count": 147,
     "metadata": {},
     "output_type": "execute_result"
    }
   ],
   "source": [
    "f(4)"
   ]
  },
  {
   "cell_type": "code",
   "execution_count": 148,
   "metadata": {},
   "outputs": [
    {
     "data": {
      "text/html": [
       "<html><script type=\"math/tex; mode=display\">\\newcommand{\\Bold}[1]{\\mathbf{#1}}\\frac{807793566946316088741610050849573099185363389551639556884765625}{1024}</script></html>"
      ],
      "text/latex": [
       "\\begin{math}\n",
       "\\newcommand{\\Bold}[1]{\\mathbf{#1}}\\frac{807793566946316088741610050849573099185363389551639556884765625}{1024}\n",
       "\\end{math}"
      ],
      "text/plain": [
       "807793566946316088741610050849573099185363389551639556884765625/1024"
      ]
     },
     "execution_count": 148,
     "metadata": {},
     "output_type": "execute_result"
    }
   ],
   "source": [
    "f(5)"
   ]
  },
  {
   "cell_type": "code",
   "execution_count": 149,
   "metadata": {},
   "outputs": [
    {
     "data": {
      "text/html": [
       "<html><script type=\"math/tex; mode=display\">\\newcommand{\\Bold}[1]{\\mathbf{#1}}\\frac{159501617065446998558762272255385210092076101189686247935320304289428013056}{244140625}</script></html>"
      ],
      "text/latex": [
       "\\begin{math}\n",
       "\\newcommand{\\Bold}[1]{\\mathbf{#1}}\\frac{159501617065446998558762272255385210092076101189686247935320304289428013056}{244140625}\n",
       "\\end{math}"
      ],
      "text/plain": [
       "159501617065446998558762272255385210092076101189686247935320304289428013056/244140625"
      ]
     },
     "execution_count": 149,
     "metadata": {},
     "output_type": "execute_result"
    }
   ],
   "source": [
    "f(6)"
   ]
  },
  {
   "cell_type": "code",
   "execution_count": 151,
   "metadata": {},
   "outputs": [
    {
     "data": {
      "text/html": [
       "<html><script type=\"math/tex; mode=display\">\\newcommand{\\Bold}[1]{\\mathbf{#1}}\\frac{3234476509624757991344647769100216810857203198904625400933895331391691459636928060001}{100000000000000}</script></html>"
      ],
      "text/latex": [
       "\\begin{math}\n",
       "\\newcommand{\\Bold}[1]{\\mathbf{#1}}\\frac{3234476509624757991344647769100216810857203198904625400933895331391691459636928060001}{100000000000000}\n",
       "\\end{math}"
      ],
      "text/plain": [
       "3234476509624757991344647769100216810857203198904625400933895331391691459636928060001/100000000000000"
      ]
     },
     "execution_count": 151,
     "metadata": {},
     "output_type": "execute_result"
    }
   ],
   "source": [
    "f(7)"
   ]
  },
  {
   "cell_type": "code",
   "execution_count": 152,
   "metadata": {},
   "outputs": [
    {
     "data": {
      "text/html": [
       "<html><script type=\"math/tex; mode=display\">\\newcommand{\\Bold}[1]{\\mathbf{#1}}\\frac{31082702275611665134711390509176302506278509424834232340028998555822468563283335970816}{152587890625}</script></html>"
      ],
      "text/latex": [
       "\\begin{math}\n",
       "\\newcommand{\\Bold}[1]{\\mathbf{#1}}\\frac{31082702275611665134711390509176302506278509424834232340028998555822468563283335970816}{152587890625}\n",
       "\\end{math}"
      ],
      "text/plain": [
       "31082702275611665134711390509176302506278509424834232340028998555822468563283335970816/152587890625"
      ]
     },
     "execution_count": 152,
     "metadata": {},
     "output_type": "execute_result"
    }
   ],
   "source": [
    "f(8)"
   ]
  },
  {
   "cell_type": "code",
   "execution_count": 153,
   "metadata": {},
   "outputs": [
    {
     "data": {
      "text/html": [
       "<html><script type=\"math/tex; mode=display\">\\newcommand{\\Bold}[1]{\\mathbf{#1}}\\frac{265613988875874769338781322035779626829233452653394495974574961739092490901302182994384699044001}{1000000000000000000}</script></html>"
      ],
      "text/latex": [
       "\\begin{math}\n",
       "\\newcommand{\\Bold}[1]{\\mathbf{#1}}\\frac{265613988875874769338781322035779626829233452653394495974574961739092490901302182994384699044001}{1000000000000000000}\n",
       "\\end{math}"
      ],
      "text/plain": [
       "265613988875874769338781322035779626829233452653394495974574961739092490901302182994384699044001/1000000000000000000"
      ]
     },
     "execution_count": 153,
     "metadata": {},
     "output_type": "execute_result"
    }
   ],
   "source": [
    "f(9)"
   ]
  },
  {
   "cell_type": "markdown",
   "metadata": {},
   "source": [
    "$\\pi$ est sa propre racine, car $\\pi$ est une intégrale (une aire) et sa dérivé est $\\pi 2$, c'est à dire sa circonférence."
   ]
  },
  {
   "cell_type": "code",
   "execution_count": 157,
   "metadata": {},
   "outputs": [
    {
     "data": {
      "text/html": [
       "<html><script type=\"math/tex; mode=display\">\\newcommand{\\Bold}[1]{\\mathbf{#1}}\\sqrt{-x^{2} + 1}</script></html>"
      ],
      "text/latex": [
       "\\begin{math}\n",
       "\\newcommand{\\Bold}[1]{\\mathbf{#1}}\\sqrt{-x^{2} + 1}\n",
       "\\end{math}"
      ],
      "text/plain": [
       "sqrt(-x^2 + 1)"
      ]
     },
     "execution_count": 157,
     "metadata": {},
     "output_type": "execute_result"
    }
   ],
   "source": [
    "f=sqrt(1-x^2);f"
   ]
  },
  {
   "cell_type": "code",
   "execution_count": 160,
   "metadata": {},
   "outputs": [
    {
     "data": {
      "text/html": [
       "<html><script type=\"math/tex; mode=display\">\\newcommand{\\Bold}[1]{\\mathbf{#1}}-\\frac{x}{\\sqrt{-x^{2} + 1}}</script></html>"
      ],
      "text/latex": [
       "\\begin{math}\n",
       "\\newcommand{\\Bold}[1]{\\mathbf{#1}}-\\frac{x}{\\sqrt{-x^{2} + 1}}\n",
       "\\end{math}"
      ],
      "text/plain": [
       "-x/sqrt(-x^2 + 1)"
      ]
     },
     "execution_count": 160,
     "metadata": {},
     "output_type": "execute_result"
    }
   ],
   "source": [
    "g=diff(f,x);g"
   ]
  },
  {
   "cell_type": "code",
   "execution_count": 256,
   "metadata": {},
   "outputs": [
    {
     "name": "stdout",
     "output_type": "stream",
     "text": [
      "verbose 0 (3835: plot.py, generate_plot_points) WARNING: When plotting, failed to evaluate function at 195 points.\n",
      "verbose 0 (3835: plot.py, generate_plot_points) Last error message: 'math domain error'\n",
      "verbose 0 (3835: plot.py, generate_plot_points) WARNING: When plotting, failed to evaluate function at 190 points.\n",
      "verbose 0 (3835: plot.py, generate_plot_points) Last error message: 'math domain error'\n"
     ]
    },
    {
     "data": {
      "image/png": "[encoded data removed]",
      "text/plain": [
       "Graphics object consisting of 4 graphics primitives"
      ]
     },
     "metadata": {},
     "output_type": "display_data"
    }
   ],
   "source": [
    "p=plot(f,x,-1,1,color=\"black\");q=plot(g,x,0,40,color=\"red\")\n",
    "o=plot(-f,x,-1,1,color=\"blue\");h=plot(-g,x,0,20,color=\"green\")\n",
    "show(p+q+o+h,aspect_ratio=1,gridlines=\"minor\",frame=True)"
   ]
  },
  {
   "cell_type": "code",
   "execution_count": null,
   "metadata": {},
   "outputs": [],
   "source": []
  }
 ],
 "metadata": {
  "kernelspec": {
   "display_name": "SageMath 9.2",
   "language": "sage",
   "name": "sagemath"
  },
  "language_info": {
   "codemirror_mode": {
    "name": "ipython",
    "version": 3
   },
   "file_extension": ".py",
   "mimetype": "text/x-python",
   "name": "python",
   "nbconvert_exporter": "python",
   "pygments_lexer": "ipython3",
   "version": "3.7.7"
  }
 },
 "nbformat": 4,
 "nbformat_minor": 4
}
