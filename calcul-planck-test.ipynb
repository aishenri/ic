{
 "cells": [
  {
   "cell_type": "code",
   "execution_count": 95,
   "id": "defined-answer",
   "metadata": {},
   "outputs": [
    {
     "data": {
      "text/plain": [
       "4.05617977528090e-15"
      ]
     },
     "execution_count": 95,
     "metadata": {},
     "output_type": "execute_result"
    }
   ],
   "source": [
    "p=(2-1.278)/(6.4-4.62)*1E-14;p"
   ]
  },
  {
   "cell_type": "code",
   "execution_count": 151,
   "id": "patent-trouble",
   "metadata": {},
   "outputs": [
    {
     "data": {
      "text/plain": [
       "6.62664816099931e-34"
      ]
     },
     "execution_count": 151,
     "metadata": {},
     "output_type": "execute_result"
    }
   ],
   "source": [
    "p=(2-1.28)/(6.3-4.5708)*1E-14;\n",
    "p*1.5915E-19"
   ]
  },
  {
   "cell_type": "code",
   "execution_count": 64,
   "id": "intellectual-turkey",
   "metadata": {},
   "outputs": [
    {
     "data": {
      "text/plain": [
       "6.62625600000000e-34"
      ]
     },
     "execution_count": 64,
     "metadata": {},
     "output_type": "execute_result"
    }
   ],
   "source": [
    "4.14141E-15*1.6E-19"
   ]
  },
  {
   "cell_type": "code",
   "execution_count": 92,
   "id": "signal-exchange",
   "metadata": {},
   "outputs": [
    {
     "data": {
      "text/plain": [
       "6.62636940000000e-34"
      ]
     },
     "execution_count": 92,
     "metadata": {},
     "output_type": "execute_result"
    }
   ],
   "source": [
    "4.16360E-15*1.5915E-19"
   ]
  },
  {
   "cell_type": "code",
   "execution_count": 152,
   "id": "ethical-phrase",
   "metadata": {},
   "outputs": [
    {
     "data": {
      "text/plain": [
       "1.59158623850875"
      ]
     },
     "execution_count": 152,
     "metadata": {},
     "output_type": "execute_result"
    }
   ],
   "source": [
    "1/(3.14152)/2*10"
   ]
  },
  {
   "cell_type": "code",
   "execution_count": null,
   "id": "greenhouse-torture",
   "metadata": {},
   "outputs": [],
   "source": []
  }
 ],
 "metadata": {
  "kernelspec": {
   "display_name": "SageMath 9.2",
   "language": "sage",
   "name": "sagemath"
  },
  "language_info": {
   "codemirror_mode": {
    "name": "ipython",
    "version": 3
   },
   "file_extension": ".py",
   "mimetype": "text/x-python",
   "name": "python",
   "nbconvert_exporter": "python",
   "pygments_lexer": "ipython3",
   "version": "3.9.4"
  }
 },
 "nbformat": 4,
 "nbformat_minor": 5
}
